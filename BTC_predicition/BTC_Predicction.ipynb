{
  "cells": [
    {
      "cell_type": "code",
      "execution_count": 66,
      "metadata": {
        "id": "GSKUJtzapjCZ"
      },
      "outputs": [],
      "source": [
        "import warnings\n",
        "warnings.filterwarnings('ignore')\n",
        "%matplotlib inline\n",
        "\n",
        "from pathlib import Path\n",
        "\n",
        "import numpy as np\n",
        "import pandas as pd\n",
        "import pandas_datareader.data as web\n",
        "from scipy.stats import spearmanr\n",
        "\n",
        "from sklearn.metrics import mean_squared_error\n",
        "from sklearn.preprocessing import MinMaxScaler\n",
        "\n",
        "import tensorflow as tf\n",
        "from tensorflow.keras.callbacks import ModelCheckpoint, EarlyStopping\n",
        "from tensorflow.keras.models import Sequential\n",
        "from tensorflow.keras.layers import Dense, LSTM\n",
        "from tensorflow import keras\n",
        "\n",
        "import matplotlib.pyplot as plt\n",
        "import seaborn as sns\n",
        "import pickle"
      ]
    },
    {
      "cell_type": "code",
      "execution_count": 2,
      "metadata": {
        "colab": {
          "base_uri": "https://localhost:8080/"
        },
        "id": "YMxvL2YTpleN",
        "outputId": "4bd7379b-07ac-4580-bde6-1da50bed3de2"
      },
      "outputs": [
        {
          "name": "stdout",
          "output_type": "stream",
          "text": [
            "Using CPU\n"
          ]
        }
      ],
      "source": [
        "gpu_devices = tf.config.experimental.list_physical_devices('GPU')\n",
        "if gpu_devices:\n",
        "    print('Using GPU')\n",
        "    tf.config.experimental.set_memory_growth(gpu_devices[0], True)\n",
        "else:\n",
        "    print('Using CPU')"
      ]
    },
    {
      "cell_type": "code",
      "execution_count": 3,
      "metadata": {
        "id": "jXee_81apnEq"
      },
      "outputs": [],
      "source": [
        "sns.set_style('whitegrid')\n",
        "np.random.seed(42)"
      ]
    },
    {
      "cell_type": "code",
      "execution_count": 4,
      "metadata": {
        "id": "3SCYpPkwprMa"
      },
      "outputs": [],
      "source": [
        "results_path = Path('results', 'univariate_time_series')\n",
        "if not results_path.exists():\n",
        "    results_path.mkdir(parents=True)"
      ]
    },
    {
      "cell_type": "code",
      "execution_count": 90,
      "metadata": {
        "colab": {
          "base_uri": "https://localhost:8080/",
          "height": 255
        },
        "id": "LPY84VEppvCu",
        "outputId": "04eb8477-32a9-4966-b860-80e113d8e549"
      },
      "outputs": [
        {
          "name": "stdout",
          "output_type": "stream",
          "text": [
            "[*********************100%***********************]  1 of 1 completed\n"
          ]
        },
        {
          "data": {
            "text/html": [
              "<div>\n",
              "<style scoped>\n",
              "    .dataframe tbody tr th:only-of-type {\n",
              "        vertical-align: middle;\n",
              "    }\n",
              "\n",
              "    .dataframe tbody tr th {\n",
              "        vertical-align: top;\n",
              "    }\n",
              "\n",
              "    .dataframe thead th {\n",
              "        text-align: right;\n",
              "    }\n",
              "</style>\n",
              "<table border=\"1\" class=\"dataframe\">\n",
              "  <thead>\n",
              "    <tr style=\"text-align: right;\">\n",
              "      <th></th>\n",
              "      <th>BTC</th>\n",
              "    </tr>\n",
              "    <tr>\n",
              "      <th>Date</th>\n",
              "      <th></th>\n",
              "    </tr>\n",
              "  </thead>\n",
              "  <tbody>\n",
              "    <tr>\n",
              "      <th>2014-09-15</th>\n",
              "      <td>398.821014</td>\n",
              "    </tr>\n",
              "    <tr>\n",
              "      <th>2014-09-22</th>\n",
              "      <td>377.181000</td>\n",
              "    </tr>\n",
              "    <tr>\n",
              "      <th>2014-09-29</th>\n",
              "      <td>320.510010</td>\n",
              "    </tr>\n",
              "    <tr>\n",
              "      <th>2014-10-06</th>\n",
              "      <td>378.549011</td>\n",
              "    </tr>\n",
              "    <tr>\n",
              "      <th>2014-10-13</th>\n",
              "      <td>389.545990</td>\n",
              "    </tr>\n",
              "  </tbody>\n",
              "</table>\n",
              "</div>"
            ],
            "text/plain": [
              "                   BTC\n",
              "Date                  \n",
              "2014-09-15  398.821014\n",
              "2014-09-22  377.181000\n",
              "2014-09-29  320.510010\n",
              "2014-10-06  378.549011\n",
              "2014-10-13  389.545990"
            ]
          },
          "execution_count": 90,
          "metadata": {},
          "output_type": "execute_result"
        }
      ],
      "source": [
        "import yfinance as yf\n",
        "\n",
        "data = yf.download(\"BTC-USD\", interval=\"1wk\")[[\"Close\"]].dropna()\n",
        "data.columns = [\"BTC\"]\n",
        "data.head()"
      ]
    },
    {
      "cell_type": "code",
      "execution_count": 91,
      "metadata": {
        "colab": {
          "base_uri": "https://localhost:8080/",
          "height": 238
        },
        "id": "DG7pYImH0VyK",
        "outputId": "9776b592-e99f-41b9-b776-8e0598e380e6"
      },
      "outputs": [
        {
          "data": {
            "text/html": [
              "<div>\n",
              "<style scoped>\n",
              "    .dataframe tbody tr th:only-of-type {\n",
              "        vertical-align: middle;\n",
              "    }\n",
              "\n",
              "    .dataframe tbody tr th {\n",
              "        vertical-align: top;\n",
              "    }\n",
              "\n",
              "    .dataframe thead th {\n",
              "        text-align: right;\n",
              "    }\n",
              "</style>\n",
              "<table border=\"1\" class=\"dataframe\">\n",
              "  <thead>\n",
              "    <tr style=\"text-align: right;\">\n",
              "      <th></th>\n",
              "      <th>BTC</th>\n",
              "    </tr>\n",
              "    <tr>\n",
              "      <th>Date</th>\n",
              "      <th></th>\n",
              "    </tr>\n",
              "  </thead>\n",
              "  <tbody>\n",
              "    <tr>\n",
              "      <th>2024-06-03</th>\n",
              "      <td>69647.992188</td>\n",
              "    </tr>\n",
              "    <tr>\n",
              "      <th>2024-06-10</th>\n",
              "      <td>66639.046875</td>\n",
              "    </tr>\n",
              "    <tr>\n",
              "      <th>2024-06-17</th>\n",
              "      <td>63180.796875</td>\n",
              "    </tr>\n",
              "    <tr>\n",
              "      <th>2024-06-24</th>\n",
              "      <td>62678.292969</td>\n",
              "    </tr>\n",
              "    <tr>\n",
              "      <th>2024-07-01</th>\n",
              "      <td>58303.539062</td>\n",
              "    </tr>\n",
              "  </tbody>\n",
              "</table>\n",
              "</div>"
            ],
            "text/plain": [
              "                     BTC\n",
              "Date                    \n",
              "2024-06-03  69647.992188\n",
              "2024-06-10  66639.046875\n",
              "2024-06-17  63180.796875\n",
              "2024-06-24  62678.292969\n",
              "2024-07-01  58303.539062"
            ]
          },
          "execution_count": 91,
          "metadata": {},
          "output_type": "execute_result"
        }
      ],
      "source": [
        "data = data.drop(data.index[-1])\n",
        "\n",
        "data.tail()"
      ]
    },
    {
      "cell_type": "code",
      "execution_count": 92,
      "metadata": {},
      "outputs": [],
      "source": [
        "data_path = Path('data')\n",
        "if not data_path.exists():\n",
        "    data_path.mkdir(parents=True)"
      ]
    },
    {
      "cell_type": "code",
      "execution_count": 93,
      "metadata": {},
      "outputs": [],
      "source": [
        "\n",
        "data_path = (data_path / 'btc_data.csv').as_posix()\n",
        "data.to_csv(data_path)"
      ]
    },
    {
      "cell_type": "code",
      "execution_count": 9,
      "metadata": {
        "colab": {
          "base_uri": "https://localhost:8080/",
          "height": 391
        },
        "id": "rHrCG_mUqBch",
        "outputId": "3acaeb6c-bee2-4dc7-9073-df586c2960b0"
      },
      "outputs": [
        {
          "data": {
            "image/png": "[encoded data removed]",
            "text/plain": [
              "<Figure size 1400x400 with 1 Axes>"
            ]
          },
          "metadata": {},
          "output_type": "display_data"
        }
      ],
      "source": [
        "ax = data.plot(title='BTC/USD',\n",
        "           legend=False,\n",
        "           figsize=(14, 4),\n",
        "           rot=0)\n",
        "ax.set_xlabel('')\n",
        "sns.despine()"
      ]
    },
    {
      "cell_type": "markdown",
      "metadata": {
        "id": "PSEHpI5WqS3d"
      },
      "source": [
        "### Preprocessing"
      ]
    },
    {
      "cell_type": "code",
      "execution_count": 10,
      "metadata": {
        "id": "hdz0fnDRqLpl"
      },
      "outputs": [],
      "source": [
        "scaler = MinMaxScaler()"
      ]
    },
    {
      "cell_type": "code",
      "execution_count": 67,
      "metadata": {},
      "outputs": [],
      "source": [
        "# Save the scaler object into binary file\n",
        "rnn_path = (results_path / 'scaler.pkl').as_posix()\n",
        "with open(rnn_path, 'wb') as file:\n",
        "    pickle.dump(scaler, file)"
      ]
    },
    {
      "cell_type": "code",
      "execution_count": 11,
      "metadata": {
        "colab": {
          "base_uri": "https://localhost:8080/"
        },
        "id": "Kmq07cPfqR_F",
        "outputId": "d1e8ca16-f674-4ec6-b7e9-5dc1421de848"
      },
      "outputs": [
        {
          "data": {
            "text/plain": [
              "count    512.000000\n",
              "mean       0.235925\n",
              "std        0.265592\n",
              "min        0.000000\n",
              "25%        0.011737\n",
              "50%        0.120721\n",
              "75%        0.390801\n",
              "max        1.000000\n",
              "dtype: float64"
            ]
          },
          "execution_count": 11,
          "metadata": {},
          "output_type": "execute_result"
        }
      ],
      "source": [
        "data_scaled = pd.Series(scaler.fit_transform(data).squeeze(),\n",
        "                         index=data.index)\n",
        "data_scaled.describe()"
      ]
    },
    {
      "cell_type": "code",
      "execution_count": 12,
      "metadata": {
        "colab": {
          "base_uri": "https://localhost:8080/"
        },
        "id": "VNvCTkXdqdrl",
        "outputId": "8b4ad9ce-c5d5-4964-e77e-acdb74fd65c7"
      },
      "outputs": [
        {
          "data": {
            "text/plain": [
              "(512,)"
            ]
          },
          "execution_count": 12,
          "metadata": {},
          "output_type": "execute_result"
        }
      ],
      "source": [
        "data_scaled.shape"
      ]
    },
    {
      "cell_type": "markdown",
      "metadata": {
        "id": "gmI0dJy7rm4g"
      },
      "source": [
        "For window size $S$, the relationship takes the form\n",
        "\n",
        "$ x_t = f(x_{t-1}, x_{t-2}, \\ldots, x_{t-S}) \\quad \\forall t = S, S+1, \\ldots, T $\n",
        "\n",
        "Each of the $T - S$ lagged input sequence or vector is of length $S$ with a corresponding scalar output.\n",
        "\n"
      ]
    },
    {
      "cell_type": "code",
      "execution_count": 13,
      "metadata": {
        "id": "OArYYvpOroxd"
      },
      "outputs": [],
      "source": [
        "def create_univariate_rnn_data(data, window_size):\n",
        "    n = len(data)\n",
        "    y = data[window_size:]\n",
        "    data = data.values.reshape(-1, 1) # make 2D\n",
        "    X = np.hstack(tuple([data[i: n-j, :] for i, j in enumerate(range(window_size, 0, -1))]))\n",
        "    return pd.DataFrame(X, index=y.index), y"
      ]
    },
    {
      "cell_type": "code",
      "execution_count": 14,
      "metadata": {
        "colab": {
          "base_uri": "https://localhost:8080/",
          "height": 344
        },
        "id": "MoRT5ridr4RW",
        "outputId": "1a6af2d1-8fa7-424c-c1ba-f21a4e13722a"
      },
      "outputs": [
        {
          "data": {
            "text/html": [
              "<div>\n",
              "<style scoped>\n",
              "    .dataframe tbody tr th:only-of-type {\n",
              "        vertical-align: middle;\n",
              "    }\n",
              "\n",
              "    .dataframe tbody tr th {\n",
              "        vertical-align: top;\n",
              "    }\n",
              "\n",
              "    .dataframe thead th {\n",
              "        text-align: right;\n",
              "    }\n",
              "</style>\n",
              "<table border=\"1\" class=\"dataframe\">\n",
              "  <thead>\n",
              "    <tr style=\"text-align: right;\">\n",
              "      <th></th>\n",
              "      <th>0</th>\n",
              "      <th>1</th>\n",
              "      <th>2</th>\n",
              "      <th>3</th>\n",
              "      <th>4</th>\n",
              "      <th>5</th>\n",
              "      <th>6</th>\n",
              "      <th>7</th>\n",
              "      <th>8</th>\n",
              "      <th>9</th>\n",
              "      <th>10</th>\n",
              "      <th>11</th>\n",
              "      <th>12</th>\n",
              "      <th>13</th>\n",
              "      <th>14</th>\n",
              "      <th>15</th>\n",
              "      <th>16</th>\n",
              "      <th>17</th>\n",
              "      <th>18</th>\n",
              "      <th>19</th>\n",
              "    </tr>\n",
              "    <tr>\n",
              "      <th>Date</th>\n",
              "      <th></th>\n",
              "      <th></th>\n",
              "      <th></th>\n",
              "      <th></th>\n",
              "      <th></th>\n",
              "      <th></th>\n",
              "      <th></th>\n",
              "      <th></th>\n",
              "      <th></th>\n",
              "      <th></th>\n",
              "      <th></th>\n",
              "      <th></th>\n",
              "      <th></th>\n",
              "      <th></th>\n",
              "      <th></th>\n",
              "      <th></th>\n",
              "      <th></th>\n",
              "      <th></th>\n",
              "      <th></th>\n",
              "      <th></th>\n",
              "    </tr>\n",
              "  </thead>\n",
              "  <tbody>\n",
              "    <tr>\n",
              "      <th>2015-02-02</th>\n",
              "      <td>0.002650</td>\n",
              "      <td>0.002346</td>\n",
              "      <td>0.001549</td>\n",
              "      <td>0.002365</td>\n",
              "      <td>0.002520</td>\n",
              "      <td>0.002030</td>\n",
              "      <td>0.001625</td>\n",
              "      <td>0.002150</td>\n",
              "      <td>0.002496</td>\n",
              "      <td>0.002211</td>\n",
              "      <td>0.002358</td>\n",
              "      <td>0.002316</td>\n",
              "      <td>0.001987</td>\n",
              "      <td>0.001554</td>\n",
              "      <td>0.001503</td>\n",
              "      <td>0.000757</td>\n",
              "      <td>0.000778</td>\n",
              "      <td>0.000000</td>\n",
              "      <td>0.000610</td>\n",
              "      <td>0.000234</td>\n",
              "    </tr>\n",
              "    <tr>\n",
              "      <th>2015-02-09</th>\n",
              "      <td>0.002346</td>\n",
              "      <td>0.001549</td>\n",
              "      <td>0.002365</td>\n",
              "      <td>0.002520</td>\n",
              "      <td>0.002030</td>\n",
              "      <td>0.001625</td>\n",
              "      <td>0.002150</td>\n",
              "      <td>0.002496</td>\n",
              "      <td>0.002211</td>\n",
              "      <td>0.002358</td>\n",
              "      <td>0.002316</td>\n",
              "      <td>0.001987</td>\n",
              "      <td>0.001554</td>\n",
              "      <td>0.001503</td>\n",
              "      <td>0.000757</td>\n",
              "      <td>0.000778</td>\n",
              "      <td>0.000000</td>\n",
              "      <td>0.000610</td>\n",
              "      <td>0.000234</td>\n",
              "      <td>0.000184</td>\n",
              "    </tr>\n",
              "    <tr>\n",
              "      <th>2015-02-16</th>\n",
              "      <td>0.001549</td>\n",
              "      <td>0.002365</td>\n",
              "      <td>0.002520</td>\n",
              "      <td>0.002030</td>\n",
              "      <td>0.001625</td>\n",
              "      <td>0.002150</td>\n",
              "      <td>0.002496</td>\n",
              "      <td>0.002211</td>\n",
              "      <td>0.002358</td>\n",
              "      <td>0.002316</td>\n",
              "      <td>0.001987</td>\n",
              "      <td>0.001554</td>\n",
              "      <td>0.001503</td>\n",
              "      <td>0.000757</td>\n",
              "      <td>0.000778</td>\n",
              "      <td>0.000000</td>\n",
              "      <td>0.000610</td>\n",
              "      <td>0.000234</td>\n",
              "      <td>0.000184</td>\n",
              "      <td>0.000344</td>\n",
              "    </tr>\n",
              "    <tr>\n",
              "      <th>2015-02-23</th>\n",
              "      <td>0.002365</td>\n",
              "      <td>0.002520</td>\n",
              "      <td>0.002030</td>\n",
              "      <td>0.001625</td>\n",
              "      <td>0.002150</td>\n",
              "      <td>0.002496</td>\n",
              "      <td>0.002211</td>\n",
              "      <td>0.002358</td>\n",
              "      <td>0.002316</td>\n",
              "      <td>0.001987</td>\n",
              "      <td>0.001554</td>\n",
              "      <td>0.001503</td>\n",
              "      <td>0.000757</td>\n",
              "      <td>0.000778</td>\n",
              "      <td>0.000000</td>\n",
              "      <td>0.000610</td>\n",
              "      <td>0.000234</td>\n",
              "      <td>0.000184</td>\n",
              "      <td>0.000344</td>\n",
              "      <td>0.000360</td>\n",
              "    </tr>\n",
              "    <tr>\n",
              "      <th>2015-03-02</th>\n",
              "      <td>0.002520</td>\n",
              "      <td>0.002030</td>\n",
              "      <td>0.001625</td>\n",
              "      <td>0.002150</td>\n",
              "      <td>0.002496</td>\n",
              "      <td>0.002211</td>\n",
              "      <td>0.002358</td>\n",
              "      <td>0.002316</td>\n",
              "      <td>0.001987</td>\n",
              "      <td>0.001554</td>\n",
              "      <td>0.001503</td>\n",
              "      <td>0.000757</td>\n",
              "      <td>0.000778</td>\n",
              "      <td>0.000000</td>\n",
              "      <td>0.000610</td>\n",
              "      <td>0.000234</td>\n",
              "      <td>0.000184</td>\n",
              "      <td>0.000344</td>\n",
              "      <td>0.000360</td>\n",
              "      <td>0.000701</td>\n",
              "    </tr>\n",
              "  </tbody>\n",
              "</table>\n",
              "</div>"
            ],
            "text/plain": [
              "                  0         1         2         3         4         5    \n",
              "Date                                                                     \n",
              "2015-02-02  0.002650  0.002346  0.001549  0.002365  0.002520  0.002030  \\\n",
              "2015-02-09  0.002346  0.001549  0.002365  0.002520  0.002030  0.001625   \n",
              "2015-02-16  0.001549  0.002365  0.002520  0.002030  0.001625  0.002150   \n",
              "2015-02-23  0.002365  0.002520  0.002030  0.001625  0.002150  0.002496   \n",
              "2015-03-02  0.002520  0.002030  0.001625  0.002150  0.002496  0.002211   \n",
              "\n",
              "                  6         7         8         9         10        11   \n",
              "Date                                                                     \n",
              "2015-02-02  0.001625  0.002150  0.002496  0.002211  0.002358  0.002316  \\\n",
              "2015-02-09  0.002150  0.002496  0.002211  0.002358  0.002316  0.001987   \n",
              "2015-02-16  0.002496  0.002211  0.002358  0.002316  0.001987  0.001554   \n",
              "2015-02-23  0.002211  0.002358  0.002316  0.001987  0.001554  0.001503   \n",
              "2015-03-02  0.002358  0.002316  0.001987  0.001554  0.001503  0.000757   \n",
              "\n",
              "                  12        13        14        15        16        17   \n",
              "Date                                                                     \n",
              "2015-02-02  0.001987  0.001554  0.001503  0.000757  0.000778  0.000000  \\\n",
              "2015-02-09  0.001554  0.001503  0.000757  0.000778  0.000000  0.000610   \n",
              "2015-02-16  0.001503  0.000757  0.000778  0.000000  0.000610  0.000234   \n",
              "2015-02-23  0.000757  0.000778  0.000000  0.000610  0.000234  0.000184   \n",
              "2015-03-02  0.000778  0.000000  0.000610  0.000234  0.000184  0.000344   \n",
              "\n",
              "                  18        19  \n",
              "Date                            \n",
              "2015-02-02  0.000610  0.000234  \n",
              "2015-02-09  0.000234  0.000184  \n",
              "2015-02-16  0.000184  0.000344  \n",
              "2015-02-23  0.000344  0.000360  \n",
              "2015-03-02  0.000360  0.000701  "
            ]
          },
          "execution_count": 14,
          "metadata": {},
          "output_type": "execute_result"
        }
      ],
      "source": [
        "window_size = 20\n",
        "X, y = create_univariate_rnn_data(data_scaled, window_size=window_size)\n",
        "X.head()"
      ]
    },
    {
      "cell_type": "code",
      "execution_count": 15,
      "metadata": {
        "colab": {
          "base_uri": "https://localhost:8080/"
        },
        "id": "9N2Nl6QYsLYt",
        "outputId": "299d139b-74b2-4f6d-8973-4d0614816a81"
      },
      "outputs": [
        {
          "data": {
            "text/plain": [
              "Date\n",
              "2015-02-02    0.000184\n",
              "2015-02-09    0.000344\n",
              "2015-02-16    0.000360\n",
              "2015-02-23    0.000701\n",
              "2015-03-02    0.000900\n",
              "dtype: float64"
            ]
          },
          "execution_count": 15,
          "metadata": {},
          "output_type": "execute_result"
        }
      ],
      "source": [
        "y.head()"
      ]
    },
    {
      "cell_type": "markdown",
      "metadata": {
        "id": "wuDKpw8Tsacr"
      },
      "source": [
        "### Train-test split"
      ]
    },
    {
      "cell_type": "code",
      "execution_count": 16,
      "metadata": {
        "id": "8WlEzekkscLY"
      },
      "outputs": [],
      "source": [
        "# Percentage train set\n",
        "split = int(0.80*len(X))\n",
        "X_train, X_test = X[:split].values.reshape(-1, window_size, 1), X[split:].values.reshape(-1, window_size, 1)\n",
        "y_train, y_test = y[:split], y[split:]"
      ]
    },
    {
      "cell_type": "code",
      "execution_count": 17,
      "metadata": {
        "id": "yCRxJ-R7trBy"
      },
      "outputs": [],
      "source": [
        "n_obs, window_size, n_features = X_train.shape"
      ]
    },
    {
      "cell_type": "code",
      "execution_count": 18,
      "metadata": {
        "colab": {
          "base_uri": "https://localhost:8080/"
        },
        "id": "472V1J_nt2YO",
        "outputId": "b8fdfa2f-8ed6-48ab-cf67-ba4d115c8591"
      },
      "outputs": [
        {
          "name": "stdout",
          "output_type": "stream",
          "text": [
            "n_obs: 393\n",
            "window_size: 20\n",
            "n_features: 1\n"
          ]
        }
      ],
      "source": [
        "print(f'n_obs: {n_obs}')\n",
        "print(f'window_size: {window_size}')\n",
        "print(f'n_features: {n_features}')"
      ]
    },
    {
      "cell_type": "markdown",
      "metadata": {
        "id": "wCBEQaqitNlV"
      },
      "source": [
        "### Define the Model Architecture"
      ]
    },
    {
      "cell_type": "markdown",
      "metadata": {
        "id": "BD7kr5BqtIuf"
      },
      "source": [
        "Having created input/output pairs out of our time series and cut this into training/testing sets, we can now begin setting up our RNN. We use Keras to quickly build a two hidden layer RNN of the following specifications\n",
        "\n",
        "- layer 1 uses an LSTM module with 20 hidden units (note here the input_shape = (window_size,1))\n",
        "- layer 2 uses a fully connected module with one unit\n",
        "- the `mean_squared_error` loss should be used (remember: we are performing regression here)\n"
      ]
    },
    {
      "cell_type": "code",
      "execution_count": 22,
      "metadata": {
        "id": "5utqCnivtJot"
      },
      "outputs": [],
      "source": [
        "rnn = Sequential([\n",
        "    LSTM(units=15,\n",
        "         input_shape=(window_size, n_features), name='LSTM'),\n",
        "    Dense(1, name='Output')\n",
        "])"
      ]
    },
    {
      "cell_type": "code",
      "execution_count": 23,
      "metadata": {
        "colab": {
          "base_uri": "https://localhost:8080/"
        },
        "id": "ud3WR4AbtZhe",
        "outputId": "b5ab86f5-83bf-4f66-f20b-9b379888bb36"
      },
      "outputs": [
        {
          "name": "stdout",
          "output_type": "stream",
          "text": [
            "Model: \"sequential_3\"\n",
            "_________________________________________________________________\n",
            " Layer (type)                Output Shape              Param #   \n",
            "=================================================================\n",
            " LSTM (LSTM)                 (None, 15)                1020      \n",
            "                                                                 \n",
            " Output (Dense)              (None, 1)                 16        \n",
            "                                                                 \n",
            "=================================================================\n",
            "Total params: 1,036\n",
            "Trainable params: 1,036\n",
            "Non-trainable params: 0\n",
            "_________________________________________________________________\n"
          ]
        }
      ],
      "source": [
        "rnn.summary()"
      ]
    },
    {
      "cell_type": "markdown",
      "metadata": {
        "id": "VYv2ZrthuQjK"
      },
      "source": [
        "### Train the Model"
      ]
    },
    {
      "cell_type": "markdown",
      "metadata": {
        "id": "ONXOEHBGubm4"
      },
      "source": [
        "We train the model using the RMSProp optimizer recommended for RNN with default settings and compile the model with mean squared error for this regression problem:\n"
      ]
    },
    {
      "cell_type": "code",
      "execution_count": 24,
      "metadata": {
        "id": "VoqsvLVPuRql"
      },
      "outputs": [],
      "source": [
        "optimizer = keras.optimizers.RMSprop(learning_rate=0.001,\n",
        "                                     rho=0.9,\n",
        "                                     epsilon=1e-08)"
      ]
    },
    {
      "cell_type": "code",
      "execution_count": 25,
      "metadata": {
        "id": "x-oVeCOIuxR2"
      },
      "outputs": [],
      "source": [
        "rnn.compile(loss='mean_squared_error',\n",
        "            optimizer=optimizer)"
      ]
    },
    {
      "cell_type": "markdown",
      "metadata": {
        "id": "xXlq5nh0u2Qe"
      },
      "source": [
        "We define an EarlyStopping callback and train the model for up to 100 episodes."
      ]
    },
    {
      "cell_type": "code",
      "execution_count": 26,
      "metadata": {
        "id": "BuKJGPn6ug_O"
      },
      "outputs": [],
      "source": [
        "rnn_path = (results_path / 'rnn.h5').as_posix()\n",
        "checkpointer = ModelCheckpoint(filepath=rnn_path,\n",
        "                               verbose=1,\n",
        "                               monitor='val_loss',\n",
        "                               save_best_only=True)"
      ]
    },
    {
      "cell_type": "code",
      "execution_count": 27,
      "metadata": {
        "id": "QizxAoADu__o"
      },
      "outputs": [],
      "source": [
        "early_stopping = EarlyStopping(monitor='val_loss',\n",
        "                              patience=20,\n",
        "                              restore_best_weights=True)"
      ]
    },
    {
      "cell_type": "code",
      "execution_count": 28,
      "metadata": {
        "colab": {
          "base_uri": "https://localhost:8080/"
        },
        "id": "7V5eBzLtvIzG",
        "outputId": "08656ed3-1df5-4cac-f4f3-727e6703c43e"
      },
      "outputs": [
        {
          "name": "stdout",
          "output_type": "stream",
          "text": [
            "Epoch 1/150\n",
            "19/20 [===========================>..] - ETA: 0s - loss: 0.0489\n",
            "Epoch 1: val_loss improved from inf to 0.07154, saving model to results/univariate_time_series\\rnn.h5\n",
            "20/20 [==============================] - 12s 117ms/step - loss: 0.0479 - val_loss: 0.0715\n",
            "Epoch 2/150\n",
            "18/20 [==========================>...] - ETA: 0s - loss: 0.0159\n",
            "Epoch 2: val_loss improved from 0.07154 to 0.02184, saving model to results/univariate_time_series\\rnn.h5\n",
            "20/20 [==============================] - 1s 26ms/step - loss: 0.0151 - val_loss: 0.0218\n",
            "Epoch 3/150\n",
            "17/20 [========================>.....] - ETA: 0s - loss: 0.0066\n",
            "Epoch 3: val_loss improved from 0.02184 to 0.01022, saving model to results/univariate_time_series\\rnn.h5\n",
            "20/20 [==============================] - 0s 22ms/step - loss: 0.0070 - val_loss: 0.0102\n",
            "Epoch 4/150\n",
            "16/20 [=======================>......] - ETA: 0s - loss: 0.0058\n",
            "Epoch 4: val_loss did not improve from 0.01022\n",
            "20/20 [==============================] - 0s 18ms/step - loss: 0.0059 - val_loss: 0.0133\n",
            "Epoch 5/150\n",
            "16/20 [=======================>......] - ETA: 0s - loss: 0.0062\n",
            "Epoch 5: val_loss did not improve from 0.01022\n",
            "20/20 [==============================] - 0s 15ms/step - loss: 0.0056 - val_loss: 0.0129\n",
            "Epoch 6/150\n",
            "19/20 [===========================>..] - ETA: 0s - loss: 0.0050\n",
            "Epoch 6: val_loss improved from 0.01022 to 0.00594, saving model to results/univariate_time_series\\rnn.h5\n",
            "20/20 [==============================] - 0s 20ms/step - loss: 0.0050 - val_loss: 0.0059\n",
            "Epoch 7/150\n",
            "18/20 [==========================>...] - ETA: 0s - loss: 0.0052\n",
            "Epoch 7: val_loss did not improve from 0.00594\n",
            "20/20 [==============================] - 0s 18ms/step - loss: 0.0049 - val_loss: 0.0071\n",
            "Epoch 8/150\n",
            "17/20 [========================>.....] - ETA: 0s - loss: 0.0047\n",
            "Epoch 8: val_loss did not improve from 0.00594\n",
            "20/20 [==============================] - 0s 15ms/step - loss: 0.0045 - val_loss: 0.0070\n",
            "Epoch 9/150\n",
            "18/20 [==========================>...] - ETA: 0s - loss: 0.0041\n",
            "Epoch 9: val_loss improved from 0.00594 to 0.00520, saving model to results/univariate_time_series\\rnn.h5\n",
            "20/20 [==============================] - 0s 20ms/step - loss: 0.0041 - val_loss: 0.0052\n",
            "Epoch 10/150\n",
            "18/20 [==========================>...] - ETA: 0s - loss: 0.0041\n",
            "Epoch 10: val_loss improved from 0.00520 to 0.00504, saving model to results/univariate_time_series\\rnn.h5\n",
            "20/20 [==============================] - 0s 24ms/step - loss: 0.0039 - val_loss: 0.0050\n",
            "Epoch 11/150\n",
            "18/20 [==========================>...] - ETA: 0s - loss: 0.0034\n",
            "Epoch 11: val_loss did not improve from 0.00504\n",
            "20/20 [==============================] - 0s 14ms/step - loss: 0.0034 - val_loss: 0.0076\n",
            "Epoch 12/150\n",
            "20/20 [==============================] - ETA: 0s - loss: 0.0033\n",
            "Epoch 12: val_loss improved from 0.00504 to 0.00483, saving model to results/univariate_time_series\\rnn.h5\n",
            "20/20 [==============================] - 0s 20ms/step - loss: 0.0033 - val_loss: 0.0048\n",
            "Epoch 13/150\n",
            "18/20 [==========================>...] - ETA: 0s - loss: 0.0029\n",
            "Epoch 13: val_loss improved from 0.00483 to 0.00363, saving model to results/univariate_time_series\\rnn.h5\n",
            "20/20 [==============================] - 0s 20ms/step - loss: 0.0030 - val_loss: 0.0036\n",
            "Epoch 14/150\n",
            "15/20 [=====================>........] - ETA: 0s - loss: 0.0028\n",
            "Epoch 14: val_loss did not improve from 0.00363\n",
            "20/20 [==============================] - 0s 15ms/step - loss: 0.0027 - val_loss: 0.0093\n",
            "Epoch 15/150\n",
            "20/20 [==============================] - ETA: 0s - loss: 0.0027\n",
            "Epoch 15: val_loss did not improve from 0.00363\n",
            "20/20 [==============================] - 0s 18ms/step - loss: 0.0027 - val_loss: 0.0044\n",
            "Epoch 16/150\n",
            "16/20 [=======================>......] - ETA: 0s - loss: 0.0026\n",
            "Epoch 16: val_loss did not improve from 0.00363\n",
            "20/20 [==============================] - 0s 16ms/step - loss: 0.0025 - val_loss: 0.0040\n",
            "Epoch 17/150\n",
            "18/20 [==========================>...] - ETA: 0s - loss: 0.0022\n",
            "Epoch 17: val_loss improved from 0.00363 to 0.00304, saving model to results/univariate_time_series\\rnn.h5\n",
            "20/20 [==============================] - 0s 25ms/step - loss: 0.0023 - val_loss: 0.0030\n",
            "Epoch 18/150\n",
            "20/20 [==============================] - ETA: 0s - loss: 0.0022\n",
            "Epoch 18: val_loss did not improve from 0.00304\n",
            "20/20 [==============================] - 0s 21ms/step - loss: 0.0022 - val_loss: 0.0036\n",
            "Epoch 19/150\n",
            "20/20 [==============================] - ETA: 0s - loss: 0.0020 \n",
            "Epoch 19: val_loss did not improve from 0.00304\n",
            "20/20 [==============================] - 0s 22ms/step - loss: 0.0020 - val_loss: 0.0034\n",
            "Epoch 20/150\n",
            "18/20 [==========================>...] - ETA: 0s - loss: 0.0020\n",
            "Epoch 20: val_loss did not improve from 0.00304\n",
            "20/20 [==============================] - 0s 14ms/step - loss: 0.0020 - val_loss: 0.0041\n",
            "Epoch 21/150\n",
            "18/20 [==========================>...] - ETA: 0s - loss: 0.0020\n",
            "Epoch 21: val_loss did not improve from 0.00304\n",
            "20/20 [==============================] - 0s 14ms/step - loss: 0.0019 - val_loss: 0.0043\n",
            "Epoch 22/150\n",
            "17/20 [========================>.....] - ETA: 0s - loss: 0.0017\n",
            "Epoch 22: val_loss improved from 0.00304 to 0.00284, saving model to results/univariate_time_series\\rnn.h5\n",
            "20/20 [==============================] - 0s 17ms/step - loss: 0.0018 - val_loss: 0.0028\n",
            "Epoch 23/150\n",
            "18/20 [==========================>...] - ETA: 0s - loss: 0.0017  \n",
            "Epoch 23: val_loss did not improve from 0.00284\n",
            "20/20 [==============================] - 0s 14ms/step - loss: 0.0018 - val_loss: 0.0051\n",
            "Epoch 24/150\n",
            "19/20 [===========================>..] - ETA: 0s - loss: 0.0017\n",
            "Epoch 24: val_loss improved from 0.00284 to 0.00284, saving model to results/univariate_time_series\\rnn.h5\n",
            "20/20 [==============================] - 0s 23ms/step - loss: 0.0018 - val_loss: 0.0028\n",
            "Epoch 25/150\n",
            "17/20 [========================>.....] - ETA: 0s - loss: 0.0018\n",
            "Epoch 25: val_loss did not improve from 0.00284\n",
            "20/20 [==============================] - 0s 17ms/step - loss: 0.0017 - val_loss: 0.0037\n",
            "Epoch 26/150\n",
            "18/20 [==========================>...] - ETA: 0s - loss: 0.0017\n",
            "Epoch 26: val_loss did not improve from 0.00284\n",
            "20/20 [==============================] - 1s 45ms/step - loss: 0.0017 - val_loss: 0.0033\n",
            "Epoch 27/150\n",
            "18/20 [==========================>...] - ETA: 0s - loss: 0.0015 \n",
            "Epoch 27: val_loss did not improve from 0.00284\n",
            "20/20 [==============================] - 0s 18ms/step - loss: 0.0015 - val_loss: 0.0030\n",
            "Epoch 28/150\n",
            "18/20 [==========================>...] - ETA: 0s - loss: 0.0017\n",
            "Epoch 28: val_loss improved from 0.00284 to 0.00272, saving model to results/univariate_time_series\\rnn.h5\n",
            "20/20 [==============================] - 1s 45ms/step - loss: 0.0016 - val_loss: 0.0027\n",
            "Epoch 29/150\n",
            "17/20 [========================>.....] - ETA: 0s - loss: 0.0015\n",
            "Epoch 29: val_loss did not improve from 0.00272\n",
            "20/20 [==============================] - 0s 14ms/step - loss: 0.0015 - val_loss: 0.0034\n",
            "Epoch 30/150\n",
            "20/20 [==============================] - ETA: 0s - loss: 0.0015\n",
            "Epoch 30: val_loss did not improve from 0.00272\n",
            "20/20 [==============================] - 0s 23ms/step - loss: 0.0015 - val_loss: 0.0028\n",
            "Epoch 31/150\n",
            "17/20 [========================>.....] - ETA: 0s - loss: 0.0016\n",
            "Epoch 31: val_loss did not improve from 0.00272\n",
            "20/20 [==============================] - 0s 22ms/step - loss: 0.0015 - val_loss: 0.0033\n",
            "Epoch 32/150\n",
            "20/20 [==============================] - ETA: 0s - loss: 0.0015  \n",
            "Epoch 32: val_loss did not improve from 0.00272\n",
            "20/20 [==============================] - 0s 16ms/step - loss: 0.0015 - val_loss: 0.0036\n",
            "Epoch 33/150\n",
            "18/20 [==========================>...] - ETA: 0s - loss: 0.0015   \n",
            "Epoch 33: val_loss did not improve from 0.00272\n",
            "20/20 [==============================] - 0s 15ms/step - loss: 0.0015 - val_loss: 0.0027\n",
            "Epoch 34/150\n",
            "20/20 [==============================] - ETA: 0s - loss: 0.0015\n",
            "Epoch 34: val_loss did not improve from 0.00272\n",
            "20/20 [==============================] - 0s 25ms/step - loss: 0.0015 - val_loss: 0.0032\n",
            "Epoch 35/150\n",
            "20/20 [==============================] - ETA: 0s - loss: 0.0014 \n",
            "Epoch 35: val_loss did not improve from 0.00272\n",
            "20/20 [==============================] - 0s 18ms/step - loss: 0.0014 - val_loss: 0.0027\n",
            "Epoch 36/150\n",
            "20/20 [==============================] - ETA: 0s - loss: 0.0015\n",
            "Epoch 36: val_loss improved from 0.00272 to 0.00265, saving model to results/univariate_time_series\\rnn.h5\n",
            "20/20 [==============================] - 0s 18ms/step - loss: 0.0015 - val_loss: 0.0026\n",
            "Epoch 37/150\n",
            "20/20 [==============================] - ETA: 0s - loss: 0.0014  \n",
            "Epoch 37: val_loss did not improve from 0.00265\n",
            "20/20 [==============================] - 0s 20ms/step - loss: 0.0014 - val_loss: 0.0033\n",
            "Epoch 38/150\n",
            "20/20 [==============================] - ETA: 0s - loss: 0.0014 \n",
            "Epoch 38: val_loss did not improve from 0.00265\n",
            "20/20 [==============================] - 0s 17ms/step - loss: 0.0014 - val_loss: 0.0030\n",
            "Epoch 39/150\n",
            "19/20 [===========================>..] - ETA: 0s - loss: 0.0014\n",
            "Epoch 39: val_loss improved from 0.00265 to 0.00245, saving model to results/univariate_time_series\\rnn.h5\n",
            "20/20 [==============================] - 0s 20ms/step - loss: 0.0013 - val_loss: 0.0025\n",
            "Epoch 40/150\n",
            "16/20 [=======================>......] - ETA: 0s - loss: 0.0014\n",
            "Epoch 40: val_loss did not improve from 0.00245\n",
            "20/20 [==============================] - 0s 15ms/step - loss: 0.0014 - val_loss: 0.0027\n",
            "Epoch 41/150\n",
            "16/20 [=======================>......] - ETA: 0s - loss: 0.0015\n",
            "Epoch 41: val_loss did not improve from 0.00245\n",
            "20/20 [==============================] - 0s 14ms/step - loss: 0.0014 - val_loss: 0.0025\n",
            "Epoch 42/150\n",
            "18/20 [==========================>...] - ETA: 0s - loss: 0.0014\n",
            "Epoch 42: val_loss did not improve from 0.00245\n",
            "20/20 [==============================] - 0s 15ms/step - loss: 0.0014 - val_loss: 0.0039\n",
            "Epoch 43/150\n",
            "16/20 [=======================>......] - ETA: 0s - loss: 0.0014\n",
            "Epoch 43: val_loss did not improve from 0.00245\n",
            "20/20 [==============================] - 0s 16ms/step - loss: 0.0014 - val_loss: 0.0030\n",
            "Epoch 44/150\n",
            "20/20 [==============================] - ETA: 0s - loss: 0.0013  \n",
            "Epoch 44: val_loss did not improve from 0.00245\n",
            "20/20 [==============================] - 0s 17ms/step - loss: 0.0013 - val_loss: 0.0025\n",
            "Epoch 45/150\n",
            "19/20 [===========================>..] - ETA: 0s - loss: 0.0014\n",
            "Epoch 45: val_loss did not improve from 0.00245\n",
            "20/20 [==============================] - 0s 20ms/step - loss: 0.0013 - val_loss: 0.0025\n",
            "Epoch 46/150\n",
            "20/20 [==============================] - ETA: 0s - loss: 0.0013\n",
            "Epoch 46: val_loss did not improve from 0.00245\n",
            "20/20 [==============================] - 1s 28ms/step - loss: 0.0013 - val_loss: 0.0028\n",
            "Epoch 47/150\n",
            "20/20 [==============================] - ETA: 0s - loss: 0.0014\n",
            "Epoch 47: val_loss did not improve from 0.00245\n",
            "20/20 [==============================] - 0s 20ms/step - loss: 0.0014 - val_loss: 0.0025\n",
            "Epoch 48/150\n",
            "16/20 [=======================>......] - ETA: 0s - loss: 0.0014\n",
            "Epoch 48: val_loss improved from 0.00245 to 0.00240, saving model to results/univariate_time_series\\rnn.h5\n",
            "20/20 [==============================] - 0s 23ms/step - loss: 0.0013 - val_loss: 0.0024\n",
            "Epoch 49/150\n",
            "18/20 [==========================>...] - ETA: 0s - loss: 0.0014  \n",
            "Epoch 49: val_loss did not improve from 0.00240\n",
            "20/20 [==============================] - 0s 14ms/step - loss: 0.0014 - val_loss: 0.0026\n",
            "Epoch 50/150\n",
            "20/20 [==============================] - ETA: 0s - loss: 0.0013 \n",
            "Epoch 50: val_loss did not improve from 0.00240\n",
            "20/20 [==============================] - 0s 21ms/step - loss: 0.0013 - val_loss: 0.0025\n",
            "Epoch 51/150\n",
            "20/20 [==============================] - ETA: 0s - loss: 0.0013\n",
            "Epoch 51: val_loss did not improve from 0.00240\n",
            "20/20 [==============================] - 0s 18ms/step - loss: 0.0013 - val_loss: 0.0027\n",
            "Epoch 52/150\n",
            "19/20 [===========================>..] - ETA: 0s - loss: 0.0012\n",
            "Epoch 52: val_loss did not improve from 0.00240\n",
            "20/20 [==============================] - 0s 16ms/step - loss: 0.0013 - val_loss: 0.0041\n",
            "Epoch 53/150\n",
            "19/20 [===========================>..] - ETA: 0s - loss: 0.0013    \n",
            "Epoch 53: val_loss did not improve from 0.00240\n",
            "20/20 [==============================] - 0s 14ms/step - loss: 0.0014 - val_loss: 0.0024\n",
            "Epoch 54/150\n",
            "19/20 [===========================>..] - ETA: 0s - loss: 0.0012\n",
            "Epoch 54: val_loss did not improve from 0.00240\n",
            "20/20 [==============================] - 0s 13ms/step - loss: 0.0012 - val_loss: 0.0051\n",
            "Epoch 55/150\n",
            "18/20 [==========================>...] - ETA: 0s - loss: 0.0013\n",
            "Epoch 55: val_loss did not improve from 0.00240\n",
            "20/20 [==============================] - 0s 14ms/step - loss: 0.0014 - val_loss: 0.0026\n",
            "Epoch 56/150\n",
            "18/20 [==========================>...] - ETA: 0s - loss: 0.0014  \n",
            "Epoch 56: val_loss improved from 0.00240 to 0.00219, saving model to results/univariate_time_series\\rnn.h5\n",
            "20/20 [==============================] - 0s 17ms/step - loss: 0.0014 - val_loss: 0.0022\n",
            "Epoch 57/150\n",
            "17/20 [========================>.....] - ETA: 0s - loss: 0.0011    \n",
            "Epoch 57: val_loss did not improve from 0.00219\n",
            "20/20 [==============================] - 0s 17ms/step - loss: 0.0012 - val_loss: 0.0022\n",
            "Epoch 58/150\n",
            "19/20 [===========================>..] - ETA: 0s - loss: 0.0013  \n",
            "Epoch 58: val_loss did not improve from 0.00219\n",
            "20/20 [==============================] - 0s 16ms/step - loss: 0.0013 - val_loss: 0.0022\n",
            "Epoch 59/150\n",
            "18/20 [==========================>...] - ETA: 0s - loss: 0.0013\n",
            "Epoch 59: val_loss did not improve from 0.00219\n",
            "20/20 [==============================] - 0s 22ms/step - loss: 0.0013 - val_loss: 0.0023\n",
            "Epoch 60/150\n",
            "19/20 [===========================>..] - ETA: 0s - loss: 0.0012 \n",
            "Epoch 60: val_loss did not improve from 0.00219\n",
            "20/20 [==============================] - 0s 15ms/step - loss: 0.0012 - val_loss: 0.0041\n",
            "Epoch 61/150\n",
            "19/20 [===========================>..] - ETA: 0s - loss: 0.0013\n",
            "Epoch 61: val_loss did not improve from 0.00219\n",
            "20/20 [==============================] - 0s 19ms/step - loss: 0.0013 - val_loss: 0.0030\n",
            "Epoch 62/150\n",
            "20/20 [==============================] - ETA: 0s - loss: 0.0012   \n",
            "Epoch 62: val_loss did not improve from 0.00219\n",
            "20/20 [==============================] - 0s 17ms/step - loss: 0.0012 - val_loss: 0.0023\n",
            "Epoch 63/150\n",
            "16/20 [=======================>......] - ETA: 0s - loss: 0.0014\n",
            "Epoch 63: val_loss improved from 0.00219 to 0.00215, saving model to results/univariate_time_series\\rnn.h5\n",
            "20/20 [==============================] - 0s 20ms/step - loss: 0.0012 - val_loss: 0.0022\n",
            "Epoch 64/150\n",
            "19/20 [===========================>..] - ETA: 0s - loss: 0.0013\n",
            "Epoch 64: val_loss did not improve from 0.00215\n",
            "20/20 [==============================] - 0s 16ms/step - loss: 0.0013 - val_loss: 0.0024\n",
            "Epoch 65/150\n",
            "17/20 [========================>.....] - ETA: 0s - loss: 0.0012\n",
            "Epoch 65: val_loss did not improve from 0.00215\n",
            "20/20 [==============================] - 0s 14ms/step - loss: 0.0013 - val_loss: 0.0022\n",
            "Epoch 66/150\n",
            "18/20 [==========================>...] - ETA: 0s - loss: 0.0012\n",
            "Epoch 66: val_loss did not improve from 0.00215\n",
            "20/20 [==============================] - 0s 15ms/step - loss: 0.0012 - val_loss: 0.0035\n",
            "Epoch 67/150\n",
            "17/20 [========================>.....] - ETA: 0s - loss: 0.0013    \n",
            "Epoch 67: val_loss improved from 0.00215 to 0.00203, saving model to results/univariate_time_series\\rnn.h5\n",
            "20/20 [==============================] - 0s 19ms/step - loss: 0.0012 - val_loss: 0.0020\n",
            "Epoch 68/150\n",
            "18/20 [==========================>...] - ETA: 0s - loss: 0.0012  \n",
            "Epoch 68: val_loss did not improve from 0.00203\n",
            "20/20 [==============================] - 0s 14ms/step - loss: 0.0012 - val_loss: 0.0023\n",
            "Epoch 69/150\n",
            "18/20 [==========================>...] - ETA: 0s - loss: 0.0013   \n",
            "Epoch 69: val_loss improved from 0.00203 to 0.00197, saving model to results/univariate_time_series\\rnn.h5\n",
            "20/20 [==============================] - 0s 21ms/step - loss: 0.0013 - val_loss: 0.0020\n",
            "Epoch 70/150\n",
            "20/20 [==============================] - ETA: 0s - loss: 0.0013 \n",
            "Epoch 70: val_loss did not improve from 0.00197\n",
            "20/20 [==============================] - 0s 17ms/step - loss: 0.0013 - val_loss: 0.0020\n",
            "Epoch 71/150\n",
            "18/20 [==========================>...] - ETA: 0s - loss: 0.0013\n",
            "Epoch 71: val_loss did not improve from 0.00197\n",
            "20/20 [==============================] - 0s 14ms/step - loss: 0.0012 - val_loss: 0.0035\n",
            "Epoch 72/150\n",
            "15/20 [=====================>........] - ETA: 0s - loss: 8.7557e-04\n",
            "Epoch 72: val_loss improved from 0.00197 to 0.00189, saving model to results/univariate_time_series\\rnn.h5\n",
            "20/20 [==============================] - 0s 17ms/step - loss: 0.0011 - val_loss: 0.0019\n",
            "Epoch 73/150\n",
            "16/20 [=======================>......] - ETA: 0s - loss: 0.0010  \n",
            "Epoch 73: val_loss did not improve from 0.00189\n",
            "20/20 [==============================] - 0s 15ms/step - loss: 0.0012 - val_loss: 0.0021\n",
            "Epoch 74/150\n",
            "20/20 [==============================] - ETA: 0s - loss: 0.0012\n",
            "Epoch 74: val_loss did not improve from 0.00189\n",
            "20/20 [==============================] - 0s 23ms/step - loss: 0.0012 - val_loss: 0.0022\n",
            "Epoch 75/150\n",
            "20/20 [==============================] - ETA: 0s - loss: 0.0013\n",
            "Epoch 75: val_loss did not improve from 0.00189\n",
            "20/20 [==============================] - 0s 21ms/step - loss: 0.0013 - val_loss: 0.0021\n",
            "Epoch 76/150\n",
            "20/20 [==============================] - ETA: 0s - loss: 0.0012\n",
            "Epoch 76: val_loss did not improve from 0.00189\n",
            "20/20 [==============================] - 0s 21ms/step - loss: 0.0012 - val_loss: 0.0020\n",
            "Epoch 77/150\n",
            "17/20 [========================>.....] - ETA: 0s - loss: 0.0012  \n",
            "Epoch 77: val_loss did not improve from 0.00189\n",
            "20/20 [==============================] - 0s 21ms/step - loss: 0.0012 - val_loss: 0.0019\n",
            "Epoch 78/150\n",
            "17/20 [========================>.....] - ETA: 0s - loss: 0.0012  \n",
            "Epoch 78: val_loss did not improve from 0.00189\n",
            "20/20 [==============================] - 0s 15ms/step - loss: 0.0012 - val_loss: 0.0021\n",
            "Epoch 79/150\n",
            "17/20 [========================>.....] - ETA: 0s - loss: 0.0012\n",
            "Epoch 79: val_loss did not improve from 0.00189\n",
            "20/20 [==============================] - 0s 15ms/step - loss: 0.0012 - val_loss: 0.0022\n",
            "Epoch 80/150\n",
            "20/20 [==============================] - ETA: 0s - loss: 0.0012\n",
            "Epoch 80: val_loss did not improve from 0.00189\n",
            "20/20 [==============================] - 0s 19ms/step - loss: 0.0012 - val_loss: 0.0022\n",
            "Epoch 81/150\n",
            "16/20 [=======================>......] - ETA: 0s - loss: 0.0012  \n",
            "Epoch 81: val_loss did not improve from 0.00189\n",
            "20/20 [==============================] - 0s 15ms/step - loss: 0.0013 - val_loss: 0.0024\n",
            "Epoch 82/150\n",
            "17/20 [========================>.....] - ETA: 0s - loss: 0.0012\n",
            "Epoch 82: val_loss improved from 0.00189 to 0.00185, saving model to results/univariate_time_series\\rnn.h5\n",
            "20/20 [==============================] - 0s 20ms/step - loss: 0.0012 - val_loss: 0.0019\n",
            "Epoch 83/150\n",
            "15/20 [=====================>........] - ETA: 0s - loss: 0.0012  \n",
            "Epoch 83: val_loss improved from 0.00185 to 0.00184, saving model to results/univariate_time_series\\rnn.h5\n",
            "20/20 [==============================] - 0s 19ms/step - loss: 0.0012 - val_loss: 0.0018\n",
            "Epoch 84/150\n",
            "15/20 [=====================>........] - ETA: 0s - loss: 0.0013   \n",
            "Epoch 84: val_loss did not improve from 0.00184\n",
            "20/20 [==============================] - 0s 17ms/step - loss: 0.0012 - val_loss: 0.0019\n",
            "Epoch 85/150\n",
            "19/20 [===========================>..] - ETA: 0s - loss: 0.0011    \n",
            "Epoch 85: val_loss did not improve from 0.00184\n",
            "20/20 [==============================] - 0s 23ms/step - loss: 0.0011 - val_loss: 0.0023\n",
            "Epoch 86/150\n",
            "20/20 [==============================] - ETA: 0s - loss: 0.0012  \n",
            "Epoch 86: val_loss did not improve from 0.00184\n",
            "20/20 [==============================] - 0s 18ms/step - loss: 0.0012 - val_loss: 0.0025\n",
            "Epoch 87/150\n",
            "17/20 [========================>.....] - ETA: 0s - loss: 0.0010   \n",
            "Epoch 87: val_loss did not improve from 0.00184\n",
            "20/20 [==============================] - 0s 14ms/step - loss: 0.0011 - val_loss: 0.0021\n",
            "Epoch 88/150\n",
            "19/20 [===========================>..] - ETA: 0s - loss: 0.0012  \n",
            "Epoch 88: val_loss did not improve from 0.00184\n",
            "20/20 [==============================] - 0s 16ms/step - loss: 0.0012 - val_loss: 0.0029\n",
            "Epoch 89/150\n",
            "18/20 [==========================>...] - ETA: 0s - loss: 0.0012\n",
            "Epoch 89: val_loss improved from 0.00184 to 0.00180, saving model to results/univariate_time_series\\rnn.h5\n",
            "20/20 [==============================] - 0s 17ms/step - loss: 0.0012 - val_loss: 0.0018\n",
            "Epoch 90/150\n",
            "17/20 [========================>.....] - ETA: 0s - loss: 0.0011\n",
            "Epoch 90: val_loss did not improve from 0.00180\n",
            "20/20 [==============================] - 0s 14ms/step - loss: 0.0012 - val_loss: 0.0018\n",
            "Epoch 91/150\n",
            "19/20 [===========================>..] - ETA: 0s - loss: 0.0011    \n",
            "Epoch 91: val_loss did not improve from 0.00180\n",
            "20/20 [==============================] - 0s 15ms/step - loss: 0.0012 - val_loss: 0.0019\n",
            "Epoch 92/150\n",
            "19/20 [===========================>..] - ETA: 0s - loss: 0.0011    \n",
            "Epoch 92: val_loss did not improve from 0.00180\n",
            "20/20 [==============================] - 0s 19ms/step - loss: 0.0011 - val_loss: 0.0022\n",
            "Epoch 93/150\n",
            "15/20 [=====================>........] - ETA: 0s - loss: 0.0013\n",
            "Epoch 93: val_loss did not improve from 0.00180\n",
            "20/20 [==============================] - 0s 16ms/step - loss: 0.0012 - val_loss: 0.0026\n",
            "Epoch 94/150\n",
            "15/20 [=====================>........] - ETA: 0s - loss: 0.0012  \n",
            "Epoch 94: val_loss did not improve from 0.00180\n",
            "20/20 [==============================] - 0s 15ms/step - loss: 0.0012 - val_loss: 0.0020\n",
            "Epoch 95/150\n",
            "18/20 [==========================>...] - ETA: 0s - loss: 0.0011\n",
            "Epoch 95: val_loss improved from 0.00180 to 0.00175, saving model to results/univariate_time_series\\rnn.h5\n",
            "20/20 [==============================] - 0s 17ms/step - loss: 0.0012 - val_loss: 0.0017\n",
            "Epoch 96/150\n",
            "18/20 [==========================>...] - ETA: 0s - loss: 0.0011\n",
            "Epoch 96: val_loss did not improve from 0.00175\n",
            "20/20 [==============================] - 0s 14ms/step - loss: 0.0012 - val_loss: 0.0019\n",
            "Epoch 97/150\n",
            "16/20 [=======================>......] - ETA: 0s - loss: 0.0011    \n",
            "Epoch 97: val_loss improved from 0.00175 to 0.00172, saving model to results/univariate_time_series\\rnn.h5\n",
            "20/20 [==============================] - 0s 23ms/step - loss: 0.0011 - val_loss: 0.0017\n",
            "Epoch 98/150\n",
            "18/20 [==========================>...] - ETA: 0s - loss: 0.0012 \n",
            "Epoch 98: val_loss improved from 0.00172 to 0.00167, saving model to results/univariate_time_series\\rnn.h5\n",
            "20/20 [==============================] - 0s 20ms/step - loss: 0.0012 - val_loss: 0.0017\n",
            "Epoch 99/150\n",
            "19/20 [===========================>..] - ETA: 0s - loss: 0.0012\n",
            "Epoch 99: val_loss did not improve from 0.00167\n",
            "20/20 [==============================] - 0s 15ms/step - loss: 0.0012 - val_loss: 0.0022\n",
            "Epoch 100/150\n",
            "17/20 [========================>.....] - ETA: 0s - loss: 0.0011  \n",
            "Epoch 100: val_loss did not improve from 0.00167\n",
            "20/20 [==============================] - 0s 15ms/step - loss: 0.0011 - val_loss: 0.0017\n",
            "Epoch 101/150\n",
            "17/20 [========================>.....] - ETA: 0s - loss: 0.0012\n",
            "Epoch 101: val_loss did not improve from 0.00167\n",
            "20/20 [==============================] - 0s 14ms/step - loss: 0.0012 - val_loss: 0.0017\n",
            "Epoch 102/150\n",
            "18/20 [==========================>...] - ETA: 0s - loss: 0.0012\n",
            "Epoch 102: val_loss did not improve from 0.00167\n",
            "20/20 [==============================] - 0s 14ms/step - loss: 0.0012 - val_loss: 0.0019\n",
            "Epoch 103/150\n",
            "19/20 [===========================>..] - ETA: 0s - loss: 0.0011\n",
            "Epoch 103: val_loss did not improve from 0.00167\n",
            "20/20 [==============================] - 0s 14ms/step - loss: 0.0011 - val_loss: 0.0019\n",
            "Epoch 104/150\n",
            "19/20 [===========================>..] - ETA: 0s - loss: 0.0012\n",
            "Epoch 104: val_loss did not improve from 0.00167\n",
            "20/20 [==============================] - 0s 13ms/step - loss: 0.0011 - val_loss: 0.0021\n",
            "Epoch 105/150\n",
            "18/20 [==========================>...] - ETA: 0s - loss: 0.0011    \n",
            "Epoch 105: val_loss improved from 0.00167 to 0.00161, saving model to results/univariate_time_series\\rnn.h5\n",
            "20/20 [==============================] - 0s 16ms/step - loss: 0.0011 - val_loss: 0.0016\n",
            "Epoch 106/150\n",
            "18/20 [==========================>...] - ETA: 0s - loss: 0.0012  \n",
            "Epoch 106: val_loss did not improve from 0.00161\n",
            "20/20 [==============================] - 0s 14ms/step - loss: 0.0011 - val_loss: 0.0019\n",
            "Epoch 107/150\n",
            "18/20 [==========================>...] - ETA: 0s - loss: 0.0012    \n",
            "Epoch 107: val_loss did not improve from 0.00161\n",
            "20/20 [==============================] - 0s 14ms/step - loss: 0.0011 - val_loss: 0.0017\n",
            "Epoch 108/150\n",
            "20/20 [==============================] - ETA: 0s - loss: 0.0012   \n",
            "Epoch 108: val_loss did not improve from 0.00161\n",
            "20/20 [==============================] - 0s 15ms/step - loss: 0.0012 - val_loss: 0.0018\n",
            "Epoch 109/150\n",
            "18/20 [==========================>...] - ETA: 0s - loss: 0.0011\n",
            "Epoch 109: val_loss did not improve from 0.00161\n",
            "20/20 [==============================] - 0s 18ms/step - loss: 0.0012 - val_loss: 0.0020\n",
            "Epoch 110/150\n",
            "19/20 [===========================>..] - ETA: 0s - loss: 0.0011\n",
            "Epoch 110: val_loss did not improve from 0.00161\n",
            "20/20 [==============================] - 1s 28ms/step - loss: 0.0011 - val_loss: 0.0024\n",
            "Epoch 111/150\n",
            "20/20 [==============================] - ETA: 0s - loss: 0.0012\n",
            "Epoch 111: val_loss did not improve from 0.00161\n",
            "20/20 [==============================] - 0s 18ms/step - loss: 0.0012 - val_loss: 0.0017\n",
            "Epoch 112/150\n",
            "17/20 [========================>.....] - ETA: 0s - loss: 0.0011   \n",
            "Epoch 112: val_loss did not improve from 0.00161\n",
            "20/20 [==============================] - 0s 14ms/step - loss: 0.0011 - val_loss: 0.0019\n",
            "Epoch 113/150\n",
            "18/20 [==========================>...] - ETA: 0s - loss: 0.0010   \n",
            "Epoch 113: val_loss did not improve from 0.00161\n",
            "20/20 [==============================] - 0s 14ms/step - loss: 0.0011 - val_loss: 0.0019\n",
            "Epoch 114/150\n",
            "19/20 [===========================>..] - ETA: 0s - loss: 0.0011    \n",
            "Epoch 114: val_loss did not improve from 0.00161\n",
            "20/20 [==============================] - 0s 13ms/step - loss: 0.0011 - val_loss: 0.0028\n",
            "Epoch 115/150\n",
            "18/20 [==========================>...] - ETA: 0s - loss: 0.0011   \n",
            "Epoch 115: val_loss did not improve from 0.00161\n",
            "20/20 [==============================] - 0s 14ms/step - loss: 0.0011 - val_loss: 0.0019\n",
            "Epoch 116/150\n",
            "19/20 [===========================>..] - ETA: 0s - loss: 0.0011   \n",
            "Epoch 116: val_loss did not improve from 0.00161\n",
            "20/20 [==============================] - 0s 13ms/step - loss: 0.0011 - val_loss: 0.0025\n",
            "Epoch 117/150\n",
            "18/20 [==========================>...] - ETA: 0s - loss: 0.0012\n",
            "Epoch 117: val_loss did not improve from 0.00161\n",
            "20/20 [==============================] - 0s 16ms/step - loss: 0.0011 - val_loss: 0.0017\n",
            "Epoch 118/150\n",
            "20/20 [==============================] - ETA: 0s - loss: 0.0011\n",
            "Epoch 118: val_loss did not improve from 0.00161\n",
            "20/20 [==============================] - 0s 15ms/step - loss: 0.0011 - val_loss: 0.0024\n",
            "Epoch 119/150\n",
            "20/20 [==============================] - ETA: 0s - loss: 0.0011\n",
            "Epoch 119: val_loss did not improve from 0.00161\n",
            "20/20 [==============================] - 0s 14ms/step - loss: 0.0011 - val_loss: 0.0019\n",
            "Epoch 120/150\n",
            "18/20 [==========================>...] - ETA: 0s - loss: 0.0012\n",
            "Epoch 120: val_loss did not improve from 0.00161\n",
            "20/20 [==============================] - 0s 16ms/step - loss: 0.0011 - val_loss: 0.0017\n",
            "Epoch 121/150\n",
            "17/20 [========================>.....] - ETA: 0s - loss: 0.0012\n",
            "Epoch 121: val_loss improved from 0.00161 to 0.00152, saving model to results/univariate_time_series\\rnn.h5\n",
            "20/20 [==============================] - 0s 16ms/step - loss: 0.0011 - val_loss: 0.0015\n",
            "Epoch 122/150\n",
            "15/20 [=====================>........] - ETA: 0s - loss: 0.0010   \n",
            "Epoch 122: val_loss did not improve from 0.00152\n",
            "20/20 [==============================] - 0s 20ms/step - loss: 0.0011 - val_loss: 0.0018\n",
            "Epoch 123/150\n",
            "19/20 [===========================>..] - ETA: 0s - loss: 0.0010    \n",
            "Epoch 123: val_loss did not improve from 0.00152\n",
            "20/20 [==============================] - 0s 14ms/step - loss: 0.0011 - val_loss: 0.0018\n",
            "Epoch 124/150\n",
            "17/20 [========================>.....] - ETA: 0s - loss: 0.0012\n",
            "Epoch 124: val_loss did not improve from 0.00152\n",
            "20/20 [==============================] - 0s 13ms/step - loss: 0.0011 - val_loss: 0.0020\n",
            "Epoch 125/150\n",
            "19/20 [===========================>..] - ETA: 0s - loss: 0.0011 \n",
            "Epoch 125: val_loss did not improve from 0.00152\n",
            "20/20 [==============================] - 0s 16ms/step - loss: 0.0011 - val_loss: 0.0019\n",
            "Epoch 126/150\n",
            "17/20 [========================>.....] - ETA: 0s - loss: 0.0012  \n",
            "Epoch 126: val_loss did not improve from 0.00152\n",
            "20/20 [==============================] - 0s 19ms/step - loss: 0.0011 - val_loss: 0.0019\n",
            "Epoch 127/150\n",
            "15/20 [=====================>........] - ETA: 0s - loss: 8.5360e-04\n",
            "Epoch 127: val_loss did not improve from 0.00152\n",
            "20/20 [==============================] - 0s 15ms/step - loss: 0.0011 - val_loss: 0.0018\n",
            "Epoch 128/150\n",
            "17/20 [========================>.....] - ETA: 0s - loss: 0.0010   \n",
            "Epoch 128: val_loss did not improve from 0.00152\n",
            "20/20 [==============================] - 0s 14ms/step - loss: 0.0011 - val_loss: 0.0017\n",
            "Epoch 129/150\n",
            "18/20 [==========================>...] - ETA: 0s - loss: 0.0010  \n",
            "Epoch 129: val_loss did not improve from 0.00152\n",
            "20/20 [==============================] - 0s 14ms/step - loss: 0.0010 - val_loss: 0.0019\n",
            "Epoch 130/150\n",
            "16/20 [=======================>......] - ETA: 0s - loss: 0.0011\n",
            "Epoch 130: val_loss did not improve from 0.00152\n",
            "20/20 [==============================] - 0s 14ms/step - loss: 0.0011 - val_loss: 0.0016\n",
            "Epoch 131/150\n",
            "18/20 [==========================>...] - ETA: 0s - loss: 0.0011  \n",
            "Epoch 131: val_loss did not improve from 0.00152\n",
            "20/20 [==============================] - 0s 14ms/step - loss: 0.0011 - val_loss: 0.0017\n",
            "Epoch 132/150\n",
            "17/20 [========================>.....] - ETA: 0s - loss: 9.9043e-04\n",
            "Epoch 132: val_loss did not improve from 0.00152\n",
            "20/20 [==============================] - 0s 13ms/step - loss: 0.0011 - val_loss: 0.0022\n",
            "Epoch 133/150\n",
            "15/20 [=====================>........] - ETA: 0s - loss: 0.0011 \n",
            "Epoch 133: val_loss did not improve from 0.00152\n",
            "20/20 [==============================] - 0s 18ms/step - loss: 0.0011 - val_loss: 0.0018\n",
            "Epoch 134/150\n",
            "17/20 [========================>.....] - ETA: 0s - loss: 0.0011\n",
            "Epoch 134: val_loss did not improve from 0.00152\n",
            "20/20 [==============================] - 0s 14ms/step - loss: 0.0011 - val_loss: 0.0017\n",
            "Epoch 135/150\n",
            "18/20 [==========================>...] - ETA: 0s - loss: 0.0011    \n",
            "Epoch 135: val_loss did not improve from 0.00152\n",
            "20/20 [==============================] - 0s 14ms/step - loss: 0.0011 - val_loss: 0.0021\n",
            "Epoch 136/150\n",
            "18/20 [==========================>...] - ETA: 0s - loss: 0.0011   \n",
            "Epoch 136: val_loss did not improve from 0.00152\n",
            "20/20 [==============================] - 0s 13ms/step - loss: 0.0011 - val_loss: 0.0017\n",
            "Epoch 137/150\n",
            "19/20 [===========================>..] - ETA: 0s - loss: 0.0011\n",
            "Epoch 137: val_loss did not improve from 0.00152\n",
            "20/20 [==============================] - 0s 14ms/step - loss: 0.0010 - val_loss: 0.0017\n",
            "Epoch 138/150\n",
            "16/20 [=======================>......] - ETA: 0s - loss: 0.0013   \n",
            "Epoch 138: val_loss did not improve from 0.00152\n",
            "20/20 [==============================] - 0s 14ms/step - loss: 0.0011 - val_loss: 0.0019\n",
            "Epoch 139/150\n",
            "19/20 [===========================>..] - ETA: 0s - loss: 0.0011   \n",
            "Epoch 139: val_loss did not improve from 0.00152\n",
            "20/20 [==============================] - 0s 14ms/step - loss: 0.0010 - val_loss: 0.0017\n",
            "Epoch 140/150\n",
            "16/20 [=======================>......] - ETA: 0s - loss: 9.8400e-04\n",
            "Epoch 140: val_loss did not improve from 0.00152\n",
            "20/20 [==============================] - 0s 14ms/step - loss: 0.0011 - val_loss: 0.0016\n",
            "Epoch 141/150\n",
            "20/20 [==============================] - ETA: 0s - loss: 0.0010   \n",
            "Epoch 141: val_loss did not improve from 0.00152\n",
            "20/20 [==============================] - 0s 17ms/step - loss: 0.0010 - val_loss: 0.0021\n"
          ]
        }
      ],
      "source": [
        "lstm_training = rnn.fit(X_train,\n",
        "                        y_train,\n",
        "                        epochs=150,\n",
        "                        batch_size=20,\n",
        "                        shuffle=True,\n",
        "                        validation_data=(X_test, y_test),\n",
        "                        callbacks=[early_stopping, checkpointer],\n",
        "                        verbose=1)"
      ]
    },
    {
      "cell_type": "markdown",
      "metadata": {
        "id": "UkTFa4UmvSC1"
      },
      "source": [
        "### Evaluate model performance"
      ]
    },
    {
      "cell_type": "code",
      "execution_count": 29,
      "metadata": {
        "colab": {
          "base_uri": "https://localhost:8080/",
          "height": 407
        },
        "id": "pqtKiU-EvMZe",
        "outputId": "d667df1f-3e98-4345-8e21-c12cec47d6d9"
      },
      "outputs": [
        {
          "data": {
            "image/png": "[encoded data removed]",
            "text/plain": [
              "<Figure size 1200x400 with 1 Axes>"
            ]
          },
          "metadata": {},
          "output_type": "display_data"
        }
      ],
      "source": [
        "fig, ax = plt.subplots(figsize=(12, 4))\n",
        "\n",
        "loss_history = pd.DataFrame(lstm_training.history).pow(.5)\n",
        "loss_history.index += 1\n",
        "best_rmse = loss_history.val_loss.min()\n",
        "\n",
        "best_epoch = loss_history.val_loss.idxmin()\n",
        "\n",
        "title = f'5-Epoch Rolling RMSE (Best Validation RMSE: {best_rmse:.4%})'\n",
        "loss_history.columns=['Training RMSE', 'Validation RMSE']\n",
        "loss_history.rolling(5).mean().plot(logy=True, lw=2, title=title, ax=ax)\n",
        "\n",
        "ax.axvline(best_epoch, ls='--', lw=1, c='k')\n",
        "\n",
        "sns.despine()\n",
        "fig.tight_layout()\n",
        "fig.savefig(results_path / 'rnn_bitcoin_error', dpi=300);"
      ]
    },
    {
      "cell_type": "code",
      "execution_count": 30,
      "metadata": {
        "colab": {
          "base_uri": "https://localhost:8080/"
        },
        "id": "25t2I91VvbIF",
        "outputId": "45b841ec-f86a-41ae-ae45-c9ed3e3b4d14"
      },
      "outputs": [
        {
          "name": "stdout",
          "output_type": "stream",
          "text": [
            "Train RMSE: 0.0326 | Test RMSE: 0.0390\n"
          ]
        }
      ],
      "source": [
        "train_rmse_scaled = np.sqrt(rnn.evaluate(X_train, y_train, verbose=0))\n",
        "test_rmse_scaled = np.sqrt(rnn.evaluate(X_test, y_test, verbose=0))\n",
        "print(f'Train RMSE: {train_rmse_scaled:.4f} | Test RMSE: {test_rmse_scaled:.4f}')"
      ]
    },
    {
      "cell_type": "code",
      "execution_count": 31,
      "metadata": {
        "colab": {
          "base_uri": "https://localhost:8080/"
        },
        "id": "ZEhQfFwyvdgC",
        "outputId": "a17b4c99-dc6a-41ed-eee4-301a5fcb2fa0"
      },
      "outputs": [
        {
          "name": "stdout",
          "output_type": "stream",
          "text": [
            "13/13 [==============================] - 1s 7ms/step\n",
            "4/4 [==============================] - 0s 6ms/step\n"
          ]
        }
      ],
      "source": [
        "train_predict_scaled = rnn.predict(X_train)\n",
        "test_predict_scaled = rnn.predict(X_test)"
      ]
    },
    {
      "cell_type": "markdown",
      "metadata": {
        "id": "4WRvf_9u1Il1"
      },
      "source": [
        "The Test Information Coefficient (IC) is a statistical measure primarily used in the context of quantitative finance and investing to evaluate the effectiveness of a prediction model. The IC measures the correlation between a model's predictions and the actual observed outcomes, providing an indication of how well the model is performing.\n",
        "\n",
        "### Characteristics of IC\n",
        "\n",
        "1. **Correlation**: The IC is calculated as the Pearson correlation between the predictions and the actual values. If the predictions and observed outcomes are perfectly correlated (positively or negatively), the IC will be +1 or -1, respectively.\n",
        "2. **IC Sign**:\n",
        "   - A positive IC indicates that the model's predictions are well aligned with the actual outcomes.\n",
        "   - A negative IC suggests that the model's predictions are inversely related to the actual outcomes.\n",
        "   - An IC close to zero indicates little to no correlation between the predictions and the actual outcomes.\n",
        "3. **Use in Finance**: In the context of investing, a high IC indicates that the model may be useful for making investment decisions. For example, if the model correctly predicts asset returns, it can be used to construct a more efficient investment portfolio.\n",
        "\n",
        "### IC Calculation\n",
        "\n",
        "The IC is calculated using the Pearson correlation formula:\n",
        "\n",
        "$ \\text{IC} = \\frac{\\sum (P_i - \\bar{P})(R_i - \\bar{R})}{\\sqrt{\\sum (P_i - \\bar{P})^2} \\sqrt{\\sum (R_i - \\bar{R})^2}}$\n",
        "\n",
        "where:\n",
        "- $ P_i $ are the model's predictions.\n",
        "- $ R_i $ are the actual observed outcomes.\n",
        "- $ \\bar{P} $ is the mean of the predictions.\n",
        "- $ \\bar{R} $ is the mean of the actual outcomes.\n",
        "\n",
        "### Application Example\n",
        "\n",
        "Suppose you have a model that predicts future returns of a series of stocks. After a test period, you can calculate the IC to determine how well the model's predictions matched the actual returns of the stocks. A high IC would indicate that the model is effective and could be useful for investment strategies.\n",
        "\n",
        "### Importance of IC\n",
        "\n",
        "The IC is an important tool for fund managers and quantitative analysts because it allows for an objective assessment of the quality of prediction models. A consistently high and positive IC is a signal that the model has the potential to generate alpha (returns above the market average).\n",
        "\n",
        "In summary, the Test Information Coefficient (IC) is a key metric for evaluating the accuracy and usefulness of predictive models in finance, helping investors make informed decisions based on the correlation between predictions and actual outcomes.\n"
      ]
    },
    {
      "cell_type": "code",
      "execution_count": 32,
      "metadata": {
        "colab": {
          "base_uri": "https://localhost:8080/"
        },
        "id": "TCEb7qi_vgfu",
        "outputId": "88be3d9b-c06b-4510-b884-624cae77ddbd"
      },
      "outputs": [
        {
          "name": "stdout",
          "output_type": "stream",
          "text": [
            "Train IC: 0.9918 | Test IC: 0.9682\n"
          ]
        }
      ],
      "source": [
        "train_ic = spearmanr(y_train, train_predict_scaled)[0]\n",
        "test_ic = spearmanr(y_test, test_predict_scaled)[0]\n",
        "print(f'Train IC: {train_ic:.4f} | Test IC: {test_ic:.4f}')"
      ]
    },
    {
      "cell_type": "markdown",
      "metadata": {
        "id": "A_NIGOLYvxbK"
      },
      "source": [
        "### Rescale predictions"
      ]
    },
    {
      "cell_type": "code",
      "execution_count": 33,
      "metadata": {
        "id": "7k03JYBPvzW9"
      },
      "outputs": [],
      "source": [
        "train_predict = pd.Series(scaler.inverse_transform(train_predict_scaled).squeeze(), index=y_train.index)\n",
        "test_predict = (pd.Series(scaler.inverse_transform(test_predict_scaled)\n",
        "                          .squeeze(),\n",
        "                          index=y_test.index))"
      ]
    },
    {
      "cell_type": "code",
      "execution_count": 34,
      "metadata": {
        "id": "AlrxoPNXwCEe"
      },
      "outputs": [],
      "source": [
        "y_train_rescaled = scaler.inverse_transform(y_train.to_frame()).squeeze()\n",
        "y_test_rescaled = scaler.inverse_transform(y_test.to_frame()).squeeze()"
      ]
    },
    {
      "cell_type": "code",
      "execution_count": 35,
      "metadata": {
        "colab": {
          "base_uri": "https://localhost:8080/",
          "height": 35
        },
        "id": "T63casuFwE_P",
        "outputId": "032fd646-a4bc-4457-8293-8de7d829e7e2"
      },
      "outputs": [
        {
          "data": {
            "text/plain": [
              "'Train RMSE: 2315.82 | Test RMSE: 2775.05'"
            ]
          },
          "execution_count": 35,
          "metadata": {},
          "output_type": "execute_result"
        }
      ],
      "source": [
        "train_rmse = np.sqrt(mean_squared_error(train_predict, y_train_rescaled))\n",
        "test_rmse = np.sqrt(mean_squared_error(test_predict, y_test_rescaled))\n",
        "f'Train RMSE: {train_rmse:.2f} | Test RMSE: {test_rmse:.2f}'"
      ]
    },
    {
      "cell_type": "code",
      "execution_count": 36,
      "metadata": {
        "id": "NbAAFefSzeXN"
      },
      "outputs": [],
      "source": [
        "data['Train Predictions'] = train_predict\n",
        "data['Test Predictions'] = test_predict\n",
        "\n",
        "train_df = train_predict.to_frame('predictions').assign(data='Train')\n",
        "test_df = test_predict.to_frame('predictions').assign(data='Test')\n",
        "\n",
        "combined_df = pd.concat([train_df, test_df])\n",
        "\n",
        "data_copy = data.join(combined_df)"
      ]
    },
    {
      "cell_type": "markdown",
      "metadata": {
        "id": "fVEohqa6w_W9"
      },
      "source": [
        "### Plot Results"
      ]
    },
    {
      "cell_type": "code",
      "execution_count": 37,
      "metadata": {
        "colab": {
          "base_uri": "https://localhost:8080/",
          "height": 634
        },
        "id": "jB7Q-QyXwWZe",
        "outputId": "37662d84-41d7-4b96-85d4-06fcb6fa518b"
      },
      "outputs": [
        {
          "data": {
            "image/png": "[encoded data removed]",
            "text/plain": [
              "<Figure size 1400x700 with 4 Axes>"
            ]
          },
          "metadata": {},
          "output_type": "display_data"
        }
      ],
      "source": [
        "fig=plt.figure(figsize=(14,7))\n",
        "ax1 = plt.subplot(221)\n",
        "\n",
        "data_copy.loc['2015':, 'BTC'].plot(lw=4, ax=ax1, c='k')\n",
        "data_copy.loc['2015':, ['Test Predictions', 'Train Predictions']].plot(lw=1, ax=ax1, ls='--')\n",
        "ax1.set_title('In- and Out-of-sample Predictions')\n",
        "\n",
        "\n",
        "with sns.axes_style(\"white\"):\n",
        "    ax3 = plt.subplot(223)\n",
        "    sns.scatterplot(x='BTC', y='predictions', data = data_copy, hue='data', ax=ax3)\n",
        "    ax3.text(x=.02, y=.95, s=f'Test IC ={test_ic:.2%}', transform=ax3.transAxes)\n",
        "    ax3.text(x=.02, y=.87, s=f'Train IC={train_ic:.2%}', transform=ax3.transAxes)\n",
        "    ax3.set_title('Correlation')\n",
        "    ax3.legend(loc='lower right')\n",
        "\n",
        "    ax2 = plt.subplot(222)\n",
        "    ax4 = plt.subplot(224, sharex = ax2, sharey=ax2)\n",
        "    sns.distplot(train_predict.squeeze()- y_train_rescaled, ax=ax2)\n",
        "    ax2.set_title('Train Error')\n",
        "    ax2.text(x=.03, y=.92, s=f'Train RMSE ={train_rmse:.4f}', transform=ax2.transAxes)\n",
        "    sns.distplot(test_predict.squeeze()-y_test_rescaled, ax=ax4)\n",
        "    ax4.set_title('Test Error')\n",
        "    ax4.text(x=.03, y=.92, s=f'Test RMSE ={test_rmse:.4f}', transform=ax4.transAxes)\n",
        "\n",
        "sns.despine()\n",
        "fig.tight_layout()\n",
        "fig.savefig(results_path / 'rnn_bitcoin_regression', dpi=300)"
      ]
    },
    {
      "cell_type": "code",
      "execution_count": 38,
      "metadata": {
        "colab": {
          "base_uri": "https://localhost:8080/",
          "height": 455
        },
        "id": "48ub6cPyxane",
        "outputId": "21f16fd7-ad1e-4996-d56a-87e702e9908a"
      },
      "outputs": [
        {
          "data": {
            "text/html": [
              "<div>\n",
              "<style scoped>\n",
              "    .dataframe tbody tr th:only-of-type {\n",
              "        vertical-align: middle;\n",
              "    }\n",
              "\n",
              "    .dataframe tbody tr th {\n",
              "        vertical-align: top;\n",
              "    }\n",
              "\n",
              "    .dataframe thead th {\n",
              "        text-align: right;\n",
              "    }\n",
              "</style>\n",
              "<table border=\"1\" class=\"dataframe\">\n",
              "  <thead>\n",
              "    <tr style=\"text-align: right;\">\n",
              "      <th></th>\n",
              "      <th>BTC</th>\n",
              "      <th>Train Predictions</th>\n",
              "      <th>Test Predictions</th>\n",
              "      <th>predictions</th>\n",
              "      <th>data</th>\n",
              "    </tr>\n",
              "    <tr>\n",
              "      <th>Date</th>\n",
              "      <th></th>\n",
              "      <th></th>\n",
              "      <th></th>\n",
              "      <th></th>\n",
              "      <th></th>\n",
              "    </tr>\n",
              "  </thead>\n",
              "  <tbody>\n",
              "    <tr>\n",
              "      <th>2014-09-15</th>\n",
              "      <td>398.821014</td>\n",
              "      <td>NaN</td>\n",
              "      <td>NaN</td>\n",
              "      <td>NaN</td>\n",
              "      <td>NaN</td>\n",
              "    </tr>\n",
              "    <tr>\n",
              "      <th>2014-09-22</th>\n",
              "      <td>377.181000</td>\n",
              "      <td>NaN</td>\n",
              "      <td>NaN</td>\n",
              "      <td>NaN</td>\n",
              "      <td>NaN</td>\n",
              "    </tr>\n",
              "    <tr>\n",
              "      <th>2014-09-29</th>\n",
              "      <td>320.510010</td>\n",
              "      <td>NaN</td>\n",
              "      <td>NaN</td>\n",
              "      <td>NaN</td>\n",
              "      <td>NaN</td>\n",
              "    </tr>\n",
              "    <tr>\n",
              "      <th>2014-10-06</th>\n",
              "      <td>378.549011</td>\n",
              "      <td>NaN</td>\n",
              "      <td>NaN</td>\n",
              "      <td>NaN</td>\n",
              "      <td>NaN</td>\n",
              "    </tr>\n",
              "    <tr>\n",
              "      <th>2014-10-13</th>\n",
              "      <td>389.545990</td>\n",
              "      <td>NaN</td>\n",
              "      <td>NaN</td>\n",
              "      <td>NaN</td>\n",
              "      <td>NaN</td>\n",
              "    </tr>\n",
              "    <tr>\n",
              "      <th>...</th>\n",
              "      <td>...</td>\n",
              "      <td>...</td>\n",
              "      <td>...</td>\n",
              "      <td>...</td>\n",
              "      <td>...</td>\n",
              "    </tr>\n",
              "    <tr>\n",
              "      <th>2024-06-03</th>\n",
              "      <td>69647.992188</td>\n",
              "      <td>NaN</td>\n",
              "      <td>64371.121094</td>\n",
              "      <td>64371.121094</td>\n",
              "      <td>Test</td>\n",
              "    </tr>\n",
              "    <tr>\n",
              "      <th>2024-06-10</th>\n",
              "      <td>66639.046875</td>\n",
              "      <td>NaN</td>\n",
              "      <td>65777.507812</td>\n",
              "      <td>65777.507812</td>\n",
              "      <td>Test</td>\n",
              "    </tr>\n",
              "    <tr>\n",
              "      <th>2024-06-17</th>\n",
              "      <td>63180.796875</td>\n",
              "      <td>NaN</td>\n",
              "      <td>64079.128906</td>\n",
              "      <td>64079.128906</td>\n",
              "      <td>Test</td>\n",
              "    </tr>\n",
              "    <tr>\n",
              "      <th>2024-06-24</th>\n",
              "      <td>62678.292969</td>\n",
              "      <td>NaN</td>\n",
              "      <td>61133.750000</td>\n",
              "      <td>61133.750000</td>\n",
              "      <td>Test</td>\n",
              "    </tr>\n",
              "    <tr>\n",
              "      <th>2024-07-01</th>\n",
              "      <td>58303.539062</td>\n",
              "      <td>NaN</td>\n",
              "      <td>59722.871094</td>\n",
              "      <td>59722.871094</td>\n",
              "      <td>Test</td>\n",
              "    </tr>\n",
              "  </tbody>\n",
              "</table>\n",
              "<p>512 rows × 5 columns</p>\n",
              "</div>"
            ],
            "text/plain": [
              "                     BTC  Train Predictions  Test Predictions   predictions   \n",
              "Date                                                                          \n",
              "2014-09-15    398.821014                NaN               NaN           NaN  \\\n",
              "2014-09-22    377.181000                NaN               NaN           NaN   \n",
              "2014-09-29    320.510010                NaN               NaN           NaN   \n",
              "2014-10-06    378.549011                NaN               NaN           NaN   \n",
              "2014-10-13    389.545990                NaN               NaN           NaN   \n",
              "...                  ...                ...               ...           ...   \n",
              "2024-06-03  69647.992188                NaN      64371.121094  64371.121094   \n",
              "2024-06-10  66639.046875                NaN      65777.507812  65777.507812   \n",
              "2024-06-17  63180.796875                NaN      64079.128906  64079.128906   \n",
              "2024-06-24  62678.292969                NaN      61133.750000  61133.750000   \n",
              "2024-07-01  58303.539062                NaN      59722.871094  59722.871094   \n",
              "\n",
              "            data  \n",
              "Date              \n",
              "2014-09-15   NaN  \n",
              "2014-09-22   NaN  \n",
              "2014-09-29   NaN  \n",
              "2014-10-06   NaN  \n",
              "2014-10-13   NaN  \n",
              "...          ...  \n",
              "2024-06-03  Test  \n",
              "2024-06-10  Test  \n",
              "2024-06-17  Test  \n",
              "2024-06-24  Test  \n",
              "2024-07-01  Test  \n",
              "\n",
              "[512 rows x 5 columns]"
            ]
          },
          "execution_count": 38,
          "metadata": {},
          "output_type": "execute_result"
        }
      ],
      "source": [
        "data_copy"
      ]
    },
    {
      "cell_type": "code",
      "execution_count": null,
      "metadata": {
        "id": "GbY02s5Z2vJv"
      },
      "outputs": [],
      "source": []
    },
    {
      "cell_type": "markdown",
      "metadata": {},
      "source": [
        "### Forecast for July 15th"
      ]
    },
    {
      "cell_type": "code",
      "execution_count": 53,
      "metadata": {},
      "outputs": [
        {
          "name": "stdout",
          "output_type": "stream",
          "text": [
            "[*********************100%***********************]  1 of 1 completed\n"
          ]
        }
      ],
      "source": [
        "data_test = yf.download(\"BTC-USD\", interval=\"1wk\")[[\"Close\"]].dropna()"
      ]
    },
    {
      "cell_type": "code",
      "execution_count": 99,
      "metadata": {},
      "outputs": [],
      "source": [
        "data_path = ('data/btc_data.csv')\n",
        "data_test = pd.read_csv(data_path, index_col = 'Date')"
      ]
    },
    {
      "cell_type": "code",
      "execution_count": 100,
      "metadata": {},
      "outputs": [
        {
          "data": {
            "text/html": [
              "<div>\n",
              "<style scoped>\n",
              "    .dataframe tbody tr th:only-of-type {\n",
              "        vertical-align: middle;\n",
              "    }\n",
              "\n",
              "    .dataframe tbody tr th {\n",
              "        vertical-align: top;\n",
              "    }\n",
              "\n",
              "    .dataframe thead th {\n",
              "        text-align: right;\n",
              "    }\n",
              "</style>\n",
              "<table border=\"1\" class=\"dataframe\">\n",
              "  <thead>\n",
              "    <tr style=\"text-align: right;\">\n",
              "      <th></th>\n",
              "      <th>BTC</th>\n",
              "    </tr>\n",
              "    <tr>\n",
              "      <th>Date</th>\n",
              "      <th></th>\n",
              "    </tr>\n",
              "  </thead>\n",
              "  <tbody>\n",
              "    <tr>\n",
              "      <th>2014-09-15</th>\n",
              "      <td>398.821014</td>\n",
              "    </tr>\n",
              "    <tr>\n",
              "      <th>2014-09-22</th>\n",
              "      <td>377.181000</td>\n",
              "    </tr>\n",
              "    <tr>\n",
              "      <th>2014-09-29</th>\n",
              "      <td>320.510010</td>\n",
              "    </tr>\n",
              "    <tr>\n",
              "      <th>2014-10-06</th>\n",
              "      <td>378.549011</td>\n",
              "    </tr>\n",
              "    <tr>\n",
              "      <th>2014-10-13</th>\n",
              "      <td>389.545990</td>\n",
              "    </tr>\n",
              "  </tbody>\n",
              "</table>\n",
              "</div>"
            ],
            "text/plain": [
              "                   BTC\n",
              "Date                  \n",
              "2014-09-15  398.821014\n",
              "2014-09-22  377.181000\n",
              "2014-09-29  320.510010\n",
              "2014-10-06  378.549011\n",
              "2014-10-13  389.545990"
            ]
          },
          "execution_count": 100,
          "metadata": {},
          "output_type": "execute_result"
        }
      ],
      "source": [
        "data_test.head()"
      ]
    },
    {
      "cell_type": "code",
      "execution_count": 101,
      "metadata": {},
      "outputs": [
        {
          "data": {
            "text/html": [
              "<div>\n",
              "<style scoped>\n",
              "    .dataframe tbody tr th:only-of-type {\n",
              "        vertical-align: middle;\n",
              "    }\n",
              "\n",
              "    .dataframe tbody tr th {\n",
              "        vertical-align: top;\n",
              "    }\n",
              "\n",
              "    .dataframe thead th {\n",
              "        text-align: right;\n",
              "    }\n",
              "</style>\n",
              "<table border=\"1\" class=\"dataframe\">\n",
              "  <thead>\n",
              "    <tr style=\"text-align: right;\">\n",
              "      <th></th>\n",
              "      <th>BTC</th>\n",
              "    </tr>\n",
              "    <tr>\n",
              "      <th>Date</th>\n",
              "      <th></th>\n",
              "    </tr>\n",
              "  </thead>\n",
              "  <tbody>\n",
              "    <tr>\n",
              "      <th>2024-06-03</th>\n",
              "      <td>69647.992188</td>\n",
              "    </tr>\n",
              "    <tr>\n",
              "      <th>2024-06-10</th>\n",
              "      <td>66639.046875</td>\n",
              "    </tr>\n",
              "    <tr>\n",
              "      <th>2024-06-17</th>\n",
              "      <td>63180.796875</td>\n",
              "    </tr>\n",
              "    <tr>\n",
              "      <th>2024-06-24</th>\n",
              "      <td>62678.292969</td>\n",
              "    </tr>\n",
              "    <tr>\n",
              "      <th>2024-07-01</th>\n",
              "      <td>58303.539062</td>\n",
              "    </tr>\n",
              "  </tbody>\n",
              "</table>\n",
              "</div>"
            ],
            "text/plain": [
              "                     BTC\n",
              "Date                    \n",
              "2024-06-03  69647.992188\n",
              "2024-06-10  66639.046875\n",
              "2024-06-17  63180.796875\n",
              "2024-06-24  62678.292969\n",
              "2024-07-01  58303.539062"
            ]
          },
          "execution_count": 101,
          "metadata": {},
          "output_type": "execute_result"
        }
      ],
      "source": [
        "data_test.tail()"
      ]
    },
    {
      "cell_type": "code",
      "execution_count": 102,
      "metadata": {},
      "outputs": [],
      "source": [
        "import pickle\n",
        "\n",
        "# Load the scaler object from binary file\n",
        "scaler_path = (results_path / 'scaler.pkl').as_posix()\n",
        "with open(scaler_path, 'rb') as file:\n",
        "    scaler = pickle.load(file)\n"
      ]
    },
    {
      "cell_type": "code",
      "execution_count": 103,
      "metadata": {},
      "outputs": [],
      "source": [
        "data_test_scaled = pd.Series(scaler.fit_transform(data_test).squeeze(),\n",
        "                         index=data_test.index)"
      ]
    },
    {
      "cell_type": "code",
      "execution_count": 104,
      "metadata": {},
      "outputs": [
        {
          "data": {
            "text/html": [
              "<div>\n",
              "<style scoped>\n",
              "    .dataframe tbody tr th:only-of-type {\n",
              "        vertical-align: middle;\n",
              "    }\n",
              "\n",
              "    .dataframe tbody tr th {\n",
              "        vertical-align: top;\n",
              "    }\n",
              "\n",
              "    .dataframe thead th {\n",
              "        text-align: right;\n",
              "    }\n",
              "</style>\n",
              "<table border=\"1\" class=\"dataframe\">\n",
              "  <thead>\n",
              "    <tr style=\"text-align: right;\">\n",
              "      <th></th>\n",
              "      <th>0</th>\n",
              "      <th>1</th>\n",
              "      <th>2</th>\n",
              "      <th>3</th>\n",
              "      <th>4</th>\n",
              "      <th>5</th>\n",
              "      <th>6</th>\n",
              "      <th>7</th>\n",
              "      <th>8</th>\n",
              "      <th>9</th>\n",
              "      <th>10</th>\n",
              "      <th>11</th>\n",
              "      <th>12</th>\n",
              "      <th>13</th>\n",
              "      <th>14</th>\n",
              "      <th>15</th>\n",
              "      <th>16</th>\n",
              "      <th>17</th>\n",
              "      <th>18</th>\n",
              "      <th>19</th>\n",
              "    </tr>\n",
              "    <tr>\n",
              "      <th>Date</th>\n",
              "      <th></th>\n",
              "      <th></th>\n",
              "      <th></th>\n",
              "      <th></th>\n",
              "      <th></th>\n",
              "      <th></th>\n",
              "      <th></th>\n",
              "      <th></th>\n",
              "      <th></th>\n",
              "      <th></th>\n",
              "      <th></th>\n",
              "      <th></th>\n",
              "      <th></th>\n",
              "      <th></th>\n",
              "      <th></th>\n",
              "      <th></th>\n",
              "      <th></th>\n",
              "      <th></th>\n",
              "      <th></th>\n",
              "      <th></th>\n",
              "    </tr>\n",
              "  </thead>\n",
              "  <tbody>\n",
              "    <tr>\n",
              "      <th>2024-06-03</th>\n",
              "      <td>0.581180</td>\n",
              "      <td>0.588067</td>\n",
              "      <td>0.595772</td>\n",
              "      <td>0.676059</td>\n",
              "      <td>0.729890</td>\n",
              "      <td>0.724417</td>\n",
              "      <td>0.885181</td>\n",
              "      <td>0.967467</td>\n",
              "      <td>0.958621</td>\n",
              "      <td>0.942361</td>\n",
              "      <td>1.000000</td>\n",
              "      <td>0.972286</td>\n",
              "      <td>0.921335</td>\n",
              "      <td>0.909917</td>\n",
              "      <td>0.884420</td>\n",
              "      <td>0.897326</td>\n",
              "      <td>0.861012</td>\n",
              "      <td>0.928922</td>\n",
              "      <td>0.960413</td>\n",
              "      <td>0.949636</td>\n",
              "    </tr>\n",
              "    <tr>\n",
              "      <th>2024-06-10</th>\n",
              "      <td>0.588067</td>\n",
              "      <td>0.595772</td>\n",
              "      <td>0.676059</td>\n",
              "      <td>0.729890</td>\n",
              "      <td>0.724417</td>\n",
              "      <td>0.885181</td>\n",
              "      <td>0.967467</td>\n",
              "      <td>0.958621</td>\n",
              "      <td>0.942361</td>\n",
              "      <td>1.000000</td>\n",
              "      <td>0.972286</td>\n",
              "      <td>0.921335</td>\n",
              "      <td>0.909917</td>\n",
              "      <td>0.884420</td>\n",
              "      <td>0.897326</td>\n",
              "      <td>0.861012</td>\n",
              "      <td>0.928922</td>\n",
              "      <td>0.960413</td>\n",
              "      <td>0.949636</td>\n",
              "      <td>0.976300</td>\n",
              "    </tr>\n",
              "    <tr>\n",
              "      <th>2024-06-17</th>\n",
              "      <td>0.595772</td>\n",
              "      <td>0.676059</td>\n",
              "      <td>0.729890</td>\n",
              "      <td>0.724417</td>\n",
              "      <td>0.885181</td>\n",
              "      <td>0.967467</td>\n",
              "      <td>0.958621</td>\n",
              "      <td>0.942361</td>\n",
              "      <td>1.000000</td>\n",
              "      <td>0.972286</td>\n",
              "      <td>0.921335</td>\n",
              "      <td>0.909917</td>\n",
              "      <td>0.884420</td>\n",
              "      <td>0.897326</td>\n",
              "      <td>0.861012</td>\n",
              "      <td>0.928922</td>\n",
              "      <td>0.960413</td>\n",
              "      <td>0.949636</td>\n",
              "      <td>0.976300</td>\n",
              "      <td>0.933993</td>\n",
              "    </tr>\n",
              "    <tr>\n",
              "      <th>2024-06-24</th>\n",
              "      <td>0.676059</td>\n",
              "      <td>0.729890</td>\n",
              "      <td>0.724417</td>\n",
              "      <td>0.885181</td>\n",
              "      <td>0.967467</td>\n",
              "      <td>0.958621</td>\n",
              "      <td>0.942361</td>\n",
              "      <td>1.000000</td>\n",
              "      <td>0.972286</td>\n",
              "      <td>0.921335</td>\n",
              "      <td>0.909917</td>\n",
              "      <td>0.884420</td>\n",
              "      <td>0.897326</td>\n",
              "      <td>0.861012</td>\n",
              "      <td>0.928922</td>\n",
              "      <td>0.960413</td>\n",
              "      <td>0.949636</td>\n",
              "      <td>0.976300</td>\n",
              "      <td>0.933993</td>\n",
              "      <td>0.885370</td>\n",
              "    </tr>\n",
              "    <tr>\n",
              "      <th>2024-07-01</th>\n",
              "      <td>0.729890</td>\n",
              "      <td>0.724417</td>\n",
              "      <td>0.885181</td>\n",
              "      <td>0.967467</td>\n",
              "      <td>0.958621</td>\n",
              "      <td>0.942361</td>\n",
              "      <td>1.000000</td>\n",
              "      <td>0.972286</td>\n",
              "      <td>0.921335</td>\n",
              "      <td>0.909917</td>\n",
              "      <td>0.884420</td>\n",
              "      <td>0.897326</td>\n",
              "      <td>0.861012</td>\n",
              "      <td>0.928922</td>\n",
              "      <td>0.960413</td>\n",
              "      <td>0.949636</td>\n",
              "      <td>0.976300</td>\n",
              "      <td>0.933993</td>\n",
              "      <td>0.885370</td>\n",
              "      <td>0.878305</td>\n",
              "    </tr>\n",
              "  </tbody>\n",
              "</table>\n",
              "</div>"
            ],
            "text/plain": [
              "                  0         1         2         3         4         5    \n",
              "Date                                                                     \n",
              "2024-06-03  0.581180  0.588067  0.595772  0.676059  0.729890  0.724417  \\\n",
              "2024-06-10  0.588067  0.595772  0.676059  0.729890  0.724417  0.885181   \n",
              "2024-06-17  0.595772  0.676059  0.729890  0.724417  0.885181  0.967467   \n",
              "2024-06-24  0.676059  0.729890  0.724417  0.885181  0.967467  0.958621   \n",
              "2024-07-01  0.729890  0.724417  0.885181  0.967467  0.958621  0.942361   \n",
              "\n",
              "                  6         7         8         9         10        11   \n",
              "Date                                                                     \n",
              "2024-06-03  0.885181  0.967467  0.958621  0.942361  1.000000  0.972286  \\\n",
              "2024-06-10  0.967467  0.958621  0.942361  1.000000  0.972286  0.921335   \n",
              "2024-06-17  0.958621  0.942361  1.000000  0.972286  0.921335  0.909917   \n",
              "2024-06-24  0.942361  1.000000  0.972286  0.921335  0.909917  0.884420   \n",
              "2024-07-01  1.000000  0.972286  0.921335  0.909917  0.884420  0.897326   \n",
              "\n",
              "                  12        13        14        15        16        17   \n",
              "Date                                                                     \n",
              "2024-06-03  0.921335  0.909917  0.884420  0.897326  0.861012  0.928922  \\\n",
              "2024-06-10  0.909917  0.884420  0.897326  0.861012  0.928922  0.960413   \n",
              "2024-06-17  0.884420  0.897326  0.861012  0.928922  0.960413  0.949636   \n",
              "2024-06-24  0.897326  0.861012  0.928922  0.960413  0.949636  0.976300   \n",
              "2024-07-01  0.861012  0.928922  0.960413  0.949636  0.976300  0.933993   \n",
              "\n",
              "                  18        19  \n",
              "Date                            \n",
              "2024-06-03  0.960413  0.949636  \n",
              "2024-06-10  0.949636  0.976300  \n",
              "2024-06-17  0.976300  0.933993  \n",
              "2024-06-24  0.933993  0.885370  \n",
              "2024-07-01  0.885370  0.878305  "
            ]
          },
          "execution_count": 104,
          "metadata": {},
          "output_type": "execute_result"
        }
      ],
      "source": [
        "window_size = 20\n",
        "X_test, _ = create_univariate_rnn_data(data_test_scaled, window_size=window_size)\n",
        "X_test.tail()"
      ]
    },
    {
      "cell_type": "code",
      "execution_count": 105,
      "metadata": {},
      "outputs": [],
      "source": [
        "X_test = X_test.tail(1)"
      ]
    },
    {
      "cell_type": "code",
      "execution_count": 106,
      "metadata": {},
      "outputs": [
        {
          "data": {
            "text/plain": [
              "(1, 20)"
            ]
          },
          "execution_count": 106,
          "metadata": {},
          "output_type": "execute_result"
        }
      ],
      "source": [
        "X_test.shape"
      ]
    },
    {
      "cell_type": "code",
      "execution_count": 107,
      "metadata": {},
      "outputs": [],
      "source": [
        "from tensorflow.keras.models import load_model\n",
        "\n",
        "# Load de net model from HDF5 file\n",
        "rnn_path = (results_path / 'rnn.h5').as_posix()\n",
        "rnn_loaded = load_model(rnn_path)\n"
      ]
    },
    {
      "cell_type": "code",
      "execution_count": 108,
      "metadata": {},
      "outputs": [
        {
          "name": "stdout",
          "output_type": "stream",
          "text": [
            "1/1 [==============================] - 1s 1s/step\n"
          ]
        },
        {
          "data": {
            "text/plain": [
              "array([[0.8367514]], dtype=float32)"
            ]
          },
          "execution_count": 108,
          "metadata": {},
          "output_type": "execute_result"
        }
      ],
      "source": [
        "data_predict_scaled = rnn_loaded.predict(X_test)\n",
        "data_predict_scaled"
      ]
    },
    {
      "cell_type": "code",
      "execution_count": 109,
      "metadata": {},
      "outputs": [],
      "source": [
        "data_predict = pd.Series(scaler.inverse_transform(data_predict_scaled).squeeze(), index=X_test.index)"
      ]
    },
    {
      "cell_type": "code",
      "execution_count": 110,
      "metadata": {},
      "outputs": [
        {
          "name": "stdout",
          "output_type": "stream",
          "text": [
            "Forecast for July 15th: Date\n",
            "2024-07-01    59722.871094\n",
            "dtype: float32\n"
          ]
        }
      ],
      "source": [
        "print(f'Forecast for July 15th: {data_predict}')"
      ]
    },
    {
      "cell_type": "code",
      "execution_count": 115,
      "metadata": {},
      "outputs": [],
      "source": [
        "last_data = int(data_test.tail(1).values)\n"
      ]
    },
    {
      "cell_type": "code",
      "execution_count": 119,
      "metadata": {},
      "outputs": [
        {
          "name": "stdout",
          "output_type": "stream",
          "text": [
            "ROI: Date\n",
            "2024-07-01    2.435331\n",
            "dtype: float32\n"
          ]
        }
      ],
      "source": [
        "ROI = (data_predict - last_data )/last_data * 100\n",
        "print(f'ROI: {ROI}')"
      ]
    },
    {
      "cell_type": "code",
      "execution_count": null,
      "metadata": {},
      "outputs": [],
      "source": []
    }
  ],
  "metadata": {
    "colab": {
      "provenance": []
    },
    "kernelspec": {
      "display_name": "Python 3",
      "name": "python3"
    },
    "language_info": {
      "codemirror_mode": {
        "name": "ipython",
        "version": 3
      },
      "file_extension": ".py",
      "mimetype": "text/x-python",
      "name": "python",
      "nbconvert_exporter": "python",
      "pygments_lexer": "ipython3",
      "version": "3.9.13"
    }
  },
  "nbformat": 4,
  "nbformat_minor": 0
}
