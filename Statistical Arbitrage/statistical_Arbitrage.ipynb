{
 "cells": [
  {
   "cell_type": "code",
   "execution_count": 9,
   "metadata": {},
   "outputs": [],
   "source": [
    "import pandas as pd"
   ]
  },
  {
   "cell_type": "code",
   "execution_count": 10,
   "metadata": {},
   "outputs": [],
   "source": [
    "data = pd.read_csv('data/forex_data.csv', index_col = 'Date')\n"
   ]
  },
  {
   "cell_type": "code",
   "execution_count": 11,
   "metadata": {},
   "outputs": [
    {
     "data": {
      "text/plain": [
       "(2607, 49)"
      ]
     },
     "execution_count": 11,
     "metadata": {},
     "output_type": "execute_result"
    }
   ],
   "source": [
    "data.shape"
   ]
  },
  {
   "cell_type": "code",
   "execution_count": 12,
   "metadata": {},
   "outputs": [
    {
     "data": {
      "text/html": [
       "<div>\n",
       "<style scoped>\n",
       "    .dataframe tbody tr th:only-of-type {\n",
       "        vertical-align: middle;\n",
       "    }\n",
       "\n",
       "    .dataframe tbody tr th {\n",
       "        vertical-align: top;\n",
       "    }\n",
       "\n",
       "    .dataframe thead th {\n",
       "        text-align: right;\n",
       "    }\n",
       "</style>\n",
       "<table border=\"1\" class=\"dataframe\">\n",
       "  <thead>\n",
       "    <tr style=\"text-align: right;\">\n",
       "      <th></th>\n",
       "      <th>AUDCAD=X</th>\n",
       "      <th>AUDCHF=X</th>\n",
       "      <th>AUDEUR=X</th>\n",
       "      <th>AUDGBP=X</th>\n",
       "      <th>AUDJPY=X</th>\n",
       "      <th>AUDNZD=X</th>\n",
       "      <th>AUDUSD=X</th>\n",
       "      <th>CADAUD=X</th>\n",
       "      <th>CADCHF=X</th>\n",
       "      <th>CADEUR=X</th>\n",
       "      <th>...</th>\n",
       "      <th>NZDAUD=X</th>\n",
       "      <th>NZDCAD=X</th>\n",
       "      <th>NZDCHF=X</th>\n",
       "      <th>NZDEUR=X</th>\n",
       "      <th>NZDGBP=X</th>\n",
       "      <th>NZDJPY=X</th>\n",
       "      <th>NZDUSD=X</th>\n",
       "      <th>USDCAD=X</th>\n",
       "      <th>USDCHF=X</th>\n",
       "      <th>USDJPY=X</th>\n",
       "    </tr>\n",
       "    <tr>\n",
       "      <th>Date</th>\n",
       "      <th></th>\n",
       "      <th></th>\n",
       "      <th></th>\n",
       "      <th></th>\n",
       "      <th></th>\n",
       "      <th></th>\n",
       "      <th></th>\n",
       "      <th></th>\n",
       "      <th></th>\n",
       "      <th></th>\n",
       "      <th></th>\n",
       "      <th></th>\n",
       "      <th></th>\n",
       "      <th></th>\n",
       "      <th></th>\n",
       "      <th></th>\n",
       "      <th></th>\n",
       "      <th></th>\n",
       "      <th></th>\n",
       "      <th></th>\n",
       "      <th></th>\n",
       "    </tr>\n",
       "  </thead>\n",
       "  <tbody>\n",
       "    <tr>\n",
       "      <th>2014-06-30</th>\n",
       "      <td>1.00410</td>\n",
       "      <td>0.83880</td>\n",
       "      <td>0.6900</td>\n",
       "      <td>0.5526</td>\n",
       "      <td>95.497803</td>\n",
       "      <td>1.07250</td>\n",
       "      <td>0.941708</td>\n",
       "      <td>0.99545</td>\n",
       "      <td>0.83510</td>\n",
       "      <td>0.68702</td>\n",
       "      <td>...</td>\n",
       "      <td>0.93138</td>\n",
       "      <td>0.93560</td>\n",
       "      <td>0.78160</td>\n",
       "      <td>0.6430</td>\n",
       "      <td>0.51484</td>\n",
       "      <td>88.994003</td>\n",
       "      <td>0.877578</td>\n",
       "      <td>1.06655</td>\n",
       "      <td>0.89100</td>\n",
       "      <td>101.443001</td>\n",
       "    </tr>\n",
       "    <tr>\n",
       "      <th>2014-07-01</th>\n",
       "      <td>1.00600</td>\n",
       "      <td>0.83580</td>\n",
       "      <td>0.6886</td>\n",
       "      <td>0.5510</td>\n",
       "      <td>95.475197</td>\n",
       "      <td>1.07540</td>\n",
       "      <td>0.942951</td>\n",
       "      <td>0.99381</td>\n",
       "      <td>0.83070</td>\n",
       "      <td>0.68415</td>\n",
       "      <td>...</td>\n",
       "      <td>0.92894</td>\n",
       "      <td>0.93493</td>\n",
       "      <td>0.77675</td>\n",
       "      <td>0.6399</td>\n",
       "      <td>0.51210</td>\n",
       "      <td>88.750000</td>\n",
       "      <td>0.876271</td>\n",
       "      <td>1.06710</td>\n",
       "      <td>0.88673</td>\n",
       "      <td>101.290001</td>\n",
       "    </tr>\n",
       "    <tr>\n",
       "      <th>2014-07-02</th>\n",
       "      <td>1.00927</td>\n",
       "      <td>0.84226</td>\n",
       "      <td>0.6937</td>\n",
       "      <td>0.5534</td>\n",
       "      <td>96.362297</td>\n",
       "      <td>1.08304</td>\n",
       "      <td>0.949217</td>\n",
       "      <td>0.99031</td>\n",
       "      <td>0.83423</td>\n",
       "      <td>0.68716</td>\n",
       "      <td>...</td>\n",
       "      <td>0.92270</td>\n",
       "      <td>0.93178</td>\n",
       "      <td>0.77750</td>\n",
       "      <td>0.6404</td>\n",
       "      <td>0.51090</td>\n",
       "      <td>88.970001</td>\n",
       "      <td>0.876271</td>\n",
       "      <td>1.06338</td>\n",
       "      <td>0.88748</td>\n",
       "      <td>101.540001</td>\n",
       "    </tr>\n",
       "    <tr>\n",
       "      <th>2014-07-03</th>\n",
       "      <td>1.00613</td>\n",
       "      <td>0.83888</td>\n",
       "      <td>0.6909</td>\n",
       "      <td>0.5496</td>\n",
       "      <td>96.063004</td>\n",
       "      <td>1.07606</td>\n",
       "      <td>0.943485</td>\n",
       "      <td>0.99342</td>\n",
       "      <td>0.83347</td>\n",
       "      <td>0.68645</td>\n",
       "      <td>...</td>\n",
       "      <td>0.92869</td>\n",
       "      <td>0.93488</td>\n",
       "      <td>0.77925</td>\n",
       "      <td>0.6419</td>\n",
       "      <td>0.51070</td>\n",
       "      <td>89.250999</td>\n",
       "      <td>0.876578</td>\n",
       "      <td>1.06666</td>\n",
       "      <td>0.88919</td>\n",
       "      <td>101.830002</td>\n",
       "    </tr>\n",
       "    <tr>\n",
       "      <th>2014-07-04</th>\n",
       "      <td>0.99430</td>\n",
       "      <td>0.83490</td>\n",
       "      <td>0.6870</td>\n",
       "      <td>0.5450</td>\n",
       "      <td>95.526901</td>\n",
       "      <td>1.06830</td>\n",
       "      <td>0.935016</td>\n",
       "      <td>1.00520</td>\n",
       "      <td>0.83964</td>\n",
       "      <td>0.69069</td>\n",
       "      <td>...</td>\n",
       "      <td>0.93509</td>\n",
       "      <td>0.93010</td>\n",
       "      <td>0.78100</td>\n",
       "      <td>0.6426</td>\n",
       "      <td>0.50990</td>\n",
       "      <td>89.382004</td>\n",
       "      <td>0.874661</td>\n",
       "      <td>1.06365</td>\n",
       "      <td>0.89327</td>\n",
       "      <td>102.180000</td>\n",
       "    </tr>\n",
       "  </tbody>\n",
       "</table>\n",
       "<p>5 rows × 49 columns</p>\n",
       "</div>"
      ],
      "text/plain": [
       "            AUDCAD=X  AUDCHF=X  AUDEUR=X  AUDGBP=X   AUDJPY=X  AUDNZD=X   \n",
       "Date                                                                      \n",
       "2014-06-30   1.00410   0.83880    0.6900    0.5526  95.497803   1.07250  \\\n",
       "2014-07-01   1.00600   0.83580    0.6886    0.5510  95.475197   1.07540   \n",
       "2014-07-02   1.00927   0.84226    0.6937    0.5534  96.362297   1.08304   \n",
       "2014-07-03   1.00613   0.83888    0.6909    0.5496  96.063004   1.07606   \n",
       "2014-07-04   0.99430   0.83490    0.6870    0.5450  95.526901   1.06830   \n",
       "\n",
       "            AUDUSD=X  CADAUD=X  CADCHF=X  CADEUR=X  ...  NZDAUD=X  NZDCAD=X   \n",
       "Date                                                ...                       \n",
       "2014-06-30  0.941708   0.99545   0.83510   0.68702  ...   0.93138   0.93560  \\\n",
       "2014-07-01  0.942951   0.99381   0.83070   0.68415  ...   0.92894   0.93493   \n",
       "2014-07-02  0.949217   0.99031   0.83423   0.68716  ...   0.92270   0.93178   \n",
       "2014-07-03  0.943485   0.99342   0.83347   0.68645  ...   0.92869   0.93488   \n",
       "2014-07-04  0.935016   1.00520   0.83964   0.69069  ...   0.93509   0.93010   \n",
       "\n",
       "            NZDCHF=X  NZDEUR=X  NZDGBP=X   NZDJPY=X  NZDUSD=X  USDCAD=X   \n",
       "Date                                                                      \n",
       "2014-06-30   0.78160    0.6430   0.51484  88.994003  0.877578   1.06655  \\\n",
       "2014-07-01   0.77675    0.6399   0.51210  88.750000  0.876271   1.06710   \n",
       "2014-07-02   0.77750    0.6404   0.51090  88.970001  0.876271   1.06338   \n",
       "2014-07-03   0.77925    0.6419   0.51070  89.250999  0.876578   1.06666   \n",
       "2014-07-04   0.78100    0.6426   0.50990  89.382004  0.874661   1.06365   \n",
       "\n",
       "            USDCHF=X    USDJPY=X  \n",
       "Date                              \n",
       "2014-06-30   0.89100  101.443001  \n",
       "2014-07-01   0.88673  101.290001  \n",
       "2014-07-02   0.88748  101.540001  \n",
       "2014-07-03   0.88919  101.830002  \n",
       "2014-07-04   0.89327  102.180000  \n",
       "\n",
       "[5 rows x 49 columns]"
      ]
     },
     "execution_count": 12,
     "metadata": {},
     "output_type": "execute_result"
    }
   ],
   "source": [
    "data.head()"
   ]
  },
  {
   "cell_type": "code",
   "execution_count": null,
   "metadata": {},
   "outputs": [],
   "source": []
  },
  {
   "cell_type": "markdown",
   "metadata": {},
   "source": [
    "## Step 1 - Dimensionality Reduction\n",
    "\n",
    "\n",
    "\n",
    "### Using PCA to find a compact representation for each security\n",
    "\n",
    "- Extracts common underlying risk factors from securities’ returns;\n",
    "- Produces a compact representation for each security;\n",
    "\n",
    "Before applying PCA, the pricing data needs to be converted to returns and then normalized by subtracting the mean and dividing by the standard deviation, as follows:\n",
    "\n",
    "Returns \n",
    "\n",
    "$$ R_{i, t} = \\frac{P_{i,t} - P_{i,t-1}} {P_{i,t-1}} $$\n",
    "\n",
    "\n",
    "Data Normalization\n",
    "\n",
    "$$ Y_{i} =  \\frac{R_{i} - \\bar{R_{i}}} {\\sigma_{i}} $$\n",
    "\n",
    "Decomposition\n",
    "\n",
    "By applying PCA, $A$ is decomposed into the resulting eigenvectors and eigenvalues. An $n$ number of eigenvectors is selected where $n$ represents the number of features to describe the transformed data. The matrix containing the eigenvalues is set as the feature vector. The final dataset is obtained by multiplying the original matrix A by the feature vector."
   ]
  },
  {
   "cell_type": "code",
   "execution_count": 13,
   "metadata": {},
   "outputs": [
    {
     "name": "stdout",
     "output_type": "stream",
     "text": [
      "[0.26027606 0.1591565  0.14362117 0.10781052 0.08683108]\n"
     ]
    },
    {
     "data": {
      "image/png": "[encoded data removed]",
      "text/plain": [
       "<Figure size 1500x1500 with 25 Axes>"
      ]
     },
     "metadata": {},
     "output_type": "display_data"
    }
   ],
   "source": [
    "from libraries.clustering import Clustering\n",
    "\n",
    "ps = Clustering(data)\n",
    "\n",
    "# Here the first parameter is the number of features to reduce to.\n",
    "pca = ps.pca(5)\n",
    "print(pca.explained_variance_ratio_)\n",
    "\n",
    "# The following will plot the feature vector from the previous method call.\n",
    "ps.plot_pca_matrix()"
   ]
  },
  {
   "cell_type": "markdown",
   "metadata": {},
   "source": [
    "The first 5 components explain 75.7% of the total variance."
   ]
  },
  {
   "cell_type": "code",
   "execution_count": 14,
   "metadata": {},
   "outputs": [
    {
     "data": {
      "text/plain": [
       "0.7576953228075536"
      ]
     },
     "execution_count": 14,
     "metadata": {},
     "output_type": "execute_result"
    }
   ],
   "source": [
    "pca.explained_variance_ratio_.sum()"
   ]
  },
  {
   "cell_type": "markdown",
   "metadata": {},
   "source": [
    "## Step 2 - Unsupervised Learning\n",
    "### Applying OPTICS clustering algorithm\n",
    "\n",
    "- No need to specify the number of clusters in advance;\n",
    "- Robust to outliers;\n",
    "- Suitable for clusters with varying density\n",
    "\n",
    "\n",
    "The first method is to use the OPTICS clustering algorithm and letting the built-in automatic \n",
    "procedure to select the most suitable $\\epsilon$ for each cluster. "
   ]
  },
  {
   "cell_type": "code",
   "execution_count": 15,
   "metadata": {},
   "outputs": [
    {
     "name": "stderr",
     "output_type": "stream",
     "text": [
      "c:\\Users\\Reinier\\Documents\\Machine Learning\\Trading Algoritmico\\trading_Algo\\lib\\site-packages\\sklearn\\manifold\\_t_sne.py:800: FutureWarning:\n",
      "\n",
      "The default initialization in TSNE will change from 'random' to 'pca' in 1.2.\n",
      "\n",
      "c:\\Users\\Reinier\\Documents\\Machine Learning\\Trading Algoritmico\\trading_Algo\\lib\\site-packages\\sklearn\\manifold\\_t_sne.py:810: FutureWarning:\n",
      "\n",
      "The default learning rate in TSNE will change from 200.0 to 'auto' in 1.2.\n",
      "\n"
     ]
    },
    {
     "data": {
      "application/vnd.plotly.v1+json": {
       "config": {
        "plotlyServerURL": "https://plot.ly"
       },
       "data": [
        {
         "marker": {
          "size": 5
         },
         "mode": "markers",
         "name": "Cluster 0",
         "type": "scatter3d",
         "x": [
          -118.9219970703125,
          -505.05120849609375,
          238.85752868652344,
          98.11136627197266,
          120.15926361083984,
          -215.43312072753906
         ],
         "y": [
          49.75355529785156,
          292.7132568359375,
          123.40351867675781,
          151.30628967285156,
          221.19854736328125,
          -78.37445068359375
         ],
         "z": [
          -71.85526275634766,
          -567.4193115234375,
          69.29061889648438,
          -95.60435485839844,
          31.485565185546875,
          -146.2338104248047
         ]
        },
        {
         "marker": {
          "size": 5
         },
         "mode": "markers",
         "name": "Cluster 1",
         "type": "scatter3d",
         "x": [
          247.27777099609375,
          205.72972106933594,
          -55.65888977050781
         ],
         "y": [
          -41.54978561401367,
          -124.40369415283203,
          188.7371826171875
         ],
         "z": [
          18.274681091308594,
          -70.38104248046875,
          -0.3924410045146942
         ]
        },
        {
         "marker": {
          "size": 5
         },
         "mode": "markers",
         "name": "Cluster 2",
         "type": "scatter3d",
         "x": [
          41.5284538269043,
          -613.7045288085938,
          -44.056373596191406,
          -16.044721603393555,
          141.58392333984375
         ],
         "y": [
          -6.901062965393066,
          -2261.562255859375,
          21.256528854370117,
          -58.625301361083984,
          959.65576171875
         ],
         "z": [
          126.67250061035156,
          -1020.0184936523438,
          45.58421325683594,
          215.0071563720703,
          273.5549621582031
         ]
        },
        {
         "marker": {
          "size": 5
         },
         "mode": "markers",
         "name": "Cluster 3",
         "type": "scatter3d",
         "x": [
          326.05987548828125,
          79.61306762695312,
          46.19441604614258
         ],
         "y": [
          -107.65983581542969,
          80.40258026123047,
          95.73477172851562
         ],
         "z": [
          150.09788513183594,
          -207.16607666015625,
          12.2819185256958
         ]
        },
        {
         "marker": {
          "size": 5
         },
         "mode": "markers",
         "name": "Cluster 4",
         "type": "scatter3d",
         "x": [
          -86.61107635498047,
          -75.78092956542969,
          -54.9195556640625,
          143.19326782226562
         ],
         "y": [
          -63.0338134765625,
          -199.38223266601562,
          53.91300582885742,
          -34.351070404052734
         ],
         "z": [
          -163.98748779296875,
          -101.64398193359375,
          -202.37026977539062,
          -160.73226928710938
         ]
        },
        {
         "marker": {
          "size": 5
         },
         "mode": "markers",
         "name": "Cluster 5",
         "type": "scatter3d",
         "x": [
          -37.89978790283203,
          60.229209899902344,
          184.91500854492188
         ],
         "y": [
          107.32778930664062,
          -166.62815856933594,
          -139.17628479003906
         ],
         "z": [
          151.57699584960938,
          -151.72911071777344,
          150.6376190185547
         ]
        },
        {
         "marker": {
          "size": 5
         },
         "mode": "markers",
         "name": "Cluster 6",
         "type": "scatter3d",
         "x": [
          -340.776611328125,
          -77.6138687133789,
          1.4696645736694336
         ],
         "y": [
          -160.30422973632812,
          185.81126403808594,
          -174.43325805664062
         ],
         "z": [
          -661.3270874023438,
          -133.70582580566406,
          116.22945404052734
         ]
        },
        {
         "marker": {
          "size": 5
         },
         "mode": "markers",
         "name": "Cluster 7",
         "type": "scatter3d",
         "x": [
          43.19819641113281,
          142.38819885253906,
          -251.0107879638672,
          22.412569046020508
         ],
         "y": [
          -189.33999633789062,
          -251.98899841308594,
          -103.37395477294922,
          -72.3471908569336
         ],
         "z": [
          -13.531936645507812,
          -14.226810455322266,
          104.22087097167969,
          -256.40972900390625
         ]
        },
        {
         "marker": {
          "size": 5
         },
         "mode": "markers",
         "name": "Cluster 8",
         "type": "scatter3d",
         "x": [],
         "y": [],
         "z": []
        },
        {
         "marker": {
          "color": "black",
          "size": 5
         },
         "mode": "markers",
         "name": "Noise",
         "type": "scatter3d",
         "x": [
          -170.83172607421875,
          168.01541137695312,
          -192.2696533203125,
          95.5462875366211,
          -174.02764892578125,
          -177.9751739501953,
          101.57231140136719,
          -81.37408447265625,
          14.400188446044922,
          -115.30648040771484,
          -83.55979919433594,
          -36.90452194213867,
          -199.57833862304688,
          222.51153564453125,
          46.84126663208008,
          47.66135025024414,
          117.02394104003906,
          -140.09706115722656
         ],
         "y": [
          -205.68447875976562,
          15.890534400939941,
          169.14459228515625,
          144.75192260742188,
          84.1887435913086,
          83.22756958007812,
          -96.96646118164062,
          235.95066833496094,
          -5.210196018218994,
          -87.71265411376953,
          -194.1080322265625,
          -89.60382843017578,
          -35.44874954223633,
          71.23667907714844,
          65.29534149169922,
          233.56939697265625,
          4.87001895904541,
          -2.6918418407440186
         ],
         "z": [
          5.768016338348389,
          127.7780990600586,
          -30.904796600341797,
          159.8751678466797,
          93.6679916381836,
          -259.3379821777344,
          60.06555938720703,
          130.22703552246094,
          -101.02294921875,
          90.03491973876953,
          212.83065795898438,
          -13.472382545471191,
          -17.713727951049805,
          -105.32379150390625,
          275.84210205078125,
          -187.29261779785156,
          -35.06611251831055,
          189.599365234375
         ]
        }
       ],
       "layout": {
        "scene": {
         "xaxis": {
          "title": {
           "text": "Component 0"
          }
         },
         "yaxis": {
          "title": {
           "text": "Component 1"
          }
         },
         "zaxis": {
          "title": {
           "text": "Component 2"
          }
         }
        },
        "template": {
         "data": {
          "bar": [
           {
            "error_x": {
             "color": "#2a3f5f"
            },
            "error_y": {
             "color": "#2a3f5f"
            },
            "marker": {
             "line": {
              "color": "#E5ECF6",
              "width": 0.5
             },
             "pattern": {
              "fillmode": "overlay",
              "size": 10,
              "solidity": 0.2
             }
            },
            "type": "bar"
           }
          ],
          "barpolar": [
           {
            "marker": {
             "line": {
              "color": "#E5ECF6",
              "width": 0.5
             },
             "pattern": {
              "fillmode": "overlay",
              "size": 10,
              "solidity": 0.2
             }
            },
            "type": "barpolar"
           }
          ],
          "carpet": [
           {
            "aaxis": {
             "endlinecolor": "#2a3f5f",
             "gridcolor": "white",
             "linecolor": "white",
             "minorgridcolor": "white",
             "startlinecolor": "#2a3f5f"
            },
            "baxis": {
             "endlinecolor": "#2a3f5f",
             "gridcolor": "white",
             "linecolor": "white",
             "minorgridcolor": "white",
             "startlinecolor": "#2a3f5f"
            },
            "type": "carpet"
           }
          ],
          "choropleth": [
           {
            "colorbar": {
             "outlinewidth": 0,
             "ticks": ""
            },
            "type": "choropleth"
           }
          ],
          "contour": [
           {
            "colorbar": {
             "outlinewidth": 0,
             "ticks": ""
            },
            "colorscale": [
             [
              0,
              "#0d0887"
             ],
             [
              0.1111111111111111,
              "#46039f"
             ],
             [
              0.2222222222222222,
              "#7201a8"
             ],
             [
              0.3333333333333333,
              "#9c179e"
             ],
             [
              0.4444444444444444,
              "#bd3786"
             ],
             [
              0.5555555555555556,
              "#d8576b"
             ],
             [
              0.6666666666666666,
              "#ed7953"
             ],
             [
              0.7777777777777778,
              "#fb9f3a"
             ],
             [
              0.8888888888888888,
              "#fdca26"
             ],
             [
              1,
              "#f0f921"
             ]
            ],
            "type": "contour"
           }
          ],
          "contourcarpet": [
           {
            "colorbar": {
             "outlinewidth": 0,
             "ticks": ""
            },
            "type": "contourcarpet"
           }
          ],
          "heatmap": [
           {
            "colorbar": {
             "outlinewidth": 0,
             "ticks": ""
            },
            "colorscale": [
             [
              0,
              "#0d0887"
             ],
             [
              0.1111111111111111,
              "#46039f"
             ],
             [
              0.2222222222222222,
              "#7201a8"
             ],
             [
              0.3333333333333333,
              "#9c179e"
             ],
             [
              0.4444444444444444,
              "#bd3786"
             ],
             [
              0.5555555555555556,
              "#d8576b"
             ],
             [
              0.6666666666666666,
              "#ed7953"
             ],
             [
              0.7777777777777778,
              "#fb9f3a"
             ],
             [
              0.8888888888888888,
              "#fdca26"
             ],
             [
              1,
              "#f0f921"
             ]
            ],
            "type": "heatmap"
           }
          ],
          "heatmapgl": [
           {
            "colorbar": {
             "outlinewidth": 0,
             "ticks": ""
            },
            "colorscale": [
             [
              0,
              "#0d0887"
             ],
             [
              0.1111111111111111,
              "#46039f"
             ],
             [
              0.2222222222222222,
              "#7201a8"
             ],
             [
              0.3333333333333333,
              "#9c179e"
             ],
             [
              0.4444444444444444,
              "#bd3786"
             ],
             [
              0.5555555555555556,
              "#d8576b"
             ],
             [
              0.6666666666666666,
              "#ed7953"
             ],
             [
              0.7777777777777778,
              "#fb9f3a"
             ],
             [
              0.8888888888888888,
              "#fdca26"
             ],
             [
              1,
              "#f0f921"
             ]
            ],
            "type": "heatmapgl"
           }
          ],
          "histogram": [
           {
            "marker": {
             "pattern": {
              "fillmode": "overlay",
              "size": 10,
              "solidity": 0.2
             }
            },
            "type": "histogram"
           }
          ],
          "histogram2d": [
           {
            "colorbar": {
             "outlinewidth": 0,
             "ticks": ""
            },
            "colorscale": [
             [
              0,
              "#0d0887"
             ],
             [
              0.1111111111111111,
              "#46039f"
             ],
             [
              0.2222222222222222,
              "#7201a8"
             ],
             [
              0.3333333333333333,
              "#9c179e"
             ],
             [
              0.4444444444444444,
              "#bd3786"
             ],
             [
              0.5555555555555556,
              "#d8576b"
             ],
             [
              0.6666666666666666,
              "#ed7953"
             ],
             [
              0.7777777777777778,
              "#fb9f3a"
             ],
             [
              0.8888888888888888,
              "#fdca26"
             ],
             [
              1,
              "#f0f921"
             ]
            ],
            "type": "histogram2d"
           }
          ],
          "histogram2dcontour": [
           {
            "colorbar": {
             "outlinewidth": 0,
             "ticks": ""
            },
            "colorscale": [
             [
              0,
              "#0d0887"
             ],
             [
              0.1111111111111111,
              "#46039f"
             ],
             [
              0.2222222222222222,
              "#7201a8"
             ],
             [
              0.3333333333333333,
              "#9c179e"
             ],
             [
              0.4444444444444444,
              "#bd3786"
             ],
             [
              0.5555555555555556,
              "#d8576b"
             ],
             [
              0.6666666666666666,
              "#ed7953"
             ],
             [
              0.7777777777777778,
              "#fb9f3a"
             ],
             [
              0.8888888888888888,
              "#fdca26"
             ],
             [
              1,
              "#f0f921"
             ]
            ],
            "type": "histogram2dcontour"
           }
          ],
          "mesh3d": [
           {
            "colorbar": {
             "outlinewidth": 0,
             "ticks": ""
            },
            "type": "mesh3d"
           }
          ],
          "parcoords": [
           {
            "line": {
             "colorbar": {
              "outlinewidth": 0,
              "ticks": ""
             }
            },
            "type": "parcoords"
           }
          ],
          "pie": [
           {
            "automargin": true,
            "type": "pie"
           }
          ],
          "scatter": [
           {
            "fillpattern": {
             "fillmode": "overlay",
             "size": 10,
             "solidity": 0.2
            },
            "type": "scatter"
           }
          ],
          "scatter3d": [
           {
            "line": {
             "colorbar": {
              "outlinewidth": 0,
              "ticks": ""
             }
            },
            "marker": {
             "colorbar": {
              "outlinewidth": 0,
              "ticks": ""
             }
            },
            "type": "scatter3d"
           }
          ],
          "scattercarpet": [
           {
            "marker": {
             "colorbar": {
              "outlinewidth": 0,
              "ticks": ""
             }
            },
            "type": "scattercarpet"
           }
          ],
          "scattergeo": [
           {
            "marker": {
             "colorbar": {
              "outlinewidth": 0,
              "ticks": ""
             }
            },
            "type": "scattergeo"
           }
          ],
          "scattergl": [
           {
            "marker": {
             "colorbar": {
              "outlinewidth": 0,
              "ticks": ""
             }
            },
            "type": "scattergl"
           }
          ],
          "scattermapbox": [
           {
            "marker": {
             "colorbar": {
              "outlinewidth": 0,
              "ticks": ""
             }
            },
            "type": "scattermapbox"
           }
          ],
          "scatterpolar": [
           {
            "marker": {
             "colorbar": {
              "outlinewidth": 0,
              "ticks": ""
             }
            },
            "type": "scatterpolar"
           }
          ],
          "scatterpolargl": [
           {
            "marker": {
             "colorbar": {
              "outlinewidth": 0,
              "ticks": ""
             }
            },
            "type": "scatterpolargl"
           }
          ],
          "scatterternary": [
           {
            "marker": {
             "colorbar": {
              "outlinewidth": 0,
              "ticks": ""
             }
            },
            "type": "scatterternary"
           }
          ],
          "surface": [
           {
            "colorbar": {
             "outlinewidth": 0,
             "ticks": ""
            },
            "colorscale": [
             [
              0,
              "#0d0887"
             ],
             [
              0.1111111111111111,
              "#46039f"
             ],
             [
              0.2222222222222222,
              "#7201a8"
             ],
             [
              0.3333333333333333,
              "#9c179e"
             ],
             [
              0.4444444444444444,
              "#bd3786"
             ],
             [
              0.5555555555555556,
              "#d8576b"
             ],
             [
              0.6666666666666666,
              "#ed7953"
             ],
             [
              0.7777777777777778,
              "#fb9f3a"
             ],
             [
              0.8888888888888888,
              "#fdca26"
             ],
             [
              1,
              "#f0f921"
             ]
            ],
            "type": "surface"
           }
          ],
          "table": [
           {
            "cells": {
             "fill": {
              "color": "#EBF0F8"
             },
             "line": {
              "color": "white"
             }
            },
            "header": {
             "fill": {
              "color": "#C8D4E3"
             },
             "line": {
              "color": "white"
             }
            },
            "type": "table"
           }
          ]
         },
         "layout": {
          "annotationdefaults": {
           "arrowcolor": "#2a3f5f",
           "arrowhead": 0,
           "arrowwidth": 1
          },
          "autotypenumbers": "strict",
          "coloraxis": {
           "colorbar": {
            "outlinewidth": 0,
            "ticks": ""
           }
          },
          "colorscale": {
           "diverging": [
            [
             0,
             "#8e0152"
            ],
            [
             0.1,
             "#c51b7d"
            ],
            [
             0.2,
             "#de77ae"
            ],
            [
             0.3,
             "#f1b6da"
            ],
            [
             0.4,
             "#fde0ef"
            ],
            [
             0.5,
             "#f7f7f7"
            ],
            [
             0.6,
             "#e6f5d0"
            ],
            [
             0.7,
             "#b8e186"
            ],
            [
             0.8,
             "#7fbc41"
            ],
            [
             0.9,
             "#4d9221"
            ],
            [
             1,
             "#276419"
            ]
           ],
           "sequential": [
            [
             0,
             "#0d0887"
            ],
            [
             0.1111111111111111,
             "#46039f"
            ],
            [
             0.2222222222222222,
             "#7201a8"
            ],
            [
             0.3333333333333333,
             "#9c179e"
            ],
            [
             0.4444444444444444,
             "#bd3786"
            ],
            [
             0.5555555555555556,
             "#d8576b"
            ],
            [
             0.6666666666666666,
             "#ed7953"
            ],
            [
             0.7777777777777778,
             "#fb9f3a"
            ],
            [
             0.8888888888888888,
             "#fdca26"
            ],
            [
             1,
             "#f0f921"
            ]
           ],
           "sequentialminus": [
            [
             0,
             "#0d0887"
            ],
            [
             0.1111111111111111,
             "#46039f"
            ],
            [
             0.2222222222222222,
             "#7201a8"
            ],
            [
             0.3333333333333333,
             "#9c179e"
            ],
            [
             0.4444444444444444,
             "#bd3786"
            ],
            [
             0.5555555555555556,
             "#d8576b"
            ],
            [
             0.6666666666666666,
             "#ed7953"
            ],
            [
             0.7777777777777778,
             "#fb9f3a"
            ],
            [
             0.8888888888888888,
             "#fdca26"
            ],
            [
             1,
             "#f0f921"
            ]
           ]
          },
          "colorway": [
           "#636efa",
           "#EF553B",
           "#00cc96",
           "#ab63fa",
           "#FFA15A",
           "#19d3f3",
           "#FF6692",
           "#B6E880",
           "#FF97FF",
           "#FECB52"
          ],
          "font": {
           "color": "#2a3f5f"
          },
          "geo": {
           "bgcolor": "white",
           "lakecolor": "white",
           "landcolor": "#E5ECF6",
           "showlakes": true,
           "showland": true,
           "subunitcolor": "white"
          },
          "hoverlabel": {
           "align": "left"
          },
          "hovermode": "closest",
          "mapbox": {
           "style": "light"
          },
          "paper_bgcolor": "white",
          "plot_bgcolor": "#E5ECF6",
          "polar": {
           "angularaxis": {
            "gridcolor": "white",
            "linecolor": "white",
            "ticks": ""
           },
           "bgcolor": "#E5ECF6",
           "radialaxis": {
            "gridcolor": "white",
            "linecolor": "white",
            "ticks": ""
           }
          },
          "scene": {
           "xaxis": {
            "backgroundcolor": "#E5ECF6",
            "gridcolor": "white",
            "gridwidth": 2,
            "linecolor": "white",
            "showbackground": true,
            "ticks": "",
            "zerolinecolor": "white"
           },
           "yaxis": {
            "backgroundcolor": "#E5ECF6",
            "gridcolor": "white",
            "gridwidth": 2,
            "linecolor": "white",
            "showbackground": true,
            "ticks": "",
            "zerolinecolor": "white"
           },
           "zaxis": {
            "backgroundcolor": "#E5ECF6",
            "gridcolor": "white",
            "gridwidth": 2,
            "linecolor": "white",
            "showbackground": true,
            "ticks": "",
            "zerolinecolor": "white"
           }
          },
          "shapedefaults": {
           "line": {
            "color": "#2a3f5f"
           }
          },
          "ternary": {
           "aaxis": {
            "gridcolor": "white",
            "linecolor": "white",
            "ticks": ""
           },
           "baxis": {
            "gridcolor": "white",
            "linecolor": "white",
            "ticks": ""
           },
           "bgcolor": "#E5ECF6",
           "caxis": {
            "gridcolor": "white",
            "linecolor": "white",
            "ticks": ""
           }
          },
          "title": {
           "x": 0.05
          },
          "xaxis": {
           "automargin": true,
           "gridcolor": "white",
           "linecolor": "white",
           "ticks": "",
           "title": {
            "standoff": 15
           },
           "zerolinecolor": "white",
           "zerolinewidth": 2
          },
          "yaxis": {
           "automargin": true,
           "gridcolor": "white",
           "linecolor": "white",
           "ticks": "",
           "title": {
            "standoff": 15
           },
           "zerolinecolor": "white",
           "zerolinewidth": 2
          }
         }
        },
        "title": {
         "text": "Automatic Clustering\nOPTICS"
        }
       }
      }
     },
     "metadata": {},
     "output_type": "display_data"
    },
    {
     "data": {
      "text/plain": [
       "<Figure size 1000x1000 with 0 Axes>"
      ]
     },
     "metadata": {},
     "output_type": "display_data"
    }
   ],
   "source": [
    "clustered_pairs, clust = ps.cluster_using_optics(min_samples=3)\n",
    "ps.plot_clustering_info(method='OPTICS', n_dimensions=3)"
   ]
  },
  {
   "cell_type": "code",
   "execution_count": 20,
   "metadata": {},
   "outputs": [],
   "source": [
    "labels = clust.labels_"
   ]
  },
  {
   "cell_type": "code",
   "execution_count": 21,
   "metadata": {},
   "outputs": [
    {
     "name": "stdout",
     "output_type": "stream",
     "text": [
      "\n",
      "Total custers discovered: 8\n",
      "Estimated number of noise points: 18\n"
     ]
    }
   ],
   "source": [
    "n_clusters_ = len(set(labels)) - (1 if -1 in labels else 0)\n",
    "print (\"\\nTotal custers discovered: %d\" % n_clusters_)\n",
    "n_noise_ = list(labels).count(-1)\n",
    "\n",
    "print(\"Estimated number of noise points: %d\" % n_noise_)\n",
    "\n",
    "clustered = labels"
   ]
  },
  {
   "cell_type": "code",
   "execution_count": 22,
   "metadata": {},
   "outputs": [],
   "source": [
    "clustered_series = pd.Series(data=clustered.flatten())\n",
    "clustered_series = clustered_series[clustered_series != -1]"
   ]
  },
  {
   "cell_type": "code",
   "execution_count": 25,
   "metadata": {},
   "outputs": [
    {
     "data": {
      "text/plain": [
       "Text(0.5, 0, 'Currencies in Cluster')"
      ]
     },
     "execution_count": 25,
     "metadata": {},
     "output_type": "execute_result"
    },
    {
     "data": {
      "image/png": "[encoded data removed]",
      "text/plain": [
       "<Figure size 640x480 with 1 Axes>"
      ]
     },
     "metadata": {},
     "output_type": "display_data"
    }
   ],
   "source": [
    "import matplotlib.pyplot as plt\n",
    "\n",
    "plt.barh(\n",
    "    range(len(clustered_series.value_counts())),\n",
    "    clustered_series.value_counts(),\n",
    "    alpha=0.625\n",
    ")\n",
    "plt.title('Cluster Member Counts')\n",
    "plt.xlabel('Currencies in Cluster')"
   ]
  },
  {
   "cell_type": "markdown",
   "metadata": {},
   "source": [
    "## Step 3 - Select Pairs\n",
    "### Finding resulting pairs that pass the following set of rules\n",
    "\n",
    "Sarmento and Horta suggest four criteria to further filter the potential pairs to increase the probability of selecting pairs of securities whose prices will continue to mean revert in the future. \n",
    "- Cointegration using the Engle-Granger Test. \n",
    "- Hurst Exponent $H$: Keep the pairs with (spread) $H<0.5$ for mean-reversion. \n",
    "- Halflife: Keep the pairs with (spread) halflife in between $1$ day and $1$ year.\n",
    "- Minimum number of crossing mean in a year: Keep the pairs with (spread) crossing its mean $12$ times a year.\n",
    "\n",
    "\n",
    "These four criteria indicate attractive characteristics for potential tradable pairs of securities. The Engle-Granger tests the pair for cointegration. A Hurst exponent below 0.5 indicates that the pair of prices regresses strongly to the mean. Pairs with extreme half-life values, below 1 or above 356, are excluded from the selected pairs. Extreme half-life values indicate a price series that either reverts too quickly or too slowly to be traded. Finally, the price series must cross the long-term spread mean on average at least 12 times a year."
   ]
  },
  {
   "cell_type": "code",
   "execution_count": 8,
   "metadata": {},
   "outputs": [
    {
     "ename": "TypeError",
     "evalue": "unhashable type: 'list'",
     "output_type": "error",
     "traceback": [
      "\u001b[1;31m---------------------------------------------------------------------------\u001b[0m",
      "\u001b[1;31mTypeError\u001b[0m                                 Traceback (most recent call last)",
      "Cell \u001b[1;32mIn[8], line 2\u001b[0m\n\u001b[0;32m      1\u001b[0m \u001b[38;5;66;03m# Removing duplicates from clustered pairs\u001b[39;00m\n\u001b[1;32m----> 2\u001b[0m clustered_pairs \u001b[38;5;241m=\u001b[39m \u001b[38;5;28mlist\u001b[39m(\u001b[38;5;28;43mset\u001b[39;49m\u001b[43m(\u001b[49m\u001b[43mclustered_pairs\u001b[49m\u001b[43m)\u001b[49m)\n",
      "\u001b[1;31mTypeError\u001b[0m: unhashable type: 'list'"
     ]
    }
   ],
   "source": [
    "# Removing duplicates from clustered pairs\n",
    "clustered_pairs = list(set(clustered_pairs))"
   ]
  },
  {
   "cell_type": "code",
   "execution_count": null,
   "metadata": {},
   "outputs": [
    {
     "data": {
      "text/plain": [
       "[('CHFAUD=X', 'CHFCAD=X'),\n",
       " ('CADNZD=X', 'JPYCHF=X'),\n",
       " ('CADGBP=X', 'EURAUD=X'),\n",
       " ('CADGBP=X', 'EURNZD=X'),\n",
       " ('AUDNZD=X', 'USDJPY=X'),\n",
       " ('CADGBP=X', 'CHFJPY=X'),\n",
       " ('CADNZD=X', 'GBPJPY=X'),\n",
       " ('EURGBP=X', 'GBPEUR=X'),\n",
       " ('GBPAUD=X', 'GBPUSD=X'),\n",
       " ('AUDCHF=X', 'USDCHF=X'),\n",
       " ('CADNZD=X', 'CHFEUR=X'),\n",
       " ('NZDCAD=X', 'NZDUSD=X'),\n",
       " ('CADGBP=X', 'GBPEUR=X'),\n",
       " ('CADGBP=X', 'GBPJPY=X'),\n",
       " ('EURCHF=X', 'JPYCHF=X'),\n",
       " ('CHFGBP=X', 'EURCAD=X'),\n",
       " ('GBPCHF=X', 'NZDGBP=X'),\n",
       " ('EURGBP=X', 'GBPCHF=X'),\n",
       " ('CADGBP=X', 'CHFEUR=X'),\n",
       " ('AUDEUR=X', 'CADEUR=X'),\n",
       " ('AUDUSD=X', 'NZDJPY=X'),\n",
       " ('EURGBP=X', 'EURJPY=X'),\n",
       " ('AUDUSD=X', 'NZDCAD=X'),\n",
       " ('EURJPY=X', 'EURNZD=X'),\n",
       " ('EURJPY=X', 'EURUSD=X'),\n",
       " ('CADGBP=X', 'GBPCHF=X'),\n",
       " ('EURAUD=X', 'EURCHF=X'),\n",
       " ('GBPNZD=X', 'GBPUSD=X'),\n",
       " ('CHFAUD=X', 'CHFNZD=X'),\n",
       " ('CADAUD=X', 'EURCAD=X'),\n",
       " ('EURAUD=X', 'EURGBP=X'),\n",
       " ('EURAUD=X', 'EURUSD=X'),\n",
       " ('EURJPY=X', 'GBPEUR=X'),\n",
       " ('EURJPY=X', 'GBPJPY=X'),\n",
       " ('GBPJPY=X', 'NZDGBP=X'),\n",
       " ('AUDCAD=X', 'NZDJPY=X'),\n",
       " ('AUDJPY=X', 'NZDJPY=X'),\n",
       " ('AUDCAD=X', 'NZDCAD=X'),\n",
       " ('JPYEUR=X', 'JPYGBP=X'),\n",
       " ('EURAUD=X', 'NZDGBP=X'),\n",
       " ('JPYCHF=X', 'NZDGBP=X'),\n",
       " ('CHFJPY=X', 'EURCAD=X'),\n",
       " ('EURGBP=X', 'JPYCHF=X'),\n",
       " ('CHFJPY=X', 'EURGBP=X'),\n",
       " ('EURGBP=X', 'GBPJPY=X'),\n",
       " ('CADCHF=X', 'USDCHF=X'),\n",
       " ('JPYAUD=X', 'USDCAD=X'),\n",
       " ('CADJPY=X', 'USDJPY=X'),\n",
       " ('AUDGBP=X', 'JPYEUR=X'),\n",
       " ('AUDGBP=X', 'JPYCAD=X'),\n",
       " ('CHFEUR=X', 'GBPJPY=X'),\n",
       " ('EURCAD=X', 'EURCHF=X'),\n",
       " ('CADAUD=X', 'CADGBP=X'),\n",
       " ('EURJPY=X', 'GBPCHF=X'),\n",
       " ('JPYCAD=X', 'JPYEUR=X'),\n",
       " ('CADGBP=X', 'JPYCHF=X'),\n",
       " ('CHFGBP=X', 'EURCHF=X'),\n",
       " ('CHFJPY=X', 'NZDGBP=X'),\n",
       " ('GBPCAD=X', 'GBPUSD=X'),\n",
       " ('GBPEUR=X', 'NZDGBP=X'),\n",
       " ('EURCAD=X', 'EURGBP=X'),\n",
       " ('EURCAD=X', 'EURUSD=X'),\n",
       " ('CHFEUR=X', 'EURCAD=X'),\n",
       " ('CHFEUR=X', 'EURGBP=X'),\n",
       " ('CHFGBP=X', 'EURGBP=X'),\n",
       " ('CHFGBP=X', 'EURUSD=X'),\n",
       " ('CHFCAD=X', 'CHFNZD=X'),\n",
       " ('CADNZD=X', 'EURCAD=X'),\n",
       " ('JPYEUR=X', 'JPYNZD=X'),\n",
       " ('CADNZD=X', 'EURGBP=X'),\n",
       " ('EURCAD=X', 'NZDGBP=X'),\n",
       " ('GBPCHF=X', 'GBPEUR=X'),\n",
       " ('GBPCHF=X', 'GBPJPY=X'),\n",
       " ('EURAUD=X', 'EURJPY=X'),\n",
       " ('NZDJPY=X', 'NZDUSD=X'),\n",
       " ('CHFEUR=X', 'NZDGBP=X'),\n",
       " ('CHFGBP=X', 'NZDGBP=X'),\n",
       " ('EURNZD=X', 'EURUSD=X'),\n",
       " ('CADAUD=X', 'EURCHF=X'),\n",
       " ('CHFGBP=X', 'GBPEUR=X'),\n",
       " ('AUDGBP=X', 'JPYGBP=X'),\n",
       " ('CADNZD=X', 'NZDGBP=X'),\n",
       " ('EURNZD=X', 'NZDGBP=X'),\n",
       " ('JPYCAD=X', 'JPYGBP=X'),\n",
       " ('NZDCHF=X', 'USDCHF=X'),\n",
       " ('CADGBP=X', 'EURCAD=X'),\n",
       " ('AUDCAD=X', 'NZDUSD=X'),\n",
       " ('EURUSD=X', 'NZDGBP=X'),\n",
       " ('CADAUD=X', 'EURUSD=X'),\n",
       " ('CADAUD=X', 'EURGBP=X'),\n",
       " ('EURNZD=X', 'GBPEUR=X'),\n",
       " ('AUDCAD=X', 'AUDJPY=X'),\n",
       " ('EURAUD=X', 'EURNZD=X'),\n",
       " ('EURJPY=X', 'JPYCHF=X'),\n",
       " ('GBPAUD=X', 'GBPNZD=X'),\n",
       " ('EURUSD=X', 'GBPEUR=X'),\n",
       " ('EURCHF=X', 'EURGBP=X'),\n",
       " ('CHFJPY=X', 'EURCHF=X'),\n",
       " ('CADAUD=X', 'CADNZD=X'),\n",
       " ('CADAUD=X', 'NZDGBP=X'),\n",
       " ('EURCAD=X', 'GBPCHF=X'),\n",
       " ('CHFEUR=X', 'CHFGBP=X'),\n",
       " ('AUDJPY=X', 'NZDCAD=X'),\n",
       " ('CHFGBP=X', 'GBPCHF=X'),\n",
       " ('CADAUD=X', 'GBPEUR=X'),\n",
       " ('EURCHF=X', 'NZDGBP=X'),\n",
       " ('CHFJPY=X', 'EURNZD=X'),\n",
       " ('EURCAD=X', 'EURJPY=X'),\n",
       " ('CHFJPY=X', 'EURUSD=X'),\n",
       " ('EURAUD=X', 'GBPEUR=X'),\n",
       " ('EURAUD=X', 'GBPJPY=X'),\n",
       " ('CHFGBP=X', 'EURJPY=X'),\n",
       " ('NZDCAD=X', 'NZDJPY=X'),\n",
       " ('AUDGBP=X', 'JPYNZD=X'),\n",
       " ('EURNZD=X', 'GBPCHF=X'),\n",
       " ('CHFEUR=X', 'EURCHF=X'),\n",
       " ('EURUSD=X', 'GBPCHF=X'),\n",
       " ('JPYCAD=X', 'JPYNZD=X'),\n",
       " ('CHFJPY=X', 'GBPEUR=X'),\n",
       " ('EURCAD=X', 'EURNZD=X'),\n",
       " ('CADNZD=X', 'EURCHF=X'),\n",
       " ('CADAUD=X', 'CHFGBP=X'),\n",
       " ('CHFEUR=X', 'EURAUD=X'),\n",
       " ('AUDUSD=X', 'NZDUSD=X'),\n",
       " ('CHFEUR=X', 'EURNZD=X'),\n",
       " ('CHFEUR=X', 'EURUSD=X'),\n",
       " ('CHFGBP=X', 'CHFJPY=X'),\n",
       " ('CADAUD=X', 'GBPCHF=X'),\n",
       " ('CHFGBP=X', 'EURAUD=X'),\n",
       " ('CHFGBP=X', 'EURNZD=X'),\n",
       " ('GBPEUR=X', 'GBPJPY=X'),\n",
       " ('EURAUD=X', 'GBPCHF=X'),\n",
       " ('CADNZD=X', 'EURNZD=X'),\n",
       " ('CADAUD=X', 'EURJPY=X'),\n",
       " ('AUDCAD=X', 'AUDUSD=X'),\n",
       " ('CADNZD=X', 'EURUSD=X'),\n",
       " ('GBPCHF=X', 'JPYCHF=X'),\n",
       " ('AUDCHF=X', 'NZDCHF=X'),\n",
       " ('GBPAUD=X', 'GBPCAD=X'),\n",
       " ('EURCAD=X', 'JPYCHF=X'),\n",
       " ('EURCAD=X', 'GBPEUR=X'),\n",
       " ('EURCAD=X', 'GBPJPY=X'),\n",
       " ('EURCHF=X', 'EURJPY=X'),\n",
       " ('CADGBP=X', 'EURCHF=X'),\n",
       " ('CHFGBP=X', 'JPYCHF=X'),\n",
       " ('CHFEUR=X', 'GBPEUR=X'),\n",
       " ('CHFGBP=X', 'GBPJPY=X'),\n",
       " ('CHFJPY=X', 'GBPCHF=X'),\n",
       " ('CADNZD=X', 'GBPEUR=X'),\n",
       " ('CADAUD=X', 'EURAUD=X'),\n",
       " ('CADAUD=X', 'EURNZD=X'),\n",
       " ('CADGBP=X', 'EURGBP=X'),\n",
       " ('AUDJPY=X', 'NZDUSD=X'),\n",
       " ('CADAUD=X', 'CHFJPY=X'),\n",
       " ('CADGBP=X', 'EURUSD=X'),\n",
       " ('CHFJPY=X', 'EURJPY=X'),\n",
       " ('EURGBP=X', 'NZDGBP=X'),\n",
       " ('EURNZD=X', 'GBPJPY=X'),\n",
       " ('EURNZD=X', 'JPYCHF=X'),\n",
       " ('EURCHF=X', 'EURNZD=X'),\n",
       " ('EURUSD=X', 'JPYCHF=X'),\n",
       " ('EURUSD=X', 'GBPJPY=X'),\n",
       " ('EURCHF=X', 'EURUSD=X'),\n",
       " ('CADGBP=X', 'CADNZD=X'),\n",
       " ('CADGBP=X', 'NZDGBP=X'),\n",
       " ('GBPJPY=X', 'JPYCHF=X'),\n",
       " ('CHFEUR=X', 'GBPCHF=X'),\n",
       " ('CADAUD=X', 'JPYCHF=X'),\n",
       " ('GBPCAD=X', 'GBPNZD=X'),\n",
       " ('CADAUD=X', 'GBPJPY=X'),\n",
       " ('CHFJPY=X', 'EURAUD=X'),\n",
       " ('EURAUD=X', 'JPYCHF=X'),\n",
       " ('AUDCHF=X', 'CADCHF=X'),\n",
       " ('CADNZD=X', 'CHFGBP=X'),\n",
       " ('CHFEUR=X', 'EURJPY=X'),\n",
       " ('EURCHF=X', 'GBPEUR=X'),\n",
       " ('EURCHF=X', 'GBPJPY=X'),\n",
       " ('CADNZD=X', 'GBPCHF=X'),\n",
       " ('NZDAUD=X', 'USDCAD=X'),\n",
       " ('CADNZD=X', 'EURJPY=X'),\n",
       " ('CADAUD=X', 'CHFEUR=X'),\n",
       " ('CADEUR=X', 'NZDEUR=X'),\n",
       " ('CHFJPY=X', 'JPYCHF=X'),\n",
       " ('CHFJPY=X', 'GBPJPY=X'),\n",
       " ('CADGBP=X', 'CHFGBP=X'),\n",
       " ('GBPEUR=X', 'JPYCHF=X'),\n",
       " ('CHFEUR=X', 'CHFJPY=X'),\n",
       " ('AUDNZD=X', 'CADJPY=X'),\n",
       " ('CADGBP=X', 'EURJPY=X'),\n",
       " ('CADCHF=X', 'NZDCHF=X'),\n",
       " ('CADNZD=X', 'EURAUD=X'),\n",
       " ('CADNZD=X', 'CHFJPY=X'),\n",
       " ('AUDJPY=X', 'AUDUSD=X'),\n",
       " ('EURCHF=X', 'GBPCHF=X'),\n",
       " ('EURJPY=X', 'NZDGBP=X'),\n",
       " ('JPYAUD=X', 'NZDAUD=X'),\n",
       " ('JPYGBP=X', 'JPYNZD=X'),\n",
       " ('EURGBP=X', 'EURNZD=X'),\n",
       " ('EURAUD=X', 'EURCAD=X'),\n",
       " ('EURGBP=X', 'EURUSD=X'),\n",
       " ('CHFEUR=X', 'JPYCHF=X'),\n",
       " ('AUDEUR=X', 'NZDEUR=X')]"
      ]
     },
     "execution_count": 9,
     "metadata": {},
     "output_type": "execute_result"
    }
   ],
   "source": [
    "clustered_pairs"
   ]
  },
  {
   "cell_type": "code",
   "execution_count": null,
   "metadata": {},
   "outputs": [],
   "source": [
    "from libraries.cointegration import CointegrationSpreadSelector\n",
    "\n",
    "# Load data into spread selector\n",
    "sp = CointegrationSpreadSelector(prices_df=data, baskets_to_filter=clustered_pairs)\n",
    "                                                    \n",
    "\n",
    "# Filtered spreads that passed the criteria by specifying hedge ratio calculation method as well as filtering conditions.\n",
    "filtered_spreads = sp.select_spreads()"
   ]
  },
  {
   "cell_type": "code",
   "execution_count": null,
   "metadata": {},
   "outputs": [
    {
     "data": {
      "text/plain": [
       "array(['AUDCAD=X_AUDUSD=X', 'AUDCAD=X_NZDCAD=X', 'AUDCAD=X_NZDUSD=X',\n",
       "       'AUDCHF=X_NZDCHF=X', 'AUDCHF=X_USDCHF=X', 'AUDEUR=X_NZDEUR=X',\n",
       "       'AUDGBP=X_JPYCAD=X', 'AUDGBP=X_JPYEUR=X', 'AUDGBP=X_JPYGBP=X',\n",
       "       'AUDGBP=X_JPYNZD=X', 'AUDJPY=X_NZDJPY=X', 'AUDUSD=X_NZDCAD=X',\n",
       "       'AUDUSD=X_NZDUSD=X', 'CADAUD=X_CADNZD=X', 'CADAUD=X_CHFEUR=X',\n",
       "       'CADAUD=X_EURAUD=X', 'CADAUD=X_EURNZD=X', 'CADAUD=X_EURUSD=X',\n",
       "       'CADCHF=X_USDCHF=X', 'CADGBP=X_EURAUD=X', 'CADGBP=X_EURCAD=X',\n",
       "       'CADGBP=X_EURGBP=X', 'CADGBP=X_EURUSD=X', 'CADJPY=X_USDJPY=X',\n",
       "       'CADNZD=X_CHFEUR=X', 'CADNZD=X_CHFGBP=X', 'CADNZD=X_EURAUD=X',\n",
       "       'CADNZD=X_EURNZD=X', 'CADNZD=X_EURUSD=X', 'CHFAUD=X_CHFNZD=X',\n",
       "       'CHFEUR=X_EURNZD=X', 'EURAUD=X_EURNZD=X', 'EURAUD=X_EURUSD=X',\n",
       "       'EURCAD=X_EURCHF=X', 'EURCAD=X_EURUSD=X', 'EURCHF=X_EURUSD=X',\n",
       "       'EURGBP=X_EURUSD=X', 'EURNZD=X_EURUSD=X', 'GBPAUD=X_GBPNZD=X',\n",
       "       'GBPAUD=X_GBPUSD=X', 'GBPCAD=X_GBPUSD=X', 'GBPNZD=X_GBPUSD=X',\n",
       "       'JPYCAD=X_JPYEUR=X', 'JPYCAD=X_JPYGBP=X', 'JPYCAD=X_JPYNZD=X',\n",
       "       'JPYEUR=X_JPYGBP=X', 'JPYEUR=X_JPYNZD=X', 'JPYGBP=X_JPYNZD=X',\n",
       "       'NZDAUD=X_USDCAD=X', 'NZDCAD=X_NZDUSD=X', 'NZDCHF=X_USDCHF=X'],\n",
       "      dtype=object)"
      ]
     },
     "execution_count": 14,
     "metadata": {},
     "output_type": "execute_result"
    }
   ],
   "source": [
    "filtered_spreads"
   ]
  },
  {
   "cell_type": "code",
   "execution_count": null,
   "metadata": {},
   "outputs": [
    {
     "name": "stdout",
     "output_type": "stream",
     "text": [
      "{'coint_t': -4.252621053596027, 'p_value_99%': -3.43286180083873, 'p_value_95%': -2.8626497201105283, 'p_value_90%': -2.5673607436289947, 'hurst_exponent': 0.4890790032541848, 'half_life': 95.57207466477114, 'crossovers': 61}\n"
     ]
    }
   ],
   "source": [
    "# The module can also work with user-specified spreads to test if a spread passes cointegration selection criterion.\n",
    "spread = sp.spreads_dict['NZDCAD=X_NZDUSD=X'].copy() # Let's take an arbitrary spread.\n",
    "pairs_selector_custom = CointegrationSpreadSelector(prices_df=None, baskets_to_filter=None)\n",
    "stats = pairs_selector_custom.generate_spread_statistics(spread, log_info=True) # log_info=True to save stats.\n",
    "print(stats)"
   ]
  },
  {
   "cell_type": "code",
   "execution_count": null,
   "metadata": {},
   "outputs": [
    {
     "name": "stdout",
     "output_type": "stream",
     "text": [
      "['NZDCAD=X_NZDUSD=X']\n"
     ]
    }
   ],
   "source": [
    "filtered_spreads_custom = pairs_selector_custom.apply_filtering_rules(adf_cutoff_threshold=0.9, hurst_exp_threshold=0.5)\n",
    "print(filtered_spreads_custom)"
   ]
  },
  {
   "cell_type": "code",
   "execution_count": null,
   "metadata": {},
   "outputs": [
    {
     "data": {
      "text/plain": [
       "<Axes: xlabel='Date'>"
      ]
     },
     "execution_count": 22,
     "metadata": {},
     "output_type": "execute_result"
    },
    {
     "data": {
      "image/png": "[encoded data removed]",
      "text/plain": [
       "<Figure size 1200x600 with 1 Axes>"
      ]
     },
     "metadata": {},
     "output_type": "display_data"
    }
   ],
   "source": [
    "# Plot one of the spreads\n",
    "sp.spreads_dict['NZDCAD=X_NZDUSD=X'].plot(figsize=(12,6))"
   ]
  },
  {
   "cell_type": "code",
   "execution_count": null,
   "metadata": {},
   "outputs": [
    {
     "data": {
      "text/html": [
       "<div>\n",
       "<style scoped>\n",
       "    .dataframe tbody tr th:only-of-type {\n",
       "        vertical-align: middle;\n",
       "    }\n",
       "\n",
       "    .dataframe tbody tr th {\n",
       "        vertical-align: top;\n",
       "    }\n",
       "\n",
       "    .dataframe thead th {\n",
       "        text-align: right;\n",
       "    }\n",
       "</style>\n",
       "<table border=\"1\" class=\"dataframe\">\n",
       "  <thead>\n",
       "    <tr style=\"text-align: right;\">\n",
       "      <th></th>\n",
       "      <th>NZDCAD=X_NZDUSD=X</th>\n",
       "    </tr>\n",
       "  </thead>\n",
       "  <tbody>\n",
       "    <tr>\n",
       "      <th>coint_t</th>\n",
       "      <td>-4.252621</td>\n",
       "    </tr>\n",
       "    <tr>\n",
       "      <th>p_value_99%</th>\n",
       "      <td>-3.432862</td>\n",
       "    </tr>\n",
       "    <tr>\n",
       "      <th>p_value_95%</th>\n",
       "      <td>-2.86265</td>\n",
       "    </tr>\n",
       "    <tr>\n",
       "      <th>p_value_90%</th>\n",
       "      <td>-2.567361</td>\n",
       "    </tr>\n",
       "    <tr>\n",
       "      <th>hurst_exponent</th>\n",
       "      <td>0.489079</td>\n",
       "    </tr>\n",
       "    <tr>\n",
       "      <th>half_life</th>\n",
       "      <td>95.572075</td>\n",
       "    </tr>\n",
       "    <tr>\n",
       "      <th>crossovers</th>\n",
       "      <td>61</td>\n",
       "    </tr>\n",
       "    <tr>\n",
       "      <th>hedge_ratio</th>\n",
       "      <td>{'NZDCAD=X': 1.0, 'NZDUSD=X': 1.2912899819771497}</td>\n",
       "    </tr>\n",
       "  </tbody>\n",
       "</table>\n",
       "</div>"
      ],
      "text/plain": [
       "                                                NZDCAD=X_NZDUSD=X\n",
       "coint_t                                                 -4.252621\n",
       "p_value_99%                                             -3.432862\n",
       "p_value_95%                                              -2.86265\n",
       "p_value_90%                                             -2.567361\n",
       "hurst_exponent                                           0.489079\n",
       "half_life                                               95.572075\n",
       "crossovers                                                     61\n",
       "hedge_ratio     {'NZDCAD=X': 1.0, 'NZDUSD=X': 1.2912899819771497}"
      ]
     },
     "execution_count": 23,
     "metadata": {},
     "output_type": "execute_result"
    }
   ],
   "source": [
    "# The following detailed spread statistics can be obtained\n",
    "sp.selection_logs.loc[['NZDCAD=X_NZDUSD=X']].T"
   ]
  },
  {
   "cell_type": "code",
   "execution_count": null,
   "metadata": {},
   "outputs": [],
   "source": []
  }
 ],
 "metadata": {
  "kernelspec": {
   "display_name": "trading_Algo",
   "language": "python",
   "name": "python3"
  },
  "language_info": {
   "codemirror_mode": {
    "name": "ipython",
    "version": 3
   },
   "file_extension": ".py",
   "mimetype": "text/x-python",
   "name": "python",
   "nbconvert_exporter": "python",
   "pygments_lexer": "ipython3",
   "version": "3.9.13"
  }
 },
 "nbformat": 4,
 "nbformat_minor": 2
}
