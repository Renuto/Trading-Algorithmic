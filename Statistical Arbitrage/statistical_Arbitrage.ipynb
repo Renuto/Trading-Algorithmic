{
 "cells": [
  {
   "cell_type": "code",
   "execution_count": 2,
   "metadata": {},
   "outputs": [],
   "source": [
    "import pandas as pd"
   ]
  },
  {
   "cell_type": "code",
   "execution_count": 39,
   "metadata": {},
   "outputs": [],
   "source": [
    "data = pd.read_csv('data/forex_data_h1.csv', index_col = 'Datetime')\n"
   ]
  },
  {
   "cell_type": "code",
   "execution_count": 40,
   "metadata": {},
   "outputs": [
    {
     "data": {
      "text/plain": [
       "(6153, 49)"
      ]
     },
     "execution_count": 40,
     "metadata": {},
     "output_type": "execute_result"
    }
   ],
   "source": [
    "data.shape"
   ]
  },
  {
   "cell_type": "code",
   "execution_count": 41,
   "metadata": {},
   "outputs": [
    {
     "data": {
      "text/html": [
       "<div>\n",
       "<style scoped>\n",
       "    .dataframe tbody tr th:only-of-type {\n",
       "        vertical-align: middle;\n",
       "    }\n",
       "\n",
       "    .dataframe tbody tr th {\n",
       "        vertical-align: top;\n",
       "    }\n",
       "\n",
       "    .dataframe thead th {\n",
       "        text-align: right;\n",
       "    }\n",
       "</style>\n",
       "<table border=\"1\" class=\"dataframe\">\n",
       "  <thead>\n",
       "    <tr style=\"text-align: right;\">\n",
       "      <th></th>\n",
       "      <th>AUDCAD=X</th>\n",
       "      <th>AUDCHF=X</th>\n",
       "      <th>AUDEUR=X</th>\n",
       "      <th>AUDGBP=X</th>\n",
       "      <th>AUDJPY=X</th>\n",
       "      <th>AUDNZD=X</th>\n",
       "      <th>AUDUSD=X</th>\n",
       "      <th>CADAUD=X</th>\n",
       "      <th>CADCHF=X</th>\n",
       "      <th>CADEUR=X</th>\n",
       "      <th>...</th>\n",
       "      <th>NZDAUD=X</th>\n",
       "      <th>NZDCAD=X</th>\n",
       "      <th>NZDCHF=X</th>\n",
       "      <th>NZDEUR=X</th>\n",
       "      <th>NZDGBP=X</th>\n",
       "      <th>NZDJPY=X</th>\n",
       "      <th>NZDUSD=X</th>\n",
       "      <th>USDCAD=X</th>\n",
       "      <th>USDCHF=X</th>\n",
       "      <th>USDJPY=X</th>\n",
       "    </tr>\n",
       "    <tr>\n",
       "      <th>Datetime</th>\n",
       "      <th></th>\n",
       "      <th></th>\n",
       "      <th></th>\n",
       "      <th></th>\n",
       "      <th></th>\n",
       "      <th></th>\n",
       "      <th></th>\n",
       "      <th></th>\n",
       "      <th></th>\n",
       "      <th></th>\n",
       "      <th></th>\n",
       "      <th></th>\n",
       "      <th></th>\n",
       "      <th></th>\n",
       "      <th></th>\n",
       "      <th></th>\n",
       "      <th></th>\n",
       "      <th></th>\n",
       "      <th></th>\n",
       "      <th></th>\n",
       "      <th></th>\n",
       "    </tr>\n",
       "  </thead>\n",
       "  <tbody>\n",
       "    <tr>\n",
       "      <th>2023-06-29 00:00:00+01:00</th>\n",
       "      <td>0.87443</td>\n",
       "      <td>0.59170</td>\n",
       "      <td>0.60440</td>\n",
       "      <td>0.52150</td>\n",
       "      <td>95.275002</td>\n",
       "      <td>1.08645</td>\n",
       "      <td>0.660110</td>\n",
       "      <td>1.1429</td>\n",
       "      <td>0.67648</td>\n",
       "      <td>0.6910</td>\n",
       "      <td>...</td>\n",
       "      <td>0.91990</td>\n",
       "      <td>0.80478</td>\n",
       "      <td>0.54459</td>\n",
       "      <td>0.55590</td>\n",
       "      <td>0.48027</td>\n",
       "      <td>87.688004</td>\n",
       "      <td>0.607533</td>\n",
       "      <td>1.32527</td>\n",
       "      <td>0.89672</td>\n",
       "      <td>144.386993</td>\n",
       "    </tr>\n",
       "    <tr>\n",
       "      <th>2023-06-29 01:00:00+01:00</th>\n",
       "      <td>0.87471</td>\n",
       "      <td>0.59221</td>\n",
       "      <td>0.60510</td>\n",
       "      <td>0.52200</td>\n",
       "      <td>95.223999</td>\n",
       "      <td>1.08640</td>\n",
       "      <td>0.660371</td>\n",
       "      <td>1.1426</td>\n",
       "      <td>0.67686</td>\n",
       "      <td>0.6914</td>\n",
       "      <td>...</td>\n",
       "      <td>0.91990</td>\n",
       "      <td>0.80472</td>\n",
       "      <td>0.54503</td>\n",
       "      <td>0.55660</td>\n",
       "      <td>0.48081</td>\n",
       "      <td>87.635002</td>\n",
       "      <td>0.607755</td>\n",
       "      <td>1.32518</td>\n",
       "      <td>0.89714</td>\n",
       "      <td>144.246994</td>\n",
       "    </tr>\n",
       "    <tr>\n",
       "      <th>2023-06-29 02:00:00+01:00</th>\n",
       "      <td>0.87716</td>\n",
       "      <td>0.59381</td>\n",
       "      <td>0.60659</td>\n",
       "      <td>0.52347</td>\n",
       "      <td>95.502998</td>\n",
       "      <td>1.08778</td>\n",
       "      <td>0.661940</td>\n",
       "      <td>1.1393</td>\n",
       "      <td>0.67682</td>\n",
       "      <td>0.6913</td>\n",
       "      <td>...</td>\n",
       "      <td>0.91903</td>\n",
       "      <td>0.80618</td>\n",
       "      <td>0.54582</td>\n",
       "      <td>0.55761</td>\n",
       "      <td>0.48128</td>\n",
       "      <td>87.790001</td>\n",
       "      <td>0.608569</td>\n",
       "      <td>1.32548</td>\n",
       "      <td>0.89731</td>\n",
       "      <td>144.317001</td>\n",
       "    </tr>\n",
       "    <tr>\n",
       "      <th>2023-06-29 03:00:00+01:00</th>\n",
       "      <td>0.87660</td>\n",
       "      <td>0.59340</td>\n",
       "      <td>0.60640</td>\n",
       "      <td>0.52270</td>\n",
       "      <td>95.385002</td>\n",
       "      <td>1.08769</td>\n",
       "      <td>0.660895</td>\n",
       "      <td>1.1401</td>\n",
       "      <td>0.67678</td>\n",
       "      <td>0.6915</td>\n",
       "      <td>...</td>\n",
       "      <td>0.91880</td>\n",
       "      <td>0.80582</td>\n",
       "      <td>0.54553</td>\n",
       "      <td>0.55710</td>\n",
       "      <td>0.48085</td>\n",
       "      <td>87.686996</td>\n",
       "      <td>0.607533</td>\n",
       "      <td>1.32650</td>\n",
       "      <td>0.89818</td>\n",
       "      <td>144.369995</td>\n",
       "    </tr>\n",
       "    <tr>\n",
       "      <th>2023-06-29 04:00:00+01:00</th>\n",
       "      <td>0.87679</td>\n",
       "      <td>0.59354</td>\n",
       "      <td>0.60660</td>\n",
       "      <td>0.52300</td>\n",
       "      <td>95.449997</td>\n",
       "      <td>1.08707</td>\n",
       "      <td>0.661157</td>\n",
       "      <td>1.1398</td>\n",
       "      <td>0.67679</td>\n",
       "      <td>0.6916</td>\n",
       "      <td>...</td>\n",
       "      <td>0.91930</td>\n",
       "      <td>0.80646</td>\n",
       "      <td>0.54595</td>\n",
       "      <td>0.55760</td>\n",
       "      <td>0.48142</td>\n",
       "      <td>87.801003</td>\n",
       "      <td>0.608125</td>\n",
       "      <td>1.32681</td>\n",
       "      <td>0.89813</td>\n",
       "      <td>144.431000</td>\n",
       "    </tr>\n",
       "  </tbody>\n",
       "</table>\n",
       "<p>5 rows × 49 columns</p>\n",
       "</div>"
      ],
      "text/plain": [
       "                           AUDCAD=X  AUDCHF=X  AUDEUR=X  AUDGBP=X   AUDJPY=X   \n",
       "Datetime                                                                       \n",
       "2023-06-29 00:00:00+01:00   0.87443   0.59170   0.60440   0.52150  95.275002  \\\n",
       "2023-06-29 01:00:00+01:00   0.87471   0.59221   0.60510   0.52200  95.223999   \n",
       "2023-06-29 02:00:00+01:00   0.87716   0.59381   0.60659   0.52347  95.502998   \n",
       "2023-06-29 03:00:00+01:00   0.87660   0.59340   0.60640   0.52270  95.385002   \n",
       "2023-06-29 04:00:00+01:00   0.87679   0.59354   0.60660   0.52300  95.449997   \n",
       "\n",
       "                           AUDNZD=X  AUDUSD=X  CADAUD=X  CADCHF=X  CADEUR=X   \n",
       "Datetime                                                                      \n",
       "2023-06-29 00:00:00+01:00   1.08645  0.660110    1.1429   0.67648    0.6910  \\\n",
       "2023-06-29 01:00:00+01:00   1.08640  0.660371    1.1426   0.67686    0.6914   \n",
       "2023-06-29 02:00:00+01:00   1.08778  0.661940    1.1393   0.67682    0.6913   \n",
       "2023-06-29 03:00:00+01:00   1.08769  0.660895    1.1401   0.67678    0.6915   \n",
       "2023-06-29 04:00:00+01:00   1.08707  0.661157    1.1398   0.67679    0.6916   \n",
       "\n",
       "                           ...  NZDAUD=X  NZDCAD=X  NZDCHF=X  NZDEUR=X   \n",
       "Datetime                   ...                                           \n",
       "2023-06-29 00:00:00+01:00  ...   0.91990   0.80478   0.54459   0.55590  \\\n",
       "2023-06-29 01:00:00+01:00  ...   0.91990   0.80472   0.54503   0.55660   \n",
       "2023-06-29 02:00:00+01:00  ...   0.91903   0.80618   0.54582   0.55761   \n",
       "2023-06-29 03:00:00+01:00  ...   0.91880   0.80582   0.54553   0.55710   \n",
       "2023-06-29 04:00:00+01:00  ...   0.91930   0.80646   0.54595   0.55760   \n",
       "\n",
       "                           NZDGBP=X   NZDJPY=X  NZDUSD=X  USDCAD=X  USDCHF=X   \n",
       "Datetime                                                                       \n",
       "2023-06-29 00:00:00+01:00   0.48027  87.688004  0.607533   1.32527   0.89672  \\\n",
       "2023-06-29 01:00:00+01:00   0.48081  87.635002  0.607755   1.32518   0.89714   \n",
       "2023-06-29 02:00:00+01:00   0.48128  87.790001  0.608569   1.32548   0.89731   \n",
       "2023-06-29 03:00:00+01:00   0.48085  87.686996  0.607533   1.32650   0.89818   \n",
       "2023-06-29 04:00:00+01:00   0.48142  87.801003  0.608125   1.32681   0.89813   \n",
       "\n",
       "                             USDJPY=X  \n",
       "Datetime                               \n",
       "2023-06-29 00:00:00+01:00  144.386993  \n",
       "2023-06-29 01:00:00+01:00  144.246994  \n",
       "2023-06-29 02:00:00+01:00  144.317001  \n",
       "2023-06-29 03:00:00+01:00  144.369995  \n",
       "2023-06-29 04:00:00+01:00  144.431000  \n",
       "\n",
       "[5 rows x 49 columns]"
      ]
     },
     "execution_count": 41,
     "metadata": {},
     "output_type": "execute_result"
    }
   ],
   "source": [
    "data.head()"
   ]
  },
  {
   "cell_type": "markdown",
   "metadata": {},
   "source": [
    "## Step 1 - Dimensionality Reduction\n",
    "\n",
    "\n",
    "\n",
    "### Using PCA to find a compact representation for each security\n",
    "\n",
    "- Extracts common underlying risk factors from securities’ returns;\n",
    "- Produces a compact representation for each security;\n",
    "\n",
    "Before applying PCA, the pricing data needs to be converted to returns and then normalized by subtracting the mean and dividing by the standard deviation, as follows:\n",
    "\n",
    "Returns \n",
    "\n",
    "$$ R_{i, t} = \\frac{P_{i,t} - P_{i,t-1}} {P_{i,t-1}} $$\n",
    "\n",
    "\n",
    "Data Normalization\n",
    "\n",
    "$$ Y_{i} =  \\frac{R_{i} - \\bar{R_{i}}} {\\sigma_{i}} $$\n",
    "\n",
    "Decomposition\n",
    "\n",
    "By applying PCA, $A$ is decomposed into the resulting eigenvectors and eigenvalues. An $n$ number of eigenvectors is selected where $n$ represents the number of features to describe the transformed data. The matrix containing the eigenvalues is set as the feature vector. The final dataset is obtained by multiplying the original matrix A by the feature vector."
   ]
  },
  {
   "cell_type": "code",
   "execution_count": 44,
   "metadata": {},
   "outputs": [
    {
     "name": "stdout",
     "output_type": "stream",
     "text": [
      "[0.28512359 0.19411939 0.15495784 0.11828434]\n"
     ]
    },
    {
     "data": {
      "image/png": "[encoded data removed]",
      "text/plain": [
       "<Figure size 1500x1500 with 16 Axes>"
      ]
     },
     "metadata": {},
     "output_type": "display_data"
    }
   ],
   "source": [
    "from libraries.clustering import Clustering\n",
    "\n",
    "ps = Clustering(data)\n",
    "\n",
    "# Here the first parameter is the number of features to reduce to.\n",
    "pca = ps.pca(4)\n",
    "print(pca.explained_variance_ratio_)\n",
    "\n",
    "# The following will plot the feature vector from the previous method call.\n",
    "ps.plot_pca_matrix()"
   ]
  },
  {
   "cell_type": "markdown",
   "metadata": {},
   "source": [
    "The first 5 components explain 75.7% of the total variance."
   ]
  },
  {
   "cell_type": "code",
   "execution_count": 45,
   "metadata": {},
   "outputs": [
    {
     "data": {
      "text/plain": [
       "0.7524851557521369"
      ]
     },
     "execution_count": 45,
     "metadata": {},
     "output_type": "execute_result"
    }
   ],
   "source": [
    "pca.explained_variance_ratio_.sum()"
   ]
  },
  {
   "cell_type": "markdown",
   "metadata": {},
   "source": [
    "## Step 2 - Unsupervised Learning\n",
    "### Applying OPTICS clustering algorithm\n",
    "\n",
    "- No need to specify the number of clusters in advance;\n",
    "- Robust to outliers;\n",
    "- Suitable for clusters with varying density\n",
    "\n",
    "\n",
    "The first method is to use the OPTICS clustering algorithm and letting the built-in automatic \n",
    "procedure to select the most suitable $\\epsilon$ for each cluster. "
   ]
  },
  {
   "cell_type": "code",
   "execution_count": 46,
   "metadata": {},
   "outputs": [
    {
     "name": "stderr",
     "output_type": "stream",
     "text": [
      "c:\\Users\\Reinier\\Documents\\Machine Learning\\Trading Algoritmico\\trading_Algo\\lib\\site-packages\\sklearn\\manifold\\_t_sne.py:800: FutureWarning:\n",
      "\n",
      "The default initialization in TSNE will change from 'random' to 'pca' in 1.2.\n",
      "\n",
      "c:\\Users\\Reinier\\Documents\\Machine Learning\\Trading Algoritmico\\trading_Algo\\lib\\site-packages\\sklearn\\manifold\\_t_sne.py:810: FutureWarning:\n",
      "\n",
      "The default learning rate in TSNE will change from 200.0 to 'auto' in 1.2.\n",
      "\n"
     ]
    },
    {
     "data": {
      "application/vnd.plotly.v1+json": {
       "config": {
        "plotlyServerURL": "https://plot.ly"
       },
       "data": [
        {
         "marker": {
          "size": 5
         },
         "mode": "markers",
         "name": "Cluster 0",
         "type": "scatter3d",
         "x": [
          116.65876007080078,
          -248.73475646972656,
          295.6336364746094,
          42.84074020385742
         ],
         "y": [
          -83.07730865478516,
          278.3985290527344,
          -86.16678619384766,
          301.1807861328125
         ],
         "z": [
          -315.8233947753906,
          -182.94862365722656,
          126.47107696533203,
          177.76869201660156
         ]
        },
        {
         "marker": {
          "size": 5
         },
         "mode": "markers",
         "name": "Cluster 1",
         "type": "scatter3d",
         "x": [
          34.52228546142578,
          -169.68972778320312,
          -185.63967895507812,
          -179.56869506835938
         ],
         "y": [
          166.31268310546875,
          -272.8661193847656,
          -25.925006866455078,
          -75.4407958984375
         ],
         "z": [
          143.65916442871094,
          -94.1851806640625,
          -220.06143188476562,
          213.99940490722656
         ]
        },
        {
         "marker": {
          "size": 5
         },
         "mode": "markers",
         "name": "Cluster 2",
         "type": "scatter3d",
         "x": [
          51.00151443481445,
          -23.22101402282715,
          40.4549560546875
         ],
         "y": [
          -92.16270446777344,
          279.88873291015625,
          -124.18290710449219
         ],
         "z": [
          279.21881103515625,
          -23.298839569091797,
          -39.47652816772461
         ]
        },
        {
         "marker": {
          "size": 5
         },
         "mode": "markers",
         "name": "Cluster 3",
         "type": "scatter3d",
         "x": [
          407.38323974609375,
          -228.1428985595703,
          173.25389099121094
         ],
         "y": [
          -401.139892578125,
          93.8363037109375,
          -183.4522705078125
         ],
         "z": [
          156.92604064941406,
          -338.1894226074219,
          177.021240234375
         ]
        },
        {
         "marker": {
          "size": 5
         },
         "mode": "markers",
         "name": "Cluster 4",
         "type": "scatter3d",
         "x": [
          98.63469696044922,
          113.95482635498047,
          165.71336364746094,
          25.177013397216797,
          -407.0353698730469
         ],
         "y": [
          -170.3301544189453,
          -373.82818603515625,
          -195.08596801757812,
          -115.51080322265625,
          -86.23831176757812
         ],
         "z": [
          -173.42977905273438,
          -58.19743728637695,
          10.146038055419922,
          114.66861724853516,
          207.67930603027344
         ]
        },
        {
         "marker": {
          "size": 5
         },
         "mode": "markers",
         "name": "Cluster 5",
         "type": "scatter3d",
         "x": [
          145.07435607910156,
          -176.21144104003906,
          -45.420387268066406,
          -25.900407791137695,
          35.59955596923828,
          -132.24131774902344,
          -202.88461303710938
         ],
         "y": [
          145.55921936035156,
          -83.6683578491211,
          -6.826139450073242,
          -32.93133544921875,
          28.066129684448242,
          -129.45558166503906,
          525.6306762695312
         ],
         "z": [
          32.96956253051758,
          47.19410705566406,
          15.345381736755371,
          -143.39712524414062,
          179.4700164794922,
          -98.18441772460938,
          -69.09078216552734
         ]
        },
        {
         "marker": {
          "size": 5
         },
         "mode": "markers",
         "name": "Cluster 6",
         "type": "scatter3d",
         "x": [],
         "y": [],
         "z": []
        },
        {
         "marker": {
          "color": "black",
          "size": 5
         },
         "mode": "markers",
         "name": "Noise",
         "type": "scatter3d",
         "x": [
          -243.21592712402344,
          -31.6065731048584,
          -116.34950256347656,
          125.78840637207031,
          204.209716796875,
          40.43967056274414,
          -67.46366119384766,
          -182.38136291503906,
          289.1922302246094,
          -210.50933837890625,
          -158.61758422851562,
          -308.5833740234375,
          -172.34243774414062,
          127.72257232666016,
          184.80137634277344,
          -10.535140037536621,
          297.8924560546875,
          -34.95765686035156,
          879.0855712890625,
          -635.517333984375,
          -114.6771469116211,
          192.2662811279297,
          92.59636688232422
         ],
         "y": [
          -113.46593475341797,
          136.30731201171875,
          71.77694702148438,
          211.59791564941406,
          -21.548744201660156,
          -273.28717041015625,
          134.70993041992188,
          150.99041748046875,
          -19.239063262939453,
          166.35568237304688,
          792.9987182617188,
          19.349306106567383,
          39.563472747802734,
          -13.514289855957031,
          1.3885148763656616,
          -262.3006286621094,
          -37.71512222290039,
          -38.05129623413086,
          -1262.516845703125,
          700.3159790039062,
          -217.36892700195312,
          180.8716583251953,
          66.25103759765625
         ],
         "z": [
          475.3479309082031,
          -141.18788146972656,
          196.7213897705078,
          -131.52317810058594,
          -150.31838989257812,
          129.3356475830078,
          25.082996368408203,
          -161.56607055664062,
          -20.223194122314453,
          59.82630157470703,
          253.49232482910156,
          25.19221305847168,
          -61.78429412841797,
          26.79653549194336,
          172.87814331054688,
          -47.21767807006836,
          -276.4346923828125,
          -309.7161865234375,
          -3329.179931640625,
          2299.70703125,
          116.99546813964844,
          -733.6466064453125,
          -114.1461181640625
         ]
        }
       ],
       "layout": {
        "scene": {
         "xaxis": {
          "title": {
           "text": "Component 0"
          }
         },
         "yaxis": {
          "title": {
           "text": "Component 1"
          }
         },
         "zaxis": {
          "title": {
           "text": "Component 2"
          }
         }
        },
        "template": {
         "data": {
          "bar": [
           {
            "error_x": {
             "color": "#2a3f5f"
            },
            "error_y": {
             "color": "#2a3f5f"
            },
            "marker": {
             "line": {
              "color": "#E5ECF6",
              "width": 0.5
             },
             "pattern": {
              "fillmode": "overlay",
              "size": 10,
              "solidity": 0.2
             }
            },
            "type": "bar"
           }
          ],
          "barpolar": [
           {
            "marker": {
             "line": {
              "color": "#E5ECF6",
              "width": 0.5
             },
             "pattern": {
              "fillmode": "overlay",
              "size": 10,
              "solidity": 0.2
             }
            },
            "type": "barpolar"
           }
          ],
          "carpet": [
           {
            "aaxis": {
             "endlinecolor": "#2a3f5f",
             "gridcolor": "white",
             "linecolor": "white",
             "minorgridcolor": "white",
             "startlinecolor": "#2a3f5f"
            },
            "baxis": {
             "endlinecolor": "#2a3f5f",
             "gridcolor": "white",
             "linecolor": "white",
             "minorgridcolor": "white",
             "startlinecolor": "#2a3f5f"
            },
            "type": "carpet"
           }
          ],
          "choropleth": [
           {
            "colorbar": {
             "outlinewidth": 0,
             "ticks": ""
            },
            "type": "choropleth"
           }
          ],
          "contour": [
           {
            "colorbar": {
             "outlinewidth": 0,
             "ticks": ""
            },
            "colorscale": [
             [
              0,
              "#0d0887"
             ],
             [
              0.1111111111111111,
              "#46039f"
             ],
             [
              0.2222222222222222,
              "#7201a8"
             ],
             [
              0.3333333333333333,
              "#9c179e"
             ],
             [
              0.4444444444444444,
              "#bd3786"
             ],
             [
              0.5555555555555556,
              "#d8576b"
             ],
             [
              0.6666666666666666,
              "#ed7953"
             ],
             [
              0.7777777777777778,
              "#fb9f3a"
             ],
             [
              0.8888888888888888,
              "#fdca26"
             ],
             [
              1,
              "#f0f921"
             ]
            ],
            "type": "contour"
           }
          ],
          "contourcarpet": [
           {
            "colorbar": {
             "outlinewidth": 0,
             "ticks": ""
            },
            "type": "contourcarpet"
           }
          ],
          "heatmap": [
           {
            "colorbar": {
             "outlinewidth": 0,
             "ticks": ""
            },
            "colorscale": [
             [
              0,
              "#0d0887"
             ],
             [
              0.1111111111111111,
              "#46039f"
             ],
             [
              0.2222222222222222,
              "#7201a8"
             ],
             [
              0.3333333333333333,
              "#9c179e"
             ],
             [
              0.4444444444444444,
              "#bd3786"
             ],
             [
              0.5555555555555556,
              "#d8576b"
             ],
             [
              0.6666666666666666,
              "#ed7953"
             ],
             [
              0.7777777777777778,
              "#fb9f3a"
             ],
             [
              0.8888888888888888,
              "#fdca26"
             ],
             [
              1,
              "#f0f921"
             ]
            ],
            "type": "heatmap"
           }
          ],
          "heatmapgl": [
           {
            "colorbar": {
             "outlinewidth": 0,
             "ticks": ""
            },
            "colorscale": [
             [
              0,
              "#0d0887"
             ],
             [
              0.1111111111111111,
              "#46039f"
             ],
             [
              0.2222222222222222,
              "#7201a8"
             ],
             [
              0.3333333333333333,
              "#9c179e"
             ],
             [
              0.4444444444444444,
              "#bd3786"
             ],
             [
              0.5555555555555556,
              "#d8576b"
             ],
             [
              0.6666666666666666,
              "#ed7953"
             ],
             [
              0.7777777777777778,
              "#fb9f3a"
             ],
             [
              0.8888888888888888,
              "#fdca26"
             ],
             [
              1,
              "#f0f921"
             ]
            ],
            "type": "heatmapgl"
           }
          ],
          "histogram": [
           {
            "marker": {
             "pattern": {
              "fillmode": "overlay",
              "size": 10,
              "solidity": 0.2
             }
            },
            "type": "histogram"
           }
          ],
          "histogram2d": [
           {
            "colorbar": {
             "outlinewidth": 0,
             "ticks": ""
            },
            "colorscale": [
             [
              0,
              "#0d0887"
             ],
             [
              0.1111111111111111,
              "#46039f"
             ],
             [
              0.2222222222222222,
              "#7201a8"
             ],
             [
              0.3333333333333333,
              "#9c179e"
             ],
             [
              0.4444444444444444,
              "#bd3786"
             ],
             [
              0.5555555555555556,
              "#d8576b"
             ],
             [
              0.6666666666666666,
              "#ed7953"
             ],
             [
              0.7777777777777778,
              "#fb9f3a"
             ],
             [
              0.8888888888888888,
              "#fdca26"
             ],
             [
              1,
              "#f0f921"
             ]
            ],
            "type": "histogram2d"
           }
          ],
          "histogram2dcontour": [
           {
            "colorbar": {
             "outlinewidth": 0,
             "ticks": ""
            },
            "colorscale": [
             [
              0,
              "#0d0887"
             ],
             [
              0.1111111111111111,
              "#46039f"
             ],
             [
              0.2222222222222222,
              "#7201a8"
             ],
             [
              0.3333333333333333,
              "#9c179e"
             ],
             [
              0.4444444444444444,
              "#bd3786"
             ],
             [
              0.5555555555555556,
              "#d8576b"
             ],
             [
              0.6666666666666666,
              "#ed7953"
             ],
             [
              0.7777777777777778,
              "#fb9f3a"
             ],
             [
              0.8888888888888888,
              "#fdca26"
             ],
             [
              1,
              "#f0f921"
             ]
            ],
            "type": "histogram2dcontour"
           }
          ],
          "mesh3d": [
           {
            "colorbar": {
             "outlinewidth": 0,
             "ticks": ""
            },
            "type": "mesh3d"
           }
          ],
          "parcoords": [
           {
            "line": {
             "colorbar": {
              "outlinewidth": 0,
              "ticks": ""
             }
            },
            "type": "parcoords"
           }
          ],
          "pie": [
           {
            "automargin": true,
            "type": "pie"
           }
          ],
          "scatter": [
           {
            "fillpattern": {
             "fillmode": "overlay",
             "size": 10,
             "solidity": 0.2
            },
            "type": "scatter"
           }
          ],
          "scatter3d": [
           {
            "line": {
             "colorbar": {
              "outlinewidth": 0,
              "ticks": ""
             }
            },
            "marker": {
             "colorbar": {
              "outlinewidth": 0,
              "ticks": ""
             }
            },
            "type": "scatter3d"
           }
          ],
          "scattercarpet": [
           {
            "marker": {
             "colorbar": {
              "outlinewidth": 0,
              "ticks": ""
             }
            },
            "type": "scattercarpet"
           }
          ],
          "scattergeo": [
           {
            "marker": {
             "colorbar": {
              "outlinewidth": 0,
              "ticks": ""
             }
            },
            "type": "scattergeo"
           }
          ],
          "scattergl": [
           {
            "marker": {
             "colorbar": {
              "outlinewidth": 0,
              "ticks": ""
             }
            },
            "type": "scattergl"
           }
          ],
          "scattermapbox": [
           {
            "marker": {
             "colorbar": {
              "outlinewidth": 0,
              "ticks": ""
             }
            },
            "type": "scattermapbox"
           }
          ],
          "scatterpolar": [
           {
            "marker": {
             "colorbar": {
              "outlinewidth": 0,
              "ticks": ""
             }
            },
            "type": "scatterpolar"
           }
          ],
          "scatterpolargl": [
           {
            "marker": {
             "colorbar": {
              "outlinewidth": 0,
              "ticks": ""
             }
            },
            "type": "scatterpolargl"
           }
          ],
          "scatterternary": [
           {
            "marker": {
             "colorbar": {
              "outlinewidth": 0,
              "ticks": ""
             }
            },
            "type": "scatterternary"
           }
          ],
          "surface": [
           {
            "colorbar": {
             "outlinewidth": 0,
             "ticks": ""
            },
            "colorscale": [
             [
              0,
              "#0d0887"
             ],
             [
              0.1111111111111111,
              "#46039f"
             ],
             [
              0.2222222222222222,
              "#7201a8"
             ],
             [
              0.3333333333333333,
              "#9c179e"
             ],
             [
              0.4444444444444444,
              "#bd3786"
             ],
             [
              0.5555555555555556,
              "#d8576b"
             ],
             [
              0.6666666666666666,
              "#ed7953"
             ],
             [
              0.7777777777777778,
              "#fb9f3a"
             ],
             [
              0.8888888888888888,
              "#fdca26"
             ],
             [
              1,
              "#f0f921"
             ]
            ],
            "type": "surface"
           }
          ],
          "table": [
           {
            "cells": {
             "fill": {
              "color": "#EBF0F8"
             },
             "line": {
              "color": "white"
             }
            },
            "header": {
             "fill": {
              "color": "#C8D4E3"
             },
             "line": {
              "color": "white"
             }
            },
            "type": "table"
           }
          ]
         },
         "layout": {
          "annotationdefaults": {
           "arrowcolor": "#2a3f5f",
           "arrowhead": 0,
           "arrowwidth": 1
          },
          "autotypenumbers": "strict",
          "coloraxis": {
           "colorbar": {
            "outlinewidth": 0,
            "ticks": ""
           }
          },
          "colorscale": {
           "diverging": [
            [
             0,
             "#8e0152"
            ],
            [
             0.1,
             "#c51b7d"
            ],
            [
             0.2,
             "#de77ae"
            ],
            [
             0.3,
             "#f1b6da"
            ],
            [
             0.4,
             "#fde0ef"
            ],
            [
             0.5,
             "#f7f7f7"
            ],
            [
             0.6,
             "#e6f5d0"
            ],
            [
             0.7,
             "#b8e186"
            ],
            [
             0.8,
             "#7fbc41"
            ],
            [
             0.9,
             "#4d9221"
            ],
            [
             1,
             "#276419"
            ]
           ],
           "sequential": [
            [
             0,
             "#0d0887"
            ],
            [
             0.1111111111111111,
             "#46039f"
            ],
            [
             0.2222222222222222,
             "#7201a8"
            ],
            [
             0.3333333333333333,
             "#9c179e"
            ],
            [
             0.4444444444444444,
             "#bd3786"
            ],
            [
             0.5555555555555556,
             "#d8576b"
            ],
            [
             0.6666666666666666,
             "#ed7953"
            ],
            [
             0.7777777777777778,
             "#fb9f3a"
            ],
            [
             0.8888888888888888,
             "#fdca26"
            ],
            [
             1,
             "#f0f921"
            ]
           ],
           "sequentialminus": [
            [
             0,
             "#0d0887"
            ],
            [
             0.1111111111111111,
             "#46039f"
            ],
            [
             0.2222222222222222,
             "#7201a8"
            ],
            [
             0.3333333333333333,
             "#9c179e"
            ],
            [
             0.4444444444444444,
             "#bd3786"
            ],
            [
             0.5555555555555556,
             "#d8576b"
            ],
            [
             0.6666666666666666,
             "#ed7953"
            ],
            [
             0.7777777777777778,
             "#fb9f3a"
            ],
            [
             0.8888888888888888,
             "#fdca26"
            ],
            [
             1,
             "#f0f921"
            ]
           ]
          },
          "colorway": [
           "#636efa",
           "#EF553B",
           "#00cc96",
           "#ab63fa",
           "#FFA15A",
           "#19d3f3",
           "#FF6692",
           "#B6E880",
           "#FF97FF",
           "#FECB52"
          ],
          "font": {
           "color": "#2a3f5f"
          },
          "geo": {
           "bgcolor": "white",
           "lakecolor": "white",
           "landcolor": "#E5ECF6",
           "showlakes": true,
           "showland": true,
           "subunitcolor": "white"
          },
          "hoverlabel": {
           "align": "left"
          },
          "hovermode": "closest",
          "mapbox": {
           "style": "light"
          },
          "paper_bgcolor": "white",
          "plot_bgcolor": "#E5ECF6",
          "polar": {
           "angularaxis": {
            "gridcolor": "white",
            "linecolor": "white",
            "ticks": ""
           },
           "bgcolor": "#E5ECF6",
           "radialaxis": {
            "gridcolor": "white",
            "linecolor": "white",
            "ticks": ""
           }
          },
          "scene": {
           "xaxis": {
            "backgroundcolor": "#E5ECF6",
            "gridcolor": "white",
            "gridwidth": 2,
            "linecolor": "white",
            "showbackground": true,
            "ticks": "",
            "zerolinecolor": "white"
           },
           "yaxis": {
            "backgroundcolor": "#E5ECF6",
            "gridcolor": "white",
            "gridwidth": 2,
            "linecolor": "white",
            "showbackground": true,
            "ticks": "",
            "zerolinecolor": "white"
           },
           "zaxis": {
            "backgroundcolor": "#E5ECF6",
            "gridcolor": "white",
            "gridwidth": 2,
            "linecolor": "white",
            "showbackground": true,
            "ticks": "",
            "zerolinecolor": "white"
           }
          },
          "shapedefaults": {
           "line": {
            "color": "#2a3f5f"
           }
          },
          "ternary": {
           "aaxis": {
            "gridcolor": "white",
            "linecolor": "white",
            "ticks": ""
           },
           "baxis": {
            "gridcolor": "white",
            "linecolor": "white",
            "ticks": ""
           },
           "bgcolor": "#E5ECF6",
           "caxis": {
            "gridcolor": "white",
            "linecolor": "white",
            "ticks": ""
           }
          },
          "title": {
           "x": 0.05
          },
          "xaxis": {
           "automargin": true,
           "gridcolor": "white",
           "linecolor": "white",
           "ticks": "",
           "title": {
            "standoff": 15
           },
           "zerolinecolor": "white",
           "zerolinewidth": 2
          },
          "yaxis": {
           "automargin": true,
           "gridcolor": "white",
           "linecolor": "white",
           "ticks": "",
           "title": {
            "standoff": 15
           },
           "zerolinecolor": "white",
           "zerolinewidth": 2
          }
         }
        },
        "title": {
         "text": "Automatic Clustering\nOPTICS"
        }
       }
      }
     },
     "metadata": {},
     "output_type": "display_data"
    },
    {
     "data": {
      "text/plain": [
       "<Figure size 1000x1000 with 0 Axes>"
      ]
     },
     "metadata": {},
     "output_type": "display_data"
    }
   ],
   "source": [
    "clustered_pairs, clust = ps.cluster_using_optics(min_samples=3)\n",
    "ps.plot_clustering_info(method='OPTICS', n_dimensions=3)"
   ]
  },
  {
   "cell_type": "code",
   "execution_count": 47,
   "metadata": {},
   "outputs": [],
   "source": [
    "labels = clust.labels_"
   ]
  },
  {
   "cell_type": "code",
   "execution_count": 48,
   "metadata": {},
   "outputs": [
    {
     "data": {
      "text/plain": [
       "array([ 0, -1,  1,  1,  5,  3,  0, -1, -1, -1, -1,  5, -1, -1, -1, -1, -1,\n",
       "        5, -1,  4, -1,  2, -1,  5,  4, -1,  4, -1,  2,  2,  5,  4, -1, -1,\n",
       "       -1,  3, -1, -1, -1,  3,  0, -1,  1,  1,  5,  0,  4, -1,  5])"
      ]
     },
     "execution_count": 48,
     "metadata": {},
     "output_type": "execute_result"
    }
   ],
   "source": [
    "labels"
   ]
  },
  {
   "cell_type": "code",
   "execution_count": 55,
   "metadata": {},
   "outputs": [
    {
     "data": {
      "text/html": [
       "<div>\n",
       "<style scoped>\n",
       "    .dataframe tbody tr th:only-of-type {\n",
       "        vertical-align: middle;\n",
       "    }\n",
       "\n",
       "    .dataframe tbody tr th {\n",
       "        vertical-align: top;\n",
       "    }\n",
       "\n",
       "    .dataframe thead th {\n",
       "        text-align: right;\n",
       "    }\n",
       "</style>\n",
       "<table border=\"1\" class=\"dataframe\">\n",
       "  <thead>\n",
       "    <tr style=\"text-align: right;\">\n",
       "      <th></th>\n",
       "      <th>0</th>\n",
       "      <th>1</th>\n",
       "      <th>2</th>\n",
       "      <th>3</th>\n",
       "    </tr>\n",
       "  </thead>\n",
       "  <tbody>\n",
       "    <tr>\n",
       "      <th>EURAUD=X</th>\n",
       "      <td>-0.209304</td>\n",
       "      <td>-0.059764</td>\n",
       "      <td>-0.123526</td>\n",
       "      <td>0.052514</td>\n",
       "    </tr>\n",
       "    <tr>\n",
       "      <th>EURNZD=X</th>\n",
       "      <td>-0.212398</td>\n",
       "      <td>-0.085699</td>\n",
       "      <td>-0.103355</td>\n",
       "      <td>0.027463</td>\n",
       "    </tr>\n",
       "    <tr>\n",
       "      <th>GBPAUD=X</th>\n",
       "      <td>-0.180737</td>\n",
       "      <td>-0.081209</td>\n",
       "      <td>-0.120912</td>\n",
       "      <td>0.174366</td>\n",
       "    </tr>\n",
       "    <tr>\n",
       "      <th>GBPNZD=X</th>\n",
       "      <td>-0.183765</td>\n",
       "      <td>-0.107292</td>\n",
       "      <td>-0.100863</td>\n",
       "      <td>0.145209</td>\n",
       "    </tr>\n",
       "    <tr>\n",
       "      <th>USDCAD=X</th>\n",
       "      <td>-0.153133</td>\n",
       "      <td>0.032511</td>\n",
       "      <td>-0.022451</td>\n",
       "      <td>0.070427</td>\n",
       "    </tr>\n",
       "  </tbody>\n",
       "</table>\n",
       "</div>"
      ],
      "text/plain": [
       "                 0         1         2         3\n",
       "EURAUD=X -0.209304 -0.059764 -0.123526  0.052514\n",
       "EURNZD=X -0.212398 -0.085699 -0.103355  0.027463\n",
       "GBPAUD=X -0.180737 -0.081209 -0.120912  0.174366\n",
       "GBPNZD=X -0.183765 -0.107292 -0.100863  0.145209\n",
       "USDCAD=X -0.153133  0.032511 -0.022451  0.070427"
      ]
     },
     "execution_count": 55,
     "metadata": {},
     "output_type": "execute_result"
    }
   ],
   "source": [
    "ps.feature_vector[labels == 4]"
   ]
  },
  {
   "cell_type": "code",
   "execution_count": 52,
   "metadata": {},
   "outputs": [
    {
     "name": "stdout",
     "output_type": "stream",
     "text": [
      "\n",
      "Total custers discovered: 6\n",
      "Estimated number of noise points: 23\n"
     ]
    }
   ],
   "source": [
    "n_clusters_ = len(set(labels)) - (1 if -1 in labels else 0)\n",
    "print (\"\\nTotal custers discovered: %d\" % n_clusters_)\n",
    "n_noise_ = list(labels).count(-1)\n",
    "\n",
    "print(\"Estimated number of noise points: %d\" % n_noise_)\n",
    "\n",
    "clustered = labels"
   ]
  },
  {
   "cell_type": "code",
   "execution_count": 53,
   "metadata": {},
   "outputs": [],
   "source": [
    "clustered_series = pd.Series(data=clustered.flatten())\n",
    "clustered_series = clustered_series[clustered_series != -1]"
   ]
  },
  {
   "cell_type": "code",
   "execution_count": 54,
   "metadata": {},
   "outputs": [
    {
     "data": {
      "text/plain": [
       "Text(0.5, 0, 'Currencies in Cluster')"
      ]
     },
     "execution_count": 54,
     "metadata": {},
     "output_type": "execute_result"
    },
    {
     "data": {
      "image/png": "[encoded data removed]",
      "text/plain": [
       "<Figure size 640x480 with 1 Axes>"
      ]
     },
     "metadata": {},
     "output_type": "display_data"
    }
   ],
   "source": [
    "import matplotlib.pyplot as plt\n",
    "\n",
    "plt.barh(\n",
    "    range(len(clustered_series.value_counts())),\n",
    "    clustered_series.value_counts(),\n",
    "    alpha=0.625\n",
    ")\n",
    "plt.title('Cluster Member Counts')\n",
    "plt.xlabel('Currencies in Cluster')"
   ]
  },
  {
   "cell_type": "markdown",
   "metadata": {},
   "source": [
    "## Step 3 - Select Pairs\n",
    "### Finding resulting pairs that pass the following set of rules\n",
    "\n",
    "Sarmento and Horta suggest four criteria to further filter the potential pairs to increase the probability of selecting pairs of securities whose prices will continue to mean revert in the future. \n",
    "- Cointegration using the Engle-Granger Test. \n",
    "- Hurst Exponent $H$: Keep the pairs with (spread) $H<0.5$ for mean-reversion. \n",
    "- Halflife: Keep the pairs with (spread) halflife in between $1$ day and $1$ year.\n",
    "- Minimum number of crossing mean in a year: Keep the pairs with (spread) crossing its mean $12$ times a year.\n",
    "\n",
    "\n",
    "These four criteria indicate attractive characteristics for potential tradable pairs of securities. The Engle-Granger tests the pair for cointegration. A Hurst exponent below 0.5 indicates that the pair of prices regresses strongly to the mean. Pairs with extreme half-life values, below 1 or above 356, are excluded from the selected pairs. Extreme half-life values indicate a price series that either reverts too quickly or too slowly to be traded. Finally, the price series must cross the long-term spread mean on average at least 12 times a year."
   ]
  },
  {
   "cell_type": "code",
   "execution_count": 56,
   "metadata": {},
   "outputs": [],
   "source": [
    "# Removing duplicates from clustered pairs\n",
    "clustered_pairs = list(set(clustered_pairs))"
   ]
  },
  {
   "cell_type": "code",
   "execution_count": 57,
   "metadata": {},
   "outputs": [
    {
     "data": {
      "text/plain": [
       "[('EURCHF=X', 'GBPCHF=X'),\n",
       " ('AUDCHF=X', 'CHFCAD=X'),\n",
       " ('CADGBP=X', 'GBPUSD=X'),\n",
       " ('EURCAD=X', 'JPYNZD=X'),\n",
       " ('CADCHF=X', 'JPYEUR=X'),\n",
       " ('CHFNZD=X', 'JPYGBP=X'),\n",
       " ('CHFAUD=X', 'GBPUSD=X'),\n",
       " ('JPYEUR=X', 'JPYGBP=X'),\n",
       " ('CADNZD=X', 'JPYEUR=X'),\n",
       " ('AUDCHF=X', 'CHFNZD=X'),\n",
       " ('CADCHF=X', 'EURGBP=X'),\n",
       " ('CADCHF=X', 'JPYCAD=X'),\n",
       " ('CHFJPY=X', 'EURJPY=X'),\n",
       " ('CADEUR=X', 'GBPCAD=X'),\n",
       " ('CADNZD=X', 'EURGBP=X'),\n",
       " ('CHFGBP=X', 'GBPCAD=X'),\n",
       " ('CHFAUD=X', 'JPYGBP=X'),\n",
       " ('AUDCHF=X', 'CHFEUR=X'),\n",
       " ('JPYNZD=X', 'NZDCHF=X'),\n",
       " ('CADEUR=X', 'CHFGBP=X'),\n",
       " ('CHFNZD=X', 'NZDCHF=X'),\n",
       " ('CHFEUR=X', 'GBPUSD=X'),\n",
       " ('CHFAUD=X', 'CHFCAD=X'),\n",
       " ('JPYEUR=X', 'NZDCHF=X'),\n",
       " ('CADEUR=X', 'CADGBP=X'),\n",
       " ('AUDCHF=X', 'EURUSD=X'),\n",
       " ('CADAUD=X', 'JPYEUR=X'),\n",
       " ('EURJPY=X', 'NZDJPY=X'),\n",
       " ('CHFCAD=X', 'JPYGBP=X'),\n",
       " ('JPYGBP=X', 'JPYNZD=X'),\n",
       " ('AUDJPY=X', 'CHFJPY=X'),\n",
       " ('CHFAUD=X', 'NZDCHF=X'),\n",
       " ('CADAUD=X', 'JPYCAD=X'),\n",
       " ('CADAUD=X', 'EURGBP=X'),\n",
       " ('EURGBP=X', 'GBPCAD=X'),\n",
       " ('CADJPY=X', 'GBPJPY=X'),\n",
       " ('EURUSD=X', 'GBPCAD=X'),\n",
       " ('GBPCAD=X', 'JPYGBP=X'),\n",
       " ('CHFEUR=X', 'JPYCAD=X'),\n",
       " ('CADGBP=X', 'CHFAUD=X'),\n",
       " ('JPYCAD=X', 'JPYGBP=X'),\n",
       " ('CHFCAD=X', 'NZDCHF=X'),\n",
       " ('CHFCAD=X', 'CHFNZD=X'),\n",
       " ('AUDEUR=X', 'AUDGBP=X'),\n",
       " ('AUDCHF=X', 'JPYNZD=X'),\n",
       " ('GBPUSD=X', 'JPYGBP=X'),\n",
       " ('CADEUR=X', 'GBPUSD=X'),\n",
       " ('EURCAD=X', 'JPYGBP=X'),\n",
       " ('CHFJPY=X', 'USDJPY=X'),\n",
       " ('CHFGBP=X', 'GBPUSD=X'),\n",
       " ('GBPCAD=X', 'NZDCHF=X'),\n",
       " ('AUDEUR=X', 'NZDEUR=X'),\n",
       " ('CADAUD=X', 'CHFAUD=X'),\n",
       " ('CHFNZD=X', 'JPYNZD=X'),\n",
       " ('GBPUSD=X', 'NZDCHF=X'),\n",
       " ('AUDCAD=X', 'AUDUSD=X'),\n",
       " ('EURCAD=X', 'NZDCHF=X'),\n",
       " ('CADGBP=X', 'GBPCAD=X'),\n",
       " ('EURGBP=X', 'GBPUSD=X'),\n",
       " ('CADCHF=X', 'JPYAUD=X'),\n",
       " ('CADEUR=X', 'JPYCAD=X'),\n",
       " ('CHFAUD=X', 'GBPCAD=X'),\n",
       " ('CHFGBP=X', 'EURGBP=X'),\n",
       " ('CADCHF=X', 'EURCAD=X'),\n",
       " ('CADNZD=X', 'JPYAUD=X'),\n",
       " ('CHFGBP=X', 'JPYCAD=X'),\n",
       " ('EURUSD=X', 'GBPUSD=X'),\n",
       " ('JPYAUD=X', 'USDCHF=X'),\n",
       " ('CHFAUD=X', 'CHFGBP=X'),\n",
       " ('AUDGBP=X', 'NZDGBP=X'),\n",
       " ('AUDJPY=X', 'USDJPY=X'),\n",
       " ('AUDCHF=X', 'GBPUSD=X'),\n",
       " ('CHFCAD=X', 'GBPCAD=X'),\n",
       " ('EURGBP=X', 'JPYCAD=X'),\n",
       " ('GBPAUD=X', 'GBPNZD=X'),\n",
       " ('CHFCAD=X', 'CHFGBP=X'),\n",
       " ('CADAUD=X', 'JPYAUD=X'),\n",
       " ('CADEUR=X', 'CHFAUD=X'),\n",
       " ('EURUSD=X', 'JPYCAD=X'),\n",
       " ('GBPCAD=X', 'JPYNZD=X'),\n",
       " ('JPYAUD=X', 'JPYNZD=X'),\n",
       " ('CADAUD=X', 'EURCAD=X'),\n",
       " ('JPYGBP=X', 'NZDCHF=X'),\n",
       " ('CADCHF=X', 'CADNZD=X'),\n",
       " ('CHFNZD=X', 'GBPUSD=X'),\n",
       " ('JPYCAD=X', 'JPYNZD=X'),\n",
       " ('NZDCHF=X', 'USDCHF=X'),\n",
       " ('CHFJPY=X', 'GBPJPY=X'),\n",
       " ('GBPUSD=X', 'JPYNZD=X'),\n",
       " ('AUDCHF=X', 'CADEUR=X'),\n",
       " ('EURCAD=X', 'GBPCAD=X'),\n",
       " ('CHFEUR=X', 'EURCAD=X'),\n",
       " ('JPYCAD=X', 'USDCHF=X'),\n",
       " ('CADNZD=X', 'CHFEUR=X'),\n",
       " ('AUDCHF=X', 'NZDCHF=X'),\n",
       " ('CADCHF=X', 'EURUSD=X'),\n",
       " ('CADCHF=X', 'USDCHF=X'),\n",
       " ('CADNZD=X', 'EURUSD=X'),\n",
       " ('CADGBP=X', 'JPYEUR=X'),\n",
       " ('CADNZD=X', 'USDCHF=X'),\n",
       " ('CHFCAD=X', 'GBPUSD=X'),\n",
       " ('CADGBP=X', 'JPYCAD=X'),\n",
       " ('CADGBP=X', 'EURGBP=X'),\n",
       " ('CHFAUD=X', 'JPYEUR=X'),\n",
       " ('AUDCHF=X', 'CADCHF=X'),\n",
       " ('CHFAUD=X', 'JPYCAD=X'),\n",
       " ('CHFAUD=X', 'EURGBP=X'),\n",
       " ('GBPCAD=X', 'GBPUSD=X'),\n",
       " ('AUDCAD=X', 'NZDUSD=X'),\n",
       " ('CADEUR=X', 'EURCAD=X'),\n",
       " ('CHFGBP=X', 'EURCAD=X'),\n",
       " ('CADAUD=X', 'USDCHF=X'),\n",
       " ('CADNZD=X', 'JPYNZD=X'),\n",
       " ('CHFEUR=X', 'JPYEUR=X'),\n",
       " ('AUDJPY=X', 'GBPJPY=X'),\n",
       " ('CADJPY=X', 'NZDJPY=X'),\n",
       " ('EURCAD=X', 'GBPUSD=X'),\n",
       " ('CHFCAD=X', 'JPYCAD=X'),\n",
       " ('JPYAUD=X', 'JPYGBP=X'),\n",
       " ('CHFEUR=X', 'EURGBP=X'),\n",
       " ('AUDJPY=X', 'EURJPY=X'),\n",
       " ('AUDCHF=X', 'GBPCAD=X'),\n",
       " ('EURAUD=X', 'GBPNZD=X'),\n",
       " ('AUDCHF=X', 'CHFGBP=X'),\n",
       " ('JPYAUD=X', 'NZDCHF=X'),\n",
       " ('EURCAD=X', 'JPYCAD=X'),\n",
       " ('AUDCHF=X', 'CADGBP=X'),\n",
       " ('CHFNZD=X', 'GBPCAD=X'),\n",
       " ('JPYCAD=X', 'NZDCHF=X'),\n",
       " ('EURCHF=X', 'GBPEUR=X'),\n",
       " ('CADEUR=X', 'JPYEUR=X'),\n",
       " ('CHFGBP=X', 'JPYEUR=X'),\n",
       " ('AUDNZD=X', 'NZDAUD=X'),\n",
       " ('CADEUR=X', 'EURGBP=X'),\n",
       " ('CHFGBP=X', 'USDCHF=X'),\n",
       " ('AUDEUR=X', 'NZDGBP=X'),\n",
       " ('AUDJPY=X', 'CADJPY=X'),\n",
       " ('NZDJPY=X', 'USDJPY=X'),\n",
       " ('CHFNZD=X', 'EURCAD=X'),\n",
       " ('CADCHF=X', 'JPYGBP=X'),\n",
       " ('CADGBP=X', 'JPYAUD=X'),\n",
       " ('GBPAUD=X', 'USDCAD=X'),\n",
       " ('EURGBP=X', 'JPYEUR=X'),\n",
       " ('CADGBP=X', 'EURCAD=X'),\n",
       " ('CADNZD=X', 'JPYGBP=X'),\n",
       " ('GBPCHF=X', 'GBPEUR=X'),\n",
       " ('CHFAUD=X', 'JPYAUD=X'),\n",
       " ('CADCHF=X', 'CHFCAD=X'),\n",
       " ('EURUSD=X', 'JPYEUR=X'),\n",
       " ('CHFAUD=X', 'EURCAD=X'),\n",
       " ('CADNZD=X', 'CHFCAD=X'),\n",
       " ('EURGBP=X', 'USDCHF=X'),\n",
       " ('EURUSD=X', 'USDCHF=X'),\n",
       " ('CADCHF=X', 'NZDCHF=X'),\n",
       " ('CADCHF=X', 'CHFNZD=X'),\n",
       " ('CADNZD=X', 'NZDCHF=X'),\n",
       " ('AUDCHF=X', 'JPYEUR=X'),\n",
       " ('CADNZD=X', 'CHFNZD=X'),\n",
       " ('CHFEUR=X', 'JPYAUD=X'),\n",
       " ('CADCHF=X', 'CHFEUR=X'),\n",
       " ('CHFCAD=X', 'EURCAD=X'),\n",
       " ('EURAUD=X', 'GBPAUD=X'),\n",
       " ('AUDCHF=X', 'JPYCAD=X'),\n",
       " ('AUDCHF=X', 'EURGBP=X'),\n",
       " ('CHFJPY=X', 'NZDJPY=X'),\n",
       " ('CADGBP=X', 'CADNZD=X'),\n",
       " ('EURNZD=X', 'GBPNZD=X'),\n",
       " ('CHFNZD=X', 'JPYEUR=X'),\n",
       " ('CHFNZD=X', 'JPYCAD=X'),\n",
       " ('CHFNZD=X', 'EURGBP=X'),\n",
       " ('CADAUD=X', 'CHFNZD=X'),\n",
       " ('CADAUD=X', 'CADNZD=X'),\n",
       " ('JPYEUR=X', 'USDCHF=X'),\n",
       " ('CADGBP=X', 'USDCHF=X'),\n",
       " ('CADAUD=X', 'CHFEUR=X'),\n",
       " ('AUDCHF=X', 'CHFAUD=X'),\n",
       " ('CADEUR=X', 'JPYAUD=X'),\n",
       " ('CHFAUD=X', 'USDCHF=X'),\n",
       " ('CHFGBP=X', 'JPYAUD=X'),\n",
       " ('CADAUD=X', 'EURUSD=X'),\n",
       " ('CADCHF=X', 'JPYNZD=X'),\n",
       " ('EURGBP=X', 'NZDCHF=X'),\n",
       " ('CHFCAD=X', 'JPYEUR=X'),\n",
       " ('CADNZD=X', 'GBPCAD=X'),\n",
       " ('CADCHF=X', 'CHFGBP=X'),\n",
       " ('CHFCAD=X', 'EURGBP=X'),\n",
       " ('EURAUD=X', 'USDCAD=X'),\n",
       " ('CHFEUR=X', 'EURUSD=X'),\n",
       " ('GBPCAD=X', 'JPYEUR=X'),\n",
       " ('CADNZD=X', 'CHFGBP=X'),\n",
       " ('CHFEUR=X', 'USDCHF=X'),\n",
       " ('CADCHF=X', 'CADGBP=X'),\n",
       " ('EURGBP=X', 'JPYAUD=X'),\n",
       " ('AUDJPY=X', 'NZDJPY=X'),\n",
       " ('GBPCAD=X', 'JPYCAD=X'),\n",
       " ('NZDCAD=X', 'NZDUSD=X'),\n",
       " ('JPYCAD=X', 'JPYEUR=X'),\n",
       " ('EURJPY=X', 'USDJPY=X'),\n",
       " ('EURUSD=X', 'JPYAUD=X'),\n",
       " ('JPYAUD=X', 'JPYCAD=X'),\n",
       " ('GBPUSD=X', 'JPYEUR=X'),\n",
       " ('AUDGBP=X', 'NZDEUR=X'),\n",
       " ('EURCAD=X', 'JPYEUR=X'),\n",
       " ('CADAUD=X', 'JPYNZD=X'),\n",
       " ('CADEUR=X', 'CADNZD=X'),\n",
       " ('GBPUSD=X', 'JPYCAD=X'),\n",
       " ('EURCAD=X', 'EURGBP=X'),\n",
       " ('CADEUR=X', 'CHFEUR=X'),\n",
       " ('AUDCHF=X', 'JPYAUD=X'),\n",
       " ('EURNZD=X', 'GBPAUD=X'),\n",
       " ('CHFEUR=X', 'JPYNZD=X'),\n",
       " ('AUDCHF=X', 'EURCAD=X'),\n",
       " ('NZDEUR=X', 'NZDGBP=X'),\n",
       " ('CADEUR=X', 'EURUSD=X'),\n",
       " ('CADCHF=X', 'GBPUSD=X'),\n",
       " ('CADEUR=X', 'USDCHF=X'),\n",
       " ('CHFGBP=X', 'EURUSD=X'),\n",
       " ('CADNZD=X', 'GBPUSD=X'),\n",
       " ('GBPNZD=X', 'USDCAD=X'),\n",
       " ('CHFNZD=X', 'JPYAUD=X'),\n",
       " ('GBPJPY=X', 'USDJPY=X'),\n",
       " ('CADJPY=X', 'USDJPY=X'),\n",
       " ('EURGBP=X', 'EURUSD=X'),\n",
       " ('CADCHF=X', 'CADEUR=X'),\n",
       " ('JPYGBP=X', 'USDCHF=X'),\n",
       " ('CADGBP=X', 'JPYGBP=X'),\n",
       " ('AUDCHF=X', 'CADNZD=X'),\n",
       " ('CADEUR=X', 'JPYNZD=X'),\n",
       " ('CADAUD=X', 'GBPUSD=X'),\n",
       " ('CADNZD=X', 'JPYCAD=X'),\n",
       " ('CHFGBP=X', 'JPYNZD=X'),\n",
       " ('CADGBP=X', 'CHFCAD=X'),\n",
       " ('AUDUSD=X', 'NZDCAD=X'),\n",
       " ('JPYCHF=X', 'NZDAUD=X'),\n",
       " ('CHFCAD=X', 'JPYAUD=X'),\n",
       " ('EURJPY=X', 'GBPJPY=X'),\n",
       " ('CADAUD=X', 'JPYGBP=X'),\n",
       " ('EURNZD=X', 'USDCAD=X'),\n",
       " ('AUDNZD=X', 'JPYCHF=X'),\n",
       " ('CADJPY=X', 'CHFJPY=X'),\n",
       " ('CADGBP=X', 'NZDCHF=X'),\n",
       " ('AUDCHF=X', 'USDCHF=X'),\n",
       " ('CADGBP=X', 'CHFNZD=X'),\n",
       " ('GBPCAD=X', 'JPYAUD=X'),\n",
       " ('CADAUD=X', 'CHFCAD=X'),\n",
       " ('EURGBP=X', 'JPYNZD=X'),\n",
       " ('CADAUD=X', 'CADEUR=X'),\n",
       " ('CHFEUR=X', 'JPYGBP=X'),\n",
       " ('CHFAUD=X', 'CHFNZD=X'),\n",
       " ('CADCHF=X', 'CHFAUD=X'),\n",
       " ('AUDCHF=X', 'CADAUD=X'),\n",
       " ('CADGBP=X', 'CHFEUR=X'),\n",
       " ('EURUSD=X', 'JPYNZD=X'),\n",
       " ('JPYNZD=X', 'USDCHF=X'),\n",
       " ('CADNZD=X', 'CHFAUD=X'),\n",
       " ('CADAUD=X', 'NZDCHF=X'),\n",
       " ('CHFNZD=X', 'EURUSD=X'),\n",
       " ('CHFAUD=X', 'CHFEUR=X'),\n",
       " ('CHFNZD=X', 'USDCHF=X'),\n",
       " ('EURCAD=X', 'JPYAUD=X'),\n",
       " ('CADGBP=X', 'EURUSD=X'),\n",
       " ('GBPUSD=X', 'JPYAUD=X'),\n",
       " ('CADJPY=X', 'EURJPY=X'),\n",
       " ('CHFAUD=X', 'EURUSD=X'),\n",
       " ('CHFEUR=X', 'CHFNZD=X'),\n",
       " ('CHFEUR=X', 'NZDCHF=X'),\n",
       " ('CADAUD=X', 'CADCHF=X'),\n",
       " ('CHFCAD=X', 'CHFEUR=X'),\n",
       " ('CADCHF=X', 'GBPCAD=X'),\n",
       " ('CADEUR=X', 'JPYGBP=X'),\n",
       " ('JPYEUR=X', 'JPYNZD=X'),\n",
       " ('CHFCAD=X', 'EURUSD=X'),\n",
       " ('AUDUSD=X', 'NZDUSD=X'),\n",
       " ('CHFCAD=X', 'USDCHF=X'),\n",
       " ('CHFGBP=X', 'JPYGBP=X'),\n",
       " ('CADGBP=X', 'JPYNZD=X'),\n",
       " ('CADEUR=X', 'CHFCAD=X'),\n",
       " ('GBPJPY=X', 'NZDJPY=X'),\n",
       " ('JPYAUD=X', 'JPYEUR=X'),\n",
       " ('CHFAUD=X', 'JPYNZD=X'),\n",
       " ('GBPCAD=X', 'USDCHF=X'),\n",
       " ('CADGBP=X', 'CHFGBP=X'),\n",
       " ('CADEUR=X', 'NZDCHF=X'),\n",
       " ('CADEUR=X', 'CHFNZD=X'),\n",
       " ('EURAUD=X', 'EURNZD=X'),\n",
       " ('CADNZD=X', 'EURCAD=X'),\n",
       " ('CADAUD=X', 'GBPCAD=X'),\n",
       " ('CHFGBP=X', 'CHFNZD=X'),\n",
       " ('CHFGBP=X', 'NZDCHF=X'),\n",
       " ('EURGBP=X', 'JPYGBP=X'),\n",
       " ('EURCAD=X', 'EURUSD=X'),\n",
       " ('GBPUSD=X', 'USDCHF=X'),\n",
       " ('EURCAD=X', 'USDCHF=X'),\n",
       " ('EURUSD=X', 'JPYGBP=X'),\n",
       " ('CADAUD=X', 'CHFGBP=X'),\n",
       " ('CHFCAD=X', 'JPYNZD=X'),\n",
       " ('AUDCAD=X', 'NZDCAD=X'),\n",
       " ('CHFEUR=X', 'GBPCAD=X'),\n",
       " ('CADAUD=X', 'CADGBP=X'),\n",
       " ('CHFEUR=X', 'CHFGBP=X'),\n",
       " ('AUDCHF=X', 'JPYGBP=X'),\n",
       " ('EURUSD=X', 'NZDCHF=X')]"
      ]
     },
     "execution_count": 57,
     "metadata": {},
     "output_type": "execute_result"
    }
   ],
   "source": [
    "clustered_pairs"
   ]
  },
  {
   "cell_type": "code",
   "execution_count": 58,
   "metadata": {},
   "outputs": [],
   "source": [
    "from libraries.cointegration import CointegrationSpreadSelector\n",
    "\n",
    "# Load data into spread selector\n",
    "sp = CointegrationSpreadSelector(prices_df=data, baskets_to_filter=clustered_pairs)\n",
    "                                                    \n",
    "\n",
    "# Filtered spreads that passed the criteria by specifying hedge ratio calculation method as well as filtering conditions.\n",
    "filtered_spreads = sp.select_spreads()"
   ]
  },
  {
   "cell_type": "code",
   "execution_count": 59,
   "metadata": {},
   "outputs": [
    {
     "data": {
      "text/plain": [
       "array(['AUDCHF=X_GBPCAD=X', 'AUDNZD=X_JPYCHF=X', 'AUDUSD=X_NZDCAD=X',\n",
       "       'CADCHF=X_EURCAD=X', 'CADCHF=X_GBPCAD=X', 'CADEUR=X_CHFCAD=X',\n",
       "       'CADEUR=X_EURCAD=X', 'CADEUR=X_EURGBP=X', 'CADGBP=X_CHFNZD=X',\n",
       "       'CADGBP=X_EURGBP=X', 'CADJPY=X_EURJPY=X', 'CHFAUD=X_CHFGBP=X',\n",
       "       'CHFCAD=X_CHFEUR=X', 'CHFCAD=X_EURUSD=X', 'GBPCAD=X_NZDCHF=X',\n",
       "       'JPYAUD=X_JPYGBP=X', 'JPYCAD=X_JPYEUR=X', 'JPYCHF=X_NZDAUD=X'],\n",
       "      dtype=object)"
      ]
     },
     "execution_count": 59,
     "metadata": {},
     "output_type": "execute_result"
    }
   ],
   "source": [
    "filtered_spreads"
   ]
  },
  {
   "cell_type": "code",
   "execution_count": 72,
   "metadata": {},
   "outputs": [
    {
     "name": "stdout",
     "output_type": "stream",
     "text": [
      "{'coint_t': -2.8835896182430627, 'p_value_99%': -3.431413571953605, 'p_value_95%': -2.862010003154226, 'p_value_90%': -2.56702017991769, 'hurst_exponent': 0.4372942393983069, 'half_life': 218.7270511382184, 'crossovers': 180}\n"
     ]
    }
   ],
   "source": [
    "# The module can also work with user-specified spreads to test if a spread passes cointegration selection criterion.\n",
    "spread = sp.spreads_dict['CHFAUD=X_CHFGBP=X'].copy() # Let's take an arbitrary spread.\n",
    "pairs_selector_custom = CointegrationSpreadSelector(prices_df=None, baskets_to_filter=None)\n",
    "stats = pairs_selector_custom.generate_spread_statistics(spread, log_info=True) # log_info=True to save stats.\n",
    "print(stats)"
   ]
  },
  {
   "cell_type": "code",
   "execution_count": 73,
   "metadata": {},
   "outputs": [
    {
     "name": "stdout",
     "output_type": "stream",
     "text": [
      "['CHFAUD=X_CHFGBP=X']\n"
     ]
    }
   ],
   "source": [
    "filtered_spreads_custom = pairs_selector_custom.apply_filtering_rules(adf_cutoff_threshold=0.9, hurst_exp_threshold=0.5)\n",
    "print(filtered_spreads_custom)"
   ]
  },
  {
   "cell_type": "code",
   "execution_count": 74,
   "metadata": {},
   "outputs": [
    {
     "data": {
      "text/plain": [
       "<Axes: xlabel='Datetime'>"
      ]
     },
     "execution_count": 74,
     "metadata": {},
     "output_type": "execute_result"
    },
    {
     "data": {
      "image/png": "[encoded data removed]",
      "text/plain": [
       "<Figure size 1200x600 with 1 Axes>"
      ]
     },
     "metadata": {},
     "output_type": "display_data"
    }
   ],
   "source": [
    "# Plot one of the spreads\n",
    "sp.spreads_dict['CHFAUD=X_CHFGBP=X'].plot(figsize=(12,6))"
   ]
  },
  {
   "cell_type": "code",
   "execution_count": 75,
   "metadata": {},
   "outputs": [
    {
     "data": {
      "text/html": [
       "<div>\n",
       "<style scoped>\n",
       "    .dataframe tbody tr th:only-of-type {\n",
       "        vertical-align: middle;\n",
       "    }\n",
       "\n",
       "    .dataframe tbody tr th {\n",
       "        vertical-align: top;\n",
       "    }\n",
       "\n",
       "    .dataframe thead th {\n",
       "        text-align: right;\n",
       "    }\n",
       "</style>\n",
       "<table border=\"1\" class=\"dataframe\">\n",
       "  <thead>\n",
       "    <tr style=\"text-align: right;\">\n",
       "      <th></th>\n",
       "      <th>CHFAUD=X_CHFGBP=X</th>\n",
       "    </tr>\n",
       "  </thead>\n",
       "  <tbody>\n",
       "    <tr>\n",
       "      <th>coint_t</th>\n",
       "      <td>-2.88359</td>\n",
       "    </tr>\n",
       "    <tr>\n",
       "      <th>p_value_99%</th>\n",
       "      <td>-3.431414</td>\n",
       "    </tr>\n",
       "    <tr>\n",
       "      <th>p_value_95%</th>\n",
       "      <td>-2.86201</td>\n",
       "    </tr>\n",
       "    <tr>\n",
       "      <th>p_value_90%</th>\n",
       "      <td>-2.56702</td>\n",
       "    </tr>\n",
       "    <tr>\n",
       "      <th>hurst_exponent</th>\n",
       "      <td>0.437294</td>\n",
       "    </tr>\n",
       "    <tr>\n",
       "      <th>half_life</th>\n",
       "      <td>218.727051</td>\n",
       "    </tr>\n",
       "    <tr>\n",
       "      <th>crossovers</th>\n",
       "      <td>180</td>\n",
       "    </tr>\n",
       "    <tr>\n",
       "      <th>hedge_ratio</th>\n",
       "      <td>{'CHFAUD=X': 1.0, 'CHFGBP=X': 1.9209404452768086}</td>\n",
       "    </tr>\n",
       "  </tbody>\n",
       "</table>\n",
       "</div>"
      ],
      "text/plain": [
       "                                                CHFAUD=X_CHFGBP=X\n",
       "coint_t                                                  -2.88359\n",
       "p_value_99%                                             -3.431414\n",
       "p_value_95%                                              -2.86201\n",
       "p_value_90%                                              -2.56702\n",
       "hurst_exponent                                           0.437294\n",
       "half_life                                              218.727051\n",
       "crossovers                                                    180\n",
       "hedge_ratio     {'CHFAUD=X': 1.0, 'CHFGBP=X': 1.9209404452768086}"
      ]
     },
     "execution_count": 75,
     "metadata": {},
     "output_type": "execute_result"
    }
   ],
   "source": [
    "# The following detailed spread statistics can be obtained\n",
    "sp.selection_logs.loc[['CHFAUD=X_CHFGBP=X']].T"
   ]
  },
  {
   "cell_type": "code",
   "execution_count": 67,
   "metadata": {},
   "outputs": [],
   "source": [
    "which_cluster = ps.feature_vector[labels == 4]\n",
    "currencies_list = list(which_cluster.index.values)"
   ]
  },
  {
   "cell_type": "code",
   "execution_count": 68,
   "metadata": {},
   "outputs": [
    {
     "data": {
      "text/plain": [
       "['EURAUD=X', 'EURNZD=X', 'GBPAUD=X', 'GBPNZD=X', 'USDCAD=X']"
      ]
     },
     "execution_count": 68,
     "metadata": {},
     "output_type": "execute_result"
    }
   ],
   "source": [
    "currencies_list"
   ]
  },
  {
   "cell_type": "code",
   "execution_count": 69,
   "metadata": {},
   "outputs": [
    {
     "data": {
      "text/html": [
       "<div>\n",
       "<style scoped>\n",
       "    .dataframe tbody tr th:only-of-type {\n",
       "        vertical-align: middle;\n",
       "    }\n",
       "\n",
       "    .dataframe tbody tr th {\n",
       "        vertical-align: top;\n",
       "    }\n",
       "\n",
       "    .dataframe thead th {\n",
       "        text-align: right;\n",
       "    }\n",
       "</style>\n",
       "<table border=\"1\" class=\"dataframe\">\n",
       "  <thead>\n",
       "    <tr style=\"text-align: right;\">\n",
       "      <th></th>\n",
       "      <th>EURAUD=X</th>\n",
       "      <th>EURNZD=X</th>\n",
       "      <th>GBPAUD=X</th>\n",
       "      <th>GBPNZD=X</th>\n",
       "      <th>USDCAD=X</th>\n",
       "    </tr>\n",
       "    <tr>\n",
       "      <th>Datetime</th>\n",
       "      <th></th>\n",
       "      <th></th>\n",
       "      <th></th>\n",
       "      <th></th>\n",
       "      <th></th>\n",
       "    </tr>\n",
       "  </thead>\n",
       "  <tbody>\n",
       "    <tr>\n",
       "      <th>2023-06-29 00:00:00+01:00</th>\n",
       "      <td>1.65402</td>\n",
       "      <td>1.79707</td>\n",
       "      <td>1.91568</td>\n",
       "      <td>2.08124</td>\n",
       "      <td>1.32527</td>\n",
       "    </tr>\n",
       "    <tr>\n",
       "      <th>2023-06-29 01:00:00+01:00</th>\n",
       "      <td>1.65210</td>\n",
       "      <td>1.79498</td>\n",
       "      <td>1.91378</td>\n",
       "      <td>2.07926</td>\n",
       "      <td>1.32518</td>\n",
       "    </tr>\n",
       "    <tr>\n",
       "      <th>2023-06-29 02:00:00+01:00</th>\n",
       "      <td>1.64793</td>\n",
       "      <td>1.79268</td>\n",
       "      <td>1.90938</td>\n",
       "      <td>2.07716</td>\n",
       "      <td>1.32548</td>\n",
       "    </tr>\n",
       "    <tr>\n",
       "      <th>2023-06-29 03:00:00+01:00</th>\n",
       "      <td>1.64872</td>\n",
       "      <td>1.79331</td>\n",
       "      <td>1.91097</td>\n",
       "      <td>2.07859</td>\n",
       "      <td>1.32650</td>\n",
       "    </tr>\n",
       "    <tr>\n",
       "      <th>2023-06-29 04:00:00+01:00</th>\n",
       "      <td>1.64818</td>\n",
       "      <td>1.79166</td>\n",
       "      <td>1.91032</td>\n",
       "      <td>2.07675</td>\n",
       "      <td>1.32681</td>\n",
       "    </tr>\n",
       "    <tr>\n",
       "      <th>...</th>\n",
       "      <td>...</td>\n",
       "      <td>...</td>\n",
       "      <td>...</td>\n",
       "      <td>...</td>\n",
       "      <td>...</td>\n",
       "    </tr>\n",
       "    <tr>\n",
       "      <th>2024-06-28 17:00:00+01:00</th>\n",
       "      <td>1.60553</td>\n",
       "      <td>1.75788</td>\n",
       "      <td>1.89405</td>\n",
       "      <td>2.07382</td>\n",
       "      <td>1.36748</td>\n",
       "    </tr>\n",
       "    <tr>\n",
       "      <th>2024-06-28 18:00:00+01:00</th>\n",
       "      <td>1.60566</td>\n",
       "      <td>1.75714</td>\n",
       "      <td>1.89432</td>\n",
       "      <td>2.07294</td>\n",
       "      <td>1.36756</td>\n",
       "    </tr>\n",
       "    <tr>\n",
       "      <th>2024-06-28 19:00:00+01:00</th>\n",
       "      <td>1.60608</td>\n",
       "      <td>1.75742</td>\n",
       "      <td>1.89529</td>\n",
       "      <td>2.07408</td>\n",
       "      <td>1.36863</td>\n",
       "    </tr>\n",
       "    <tr>\n",
       "      <th>2024-06-28 20:00:00+01:00</th>\n",
       "      <td>1.60534</td>\n",
       "      <td>1.75817</td>\n",
       "      <td>1.89475</td>\n",
       "      <td>2.07510</td>\n",
       "      <td>1.36820</td>\n",
       "    </tr>\n",
       "    <tr>\n",
       "      <th>2024-06-28 21:00:00+01:00</th>\n",
       "      <td>1.60590</td>\n",
       "      <td>1.75776</td>\n",
       "      <td>1.89556</td>\n",
       "      <td>2.07464</td>\n",
       "      <td>1.36781</td>\n",
       "    </tr>\n",
       "  </tbody>\n",
       "</table>\n",
       "<p>6153 rows × 5 columns</p>\n",
       "</div>"
      ],
      "text/plain": [
       "                           EURAUD=X  EURNZD=X  GBPAUD=X  GBPNZD=X  USDCAD=X\n",
       "Datetime                                                                   \n",
       "2023-06-29 00:00:00+01:00   1.65402   1.79707   1.91568   2.08124   1.32527\n",
       "2023-06-29 01:00:00+01:00   1.65210   1.79498   1.91378   2.07926   1.32518\n",
       "2023-06-29 02:00:00+01:00   1.64793   1.79268   1.90938   2.07716   1.32548\n",
       "2023-06-29 03:00:00+01:00   1.64872   1.79331   1.91097   2.07859   1.32650\n",
       "2023-06-29 04:00:00+01:00   1.64818   1.79166   1.91032   2.07675   1.32681\n",
       "...                             ...       ...       ...       ...       ...\n",
       "2024-06-28 17:00:00+01:00   1.60553   1.75788   1.89405   2.07382   1.36748\n",
       "2024-06-28 18:00:00+01:00   1.60566   1.75714   1.89432   2.07294   1.36756\n",
       "2024-06-28 19:00:00+01:00   1.60608   1.75742   1.89529   2.07408   1.36863\n",
       "2024-06-28 20:00:00+01:00   1.60534   1.75817   1.89475   2.07510   1.36820\n",
       "2024-06-28 21:00:00+01:00   1.60590   1.75776   1.89556   2.07464   1.36781\n",
       "\n",
       "[6153 rows x 5 columns]"
      ]
     },
     "execution_count": 69,
     "metadata": {},
     "output_type": "execute_result"
    }
   ],
   "source": [
    "data[currencies_list]"
   ]
  },
  {
   "cell_type": "code",
   "execution_count": 70,
   "metadata": {},
   "outputs": [],
   "source": [
    "import numpy as np\n",
    "\n",
    "def plot_cluster_relative_to_mean(data_df, currencies_list):\n",
    "    pricing = data_df[currencies_list]\n",
    "    means = np.log(pricing).mean()\n",
    "    data = np.log(pricing).sub(means)\n",
    "    \n",
    "    means = data.mean(axis=1).rolling(window=21).mean().shift(1) # shift to avoid look-ahead bias\n",
    "    data.sub(means, axis=0).plot()\n",
    "    plt.axhline(0, lw=3, ls='--', label='mean', color='k')\n",
    "    plt.ylabel('Price divergence from group mean')\n",
    "    plt.legend(loc=0)"
   ]
  },
  {
   "cell_type": "code",
   "execution_count": 71,
   "metadata": {},
   "outputs": [
    {
     "data": {
      "image/png": "[encoded data removed]",
      "text/plain": [
       "<Figure size 640x480 with 1 Axes>"
      ]
     },
     "metadata": {},
     "output_type": "display_data"
    }
   ],
   "source": [
    "plot_cluster_relative_to_mean(data, currencies_list)"
   ]
  },
  {
   "cell_type": "code",
   "execution_count": null,
   "metadata": {},
   "outputs": [],
   "source": []
  }
 ],
 "metadata": {
  "kernelspec": {
   "display_name": "trading_Algo",
   "language": "python",
   "name": "python3"
  },
  "language_info": {
   "codemirror_mode": {
    "name": "ipython",
    "version": 3
   },
   "file_extension": ".py",
   "mimetype": "text/x-python",
   "name": "python",
   "nbconvert_exporter": "python",
   "pygments_lexer": "ipython3",
   "version": "3.9.13"
  }
 },
 "nbformat": 4,
 "nbformat_minor": 2
}
